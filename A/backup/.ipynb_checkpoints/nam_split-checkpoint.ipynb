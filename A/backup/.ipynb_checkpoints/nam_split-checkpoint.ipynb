{
 "cells": [
  {
   "cell_type": "code",
   "execution_count": 7,
   "id": "3352994d-4dde-4b2e-aae1-8ab4febd4de1",
   "metadata": {},
   "outputs": [
    {
     "name": "stdout",
     "output_type": "stream",
     "text": [
      "Done\n"
     ]
    }
   ],
   "source": [
    "import pandas as pd\n",
    "import numpy as np\n",
    "import os\n",
    "\n",
    "from sklearn.model_selection import train_test_split\n",
    "from iterstrat.ml_stratifiers import MultilabelStratifiedKFold\n",
    "import nbimporter\n",
    "from utlis import save_split_dir\n",
    "\n",
    "class Split():\n",
    "\n",
    "    '''\n",
    "    INPUT: \n",
    "        Data path, \n",
    "        n_split = (\n",
    "            2: 50% - 50% (Train - test),\n",
    "            3: 60% - 40%,\n",
    "            5: 80% - 20%\n",
    "        )\n",
    "\n",
    "    OUTPUT: 80-10-10 TRAIN-DEV-TEST\n",
    "        X_train, y_train, X_val, y_val, X_test, y_test\n",
    "    '''\n",
    "\n",
    "    def __init__(self, data_path , n_split):\n",
    "        self.data_path = data_path\n",
    "        self.n_split = n_split\n",
    "\n",
    "    def preprocess_data_format(self):\n",
    "        labels = ['giai_tri', 'luu_tru', 'nha_hang', 'an_uong', 'di_chuyen', 'mua_sam']\n",
    "        data = pd.read_csv(self.data_path)\n",
    "        X = data.drop(columns=labels)\n",
    "        y = data[labels]\n",
    "\n",
    "        X = X.to_numpy()\n",
    "        y = y.to_numpy()\n",
    "\n",
    "        return X, y\n",
    "\n",
    "    def count_label_distribution(self, y):\n",
    "        label_counts = pd.DataFrame(data=y, columns=['giai_tri', 'luu_tru', 'nha_hang', 'an_uong', 'di_chuyen', 'mua_sam'])\n",
    "        label_distribution = label_counts.apply(lambda x: x.value_counts()).fillna(0).astype(int)\n",
    "        return label_distribution\n",
    "\n",
    "    def split(self, X, y):\n",
    "        mskf = MultilabelStratifiedKFold(n_splits=self.n_split, shuffle=True, random_state=0)\n",
    "        for train_index, test_index in mskf.split(X, y):\n",
    "            X_train, X_test = X[train_index], X[test_index]\n",
    "            y_train, y_test = y[train_index], y[test_index]\n",
    "        \n",
    "        \n",
    "\n",
    "        return X_train, y_train, X_test, y_test\n",
    "\n",
    "    def test_distribution(self):\n",
    "        X, y = self.preprocess_data_format()\n",
    "        X_train, y_train, X_test, y_test = self.split(X, y)\n",
    "\n",
    "        train_label_distribution = self.count_label_distribution(y_train)\n",
    "        test_label_distribution = self.count_label_distribution(y_test)\n",
    "\n",
    "        return X_train, y_train, X_test, y_test, train_label_distribution, test_label_distribution\n",
    "\n",
    "    def run(self):\n",
    "        X, y = self.preprocess_data_format()\n",
    "        X_train, y_train, X_test, y_test = self.split(X, y)\n",
    "\n",
    "        train_df = pd.DataFrame(data={'Review': X_train[:, 0]})\n",
    "        train_df = pd.concat([train_df, pd.DataFrame(data=y_train, columns=['giai_tri', 'luu_tru', 'nha_hang', 'an_uong', 'di_chuyen', 'mua_sam'])], axis=1)\n",
    "\n",
    "        test_df = pd.DataFrame(data={'Review': X_test[:, 0]})\n",
    "        test_df = pd.concat([test_df, pd.DataFrame(data=y_test, columns=['giai_tri', 'luu_tru', 'nha_hang', 'an_uong', 'di_chuyen', 'mua_sam'])], axis=1)           \n",
    "\n",
    "        return train_df, test_df\n",
    "\n",
    "if __name__ == \"__main__\":\n",
    "    path = r\"D:\\FSoft\\Review_Ana\\Dream_Tim\\A\\datasets\\data_original\\Original-datasets.csv\"\n",
    "    split = Split(path, 5)\n",
    "    train_df, test_df = split.run()\n",
    "    save_split_dir(train_df, test_df)\n",
    "    print(\"Done\")"
   ]
  },
  {
   "cell_type": "code",
   "execution_count": null,
   "id": "0ffae3bf-723e-456f-8d0b-5f0892967dc8",
   "metadata": {},
   "outputs": [],
   "source": []
  }
 ],
 "metadata": {
  "kernelspec": {
   "display_name": "Python 3 (ipykernel)",
   "language": "python",
   "name": "python3"
  },
  "language_info": {
   "codemirror_mode": {
    "name": "ipython",
    "version": 3
   },
   "file_extension": ".py",
   "mimetype": "text/x-python",
   "name": "python",
   "nbconvert_exporter": "python",
   "pygments_lexer": "ipython3",
   "version": "3.10.7"
  },
  "widgets": {
   "application/vnd.jupyter.widget-state+json": {
    "state": {},
    "version_major": 2,
    "version_minor": 0
   }
  }
 },
 "nbformat": 4,
 "nbformat_minor": 5
}
