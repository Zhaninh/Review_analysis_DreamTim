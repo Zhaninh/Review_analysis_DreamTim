{
 "cells": [
  {
   "cell_type": "code",
   "execution_count": 1,
   "id": "7138073f-4c04-4139-9d3a-8ef987326f09",
   "metadata": {},
   "outputs": [
    {
     "name": "stderr",
     "output_type": "stream",
     "text": [
      "C:\\Users\\lemai\\AppData\\Local\\Programs\\Python\\Python310\\lib\\site-packages\\numpy\\_distributor_init.py:30: UserWarning: loaded more than 1 DLL from .libs:\n",
      "C:\\Users\\lemai\\AppData\\Local\\Programs\\Python\\Python310\\lib\\site-packages\\numpy\\.libs\\libopenblas.FB5AE2TYXYH2IJRDKGDGQ3XBKLKTF43H.gfortran-win_amd64.dll\n",
      "C:\\Users\\lemai\\AppData\\Local\\Programs\\Python\\Python310\\lib\\site-packages\\numpy\\.libs\\libopenblas64__v0.3.21-gcc_10_3_0.dll\n",
      "  warnings.warn(\"loaded more than 1 DLL from .libs:\"\n"
     ]
    }
   ],
   "source": [
    "from transformers import AdamW, get_scheduler\n",
    "from torch.utils.data import DataLoader\n",
    "from vncorenlp import VnCoreNLP\n",
    "from tqdm.auto import tqdm\n",
    "import numpy as np\n",
    "import torch\n",
    "import random\n",
    "from datasets import load_dataset\n",
    "\n",
    "\n",
    "import nbimporter\n",
    "from preprocessing import preprocess\n",
    "from models import CustomXLMModel\n",
    "from metrics import *\n",
    "from loss import *"
   ]
  },
  {
   "cell_type": "code",
   "execution_count": null,
   "id": "891d972b-210e-41e6-ba8e-89d101fadb46",
   "metadata": {},
   "outputs": [
    {
     "data": {
      "application/vnd.jupyter.widget-view+json": {
       "model_id": "b7eeb9074b764f72a9a9f56b845fb3aa",
       "version_major": 2,
       "version_minor": 0
      },
      "text/plain": [
       "Map:   0%|          | 0/2951 [00:00<?, ? examples/s]"
      ]
     },
     "metadata": {},
     "output_type": "display_data"
    },
    {
     "data": {
      "application/vnd.jupyter.widget-view+json": {
       "model_id": "2d8b48631b8442919baafe8fca3e7487",
       "version_major": 2,
       "version_minor": 0
      },
      "text/plain": [
       "Map:   0%|          | 0/737 [00:00<?, ? examples/s]"
      ]
     },
     "metadata": {},
     "output_type": "display_data"
    },
    {
     "data": {
      "application/vnd.jupyter.widget-view+json": {
       "model_id": "3b02183126944ac9823a7244553ed333",
       "version_major": 2,
       "version_minor": 0
      },
      "text/plain": [
       "Map:   0%|          | 0/2951 [00:00<?, ? examples/s]"
      ]
     },
     "metadata": {},
     "output_type": "display_data"
    },
    {
     "data": {
      "application/vnd.jupyter.widget-view+json": {
       "model_id": "a321644f6d6740feb7053c8cc9fabca7",
       "version_major": 2,
       "version_minor": 0
      },
      "text/plain": [
       "Map:   0%|          | 0/737 [00:00<?, ? examples/s]"
      ]
     },
     "metadata": {},
     "output_type": "display_data"
    },
    {
     "data": {
      "application/vnd.jupyter.widget-view+json": {
       "model_id": "43f497e330924e499351c263c8f323ce",
       "version_major": 2,
       "version_minor": 0
      },
      "text/plain": [
       "Map:   0%|          | 0/2951 [00:00<?, ? examples/s]"
      ]
     },
     "metadata": {},
     "output_type": "display_data"
    },
    {
     "data": {
      "application/vnd.jupyter.widget-view+json": {
       "model_id": "66428ccc178a403499ca0ad3e1e80d1a",
       "version_major": 2,
       "version_minor": 0
      },
      "text/plain": [
       "Map:   0%|          | 0/737 [00:00<?, ? examples/s]"
      ]
     },
     "metadata": {},
     "output_type": "display_data"
    },
    {
     "data": {
      "application/vnd.jupyter.widget-view+json": {
       "model_id": "b889b4aaa3814092939a023f9dbe2edc",
       "version_major": 2,
       "version_minor": 0
      },
      "text/plain": [
       "Map:   0%|          | 0/2951 [00:00<?, ? examples/s]"
      ]
     },
     "metadata": {},
     "output_type": "display_data"
    },
    {
     "data": {
      "application/vnd.jupyter.widget-view+json": {
       "model_id": "faeb8a3e284e4a6e903655917547990d",
       "version_major": 2,
       "version_minor": 0
      },
      "text/plain": [
       "Map:   0%|          | 0/737 [00:00<?, ? examples/s]"
      ]
     },
     "metadata": {},
     "output_type": "display_data"
    },
    {
     "name": "stderr",
     "output_type": "stream",
     "text": [
      "D:\\FSoft\\Review_Ana\\Dream_Tim\\A\\phobert\\transformers\\src\\transformers\\optimization.py:411: FutureWarning: This implementation of AdamW is deprecated and will be removed in a future version. Use the PyTorch implementation torch.optim.AdamW instead, or set `no_deprecation_warning=True` to disable this warning\n",
      "  warnings.warn(\n"
     ]
    },
    {
     "data": {
      "application/vnd.jupyter.widget-view+json": {
       "model_id": "aab58d3d792e40909a516d491e1d154d",
       "version_major": 2,
       "version_minor": 0
      },
      "text/plain": [
       "  0%|          | 0/930 [00:00<?, ?it/s]"
      ]
     },
     "metadata": {},
     "output_type": "display_data"
    },
    {
     "data": {
      "application/vnd.jupyter.widget-view+json": {
       "model_id": "412302a0e10948f19367bf01691bd3b9",
       "version_major": 2,
       "version_minor": 0
      },
      "text/plain": [
       "  0%|          | 0/240 [00:00<?, ?it/s]"
      ]
     },
     "metadata": {},
     "output_type": "display_data"
    }
   ],
   "source": [
    "# Set Seed\n",
    "seed = 42\n",
    "torch.manual_seed(seed)\n",
    "torch.cuda.manual_seed(seed)\n",
    "torch.cuda.manual_seed_all(seed)\n",
    "np.random.seed(seed)\n",
    "random.seed(seed)\n",
    "torch.backends.cudnn.benchmark = False\n",
    "torch.backends.cudnn.deterministic = True\n",
    "\n",
    "\n",
    "# Load datasets\n",
    "data_files = {'train': r\"D:\\FSoft\\Review_Ana\\Dream_Tim\\A\\datasets\\data_split\\trainset.csv\", \n",
    "              'test': r\"D:\\FSoft\\Review_Ana\\Dream_Tim\\A\\datasets\\data_split\\testset.csv\"}\n",
    "\n",
    "dataset = load_dataset('csv', data_files=data_files)\n",
    "\n",
    "# Preprocess\n",
    "preprocess = preprocess()\n",
    "tokenized_datasets = preprocess.run(dataset)\n",
    "\n",
    "train_dataloader = DataLoader(tokenized_datasets[\"train\"], \n",
    "                              batch_size=32, \n",
    "                              shuffle=True)\n",
    "\n",
    "test_dataloader = DataLoader(tokenized_datasets[\"test\"], \n",
    "                             batch_size=32)\n",
    "\n",
    "# Model \n",
    "model = CustomXLMModel(num_classification_labels=6, num_regression_neurons=30)\n",
    "\n",
    "device = 'cuda' if torch.cuda.is_available() else 'cpu'\n",
    "model.to(device)\n",
    "\n",
    "# Optimizer\n",
    "optimizer = AdamW(model.parameters(), lr=5e-5)\n",
    "num_epochs = 10\n",
    "num_training_steps = num_epochs*len(train_dataloader)\n",
    "lr_scheduler = get_scheduler(\n",
    "    'linear',\n",
    "    optimizer=optimizer,\n",
    "    num_warmup_steps=0,\n",
    "    num_training_steps=num_training_steps\n",
    ")\n",
    "\n",
    "# Training\n",
    "pb_train = tqdm(range(num_training_steps))\n",
    "pb_test = tqdm(range(num_epochs*len(test_dataloader)))\n",
    "best_score = -1\n",
    "\n",
    "for epoch in range(num_epochs):\n",
    "    train_loss = 0\n",
    "    val_loss = 0\n",
    "    \n",
    "    # Train\n",
    "    model.train()\n",
    "    for batch in train_dataloader:\n",
    "        inputs = {'input_ids': batch['input_ids'].to(device),\n",
    "                  'attention_mask': batch['attention_mask'].to(device)}\n",
    "        outputs_classifier, outputs_regressor = model(**inputs)\n",
    "\n",
    "        # Calculate the losses\n",
    "        loss1 = sigmoid_focal_loss(outputs_classifier, batch['labels_classifier'].to(device).float(), alpha=-1, gamma=1,reduction='mean')\n",
    "        loss2 = loss_softmax(outputs_regressor, batch['labels_regressor'].to(device).float(), device)\n",
    "\n",
    "        loss = 10*loss1 + loss2\n",
    "\n",
    "        optimizer.zero_grad()\n",
    "        loss.backward()\n",
    "        optimizer.step()       \n",
    "        lr_scheduler.step()\n",
    "        pb_train.update(1)\n",
    "        pb_train.set_postfix(loss_classifier=loss1.item(), loss_regressor=loss2.item(), loss=loss.item())\n",
    "        train_loss += loss.item() / len(train_dataloader)\n",
    "    print(\"Train Loss:\", train_loss)\n",
    "    \n",
    "    # Evaluate\n",
    "    # model.eval()\n",
    "    val_loss = ScalarMetric()\n",
    "    val_loss_classifier = ScalarMetric()\n",
    "    val_loss_regressor = ScalarMetric()\n",
    "    val_acc = accuracy()\n",
    "    val_f1_score = f1_score()\n",
    "    val_r2_score = r2_score()\n",
    "    num = 0\n",
    "    correct = 0\n",
    "    result = None\n",
    "    model.eval()\n",
    "    for batch in test_dataloader:\n",
    "        inputs = {'input_ids': batch['input_ids'].to(device),\n",
    "                'attention_mask': batch['attention_mask'].to(device)}\n",
    "        with torch.no_grad():\n",
    "            outputs_classifier, outputs_regressor = model(**inputs)\n",
    "            loss1 = loss_classifier(outputs_classifier, batch['labels_classifier'].to(device).float())\n",
    "            loss2 = loss_softmax(outputs_regressor, batch['labels_regressor'].to(device).float(), device)\n",
    "            loss = loss1 + loss2\n",
    "            outputs_classifier = outputs_classifier.cpu().numpy()\n",
    "            outputs_regressor = outputs_regressor.cpu().numpy()\n",
    "            outputs_regressor = outputs_regressor.argmax(axis=-1) + 1\n",
    "            y_true = batch['labels_regressor'].numpy()\n",
    "            outputs = pred_to_label(outputs_classifier, outputs_regressor)\n",
    "            result = np.concatenate([result, np.round(outputs)], axis=0) if result is not None else np.round(outputs)\n",
    "            val_loss_classifier.update(loss1.item())\n",
    "            val_loss_regressor.update(loss2.item())\n",
    "            val_loss.update(loss.item())\n",
    "            val_acc.update(np.round(outputs), y_true)\n",
    "            val_f1_score.update(np.round(outputs), y_true)\n",
    "            val_r2_score.update(np.round(outputs), y_true)\n",
    "            pb_test.update(1)\n",
    "            \n",
    "    f1_score = val_f1_score.compute()\n",
    "    r2_score = val_r2_score.compute()\n",
    "    final_score = (f1_score * r2_score).sum()*1/6\n",
    "    \n",
    "    if final_score > best_score:\n",
    "        best_score = final_score\n",
    "        torch.save(model.state_dict(), r\"D:\\FSoft\\Review_Ana\\Dream_Tim\\A\\weights\\model.pt\")\n",
    "        \n",
    "    print(\"Test Loss:\", val_loss.compute(), \"Loss Classifier:\", val_loss_classifier.compute(), \"Loss Regressor:\", val_loss_regressor.compute())\n",
    "    print(\"Acc\", val_acc.compute())\n",
    "    print(\"F1_score\", f1_score)\n",
    "    print(\"R2_score\", r2_score)\n",
    "    print(\"Final_score\", final_score)\n",
    "    print(\"Best_score\", best_score)"
   ]
  }
 ],
 "metadata": {
  "kernelspec": {
   "display_name": "Python 3 (ipykernel)",
   "language": "python",
   "name": "python3"
  },
  "language_info": {
   "codemirror_mode": {
    "name": "ipython",
    "version": 3
   },
   "file_extension": ".py",
   "mimetype": "text/x-python",
   "name": "python",
   "nbconvert_exporter": "python",
   "pygments_lexer": "ipython3",
   "version": "3.10.7"
  },
  "widgets": {
   "application/vnd.jupyter.widget-state+json": {
    "state": {
     "054a46d7d6c447e68cec95c5466f4aed": {
      "model_module": "@jupyter-widgets/base",
      "model_module_version": "2.0.0",
      "model_name": "LayoutModel",
      "state": {}
     },
     "07fe9fa5b69e4995bf641b2940c7f2c9": {
      "model_module": "@jupyter-widgets/controls",
      "model_module_version": "2.0.0",
      "model_name": "ProgressStyleModel",
      "state": {
       "description_width": ""
      }
     },
     "085d5bb57ab24cf3b2612835a6ce0b26": {
      "model_module": "@jupyter-widgets/base",
      "model_module_version": "2.0.0",
      "model_name": "LayoutModel",
      "state": {}
     },
     "0a9eed00d4614a9ea17af8b7abc8594c": {
      "model_module": "@jupyter-widgets/controls",
      "model_module_version": "2.0.0",
      "model_name": "ProgressStyleModel",
      "state": {
       "description_width": ""
      }
     },
     "0b4ebfcb324248aba2debda71cd48545": {
      "model_module": "@jupyter-widgets/base",
      "model_module_version": "2.0.0",
      "model_name": "LayoutModel",
      "state": {}
     },
     "0ca324c33f744deebe0e20d852744a38": {
      "model_module": "@jupyter-widgets/base",
      "model_module_version": "2.0.0",
      "model_name": "LayoutModel",
      "state": {}
     },
     "0d6b598eb52745dab0ded8df5fc6e607": {
      "model_module": "@jupyter-widgets/base",
      "model_module_version": "2.0.0",
      "model_name": "LayoutModel",
      "state": {}
     },
     "0d91946ce6cf4dff9b38a147a7bf9c84": {
      "model_module": "@jupyter-widgets/controls",
      "model_module_version": "2.0.0",
      "model_name": "FloatProgressModel",
      "state": {
       "layout": "IPY_MODEL_85fa4cb379a4418d94768b0fa3b191db",
       "max": 240,
       "style": "IPY_MODEL_07fe9fa5b69e4995bf641b2940c7f2c9"
      }
     },
     "0ec6302a52d14a8294aafd515f262111": {
      "model_module": "@jupyter-widgets/controls",
      "model_module_version": "2.0.0",
      "model_name": "HTMLStyleModel",
      "state": {
       "description_width": "",
       "font_size": null,
       "text_color": null
      }
     },
     "1983fb84697f422eaf89f1a8b956ed3c": {
      "model_module": "@jupyter-widgets/controls",
      "model_module_version": "2.0.0",
      "model_name": "HTMLStyleModel",
      "state": {
       "description_width": "",
       "font_size": null,
       "text_color": null
      }
     },
     "1a6fec6fd0cd47a697c889544bb03f6f": {
      "model_module": "@jupyter-widgets/controls",
      "model_module_version": "2.0.0",
      "model_name": "HTMLModel",
      "state": {
       "layout": "IPY_MODEL_b014bcf049f44882bfa387cf76549394",
       "style": "IPY_MODEL_d52b888700b248e4aa9d5478f998acd6",
       "value": " 737/737 [00:01&lt;00:00, 664.74 examples/s]"
      }
     },
     "1c889858c68a4b75ba7d989340f80b4c": {
      "model_module": "@jupyter-widgets/controls",
      "model_module_version": "2.0.0",
      "model_name": "HTMLStyleModel",
      "state": {
       "description_width": "",
       "font_size": null,
       "text_color": null
      }
     },
     "2018b072796444bc8091ebf2aa8a5bcb": {
      "model_module": "@jupyter-widgets/controls",
      "model_module_version": "2.0.0",
      "model_name": "HTMLModel",
      "state": {
       "layout": "IPY_MODEL_8fe28cbf86e044eba7e3077890a77f3d",
       "style": "IPY_MODEL_35651876c2e14e39a65de4d4dc110d74",
       "value": "Map: 100%"
      }
     },
     "213584b419604fe1bee2d006fcdb0397": {
      "model_module": "@jupyter-widgets/base",
      "model_module_version": "2.0.0",
      "model_name": "LayoutModel",
      "state": {}
     },
     "2c9757978c0d4764ab7e830694a72936": {
      "model_module": "@jupyter-widgets/controls",
      "model_module_version": "2.0.0",
      "model_name": "HTMLStyleModel",
      "state": {
       "description_width": "",
       "font_size": null,
       "text_color": null
      }
     },
     "2d8b48631b8442919baafe8fca3e7487": {
      "model_module": "@jupyter-widgets/controls",
      "model_module_version": "2.0.0",
      "model_name": "HBoxModel",
      "state": {
       "children": [
        "IPY_MODEL_cf3afd3d0d9049979f80061a87bd0457",
        "IPY_MODEL_ebb0b99feb5f4cc1a6b283564accbe40",
        "IPY_MODEL_6d22ab7a1d9c49ab8d6682afa9473dfb"
       ],
       "layout": "IPY_MODEL_b4c515adeb184364bd798ee39c1ffbf1"
      }
     },
     "2e4c3c5912854b67965fd78bdac12cce": {
      "model_module": "@jupyter-widgets/controls",
      "model_module_version": "2.0.0",
      "model_name": "HTMLStyleModel",
      "state": {
       "description_width": "",
       "font_size": null,
       "text_color": null
      }
     },
     "3085de18fd5940848e9d4b3e0c4bbefb": {
      "model_module": "@jupyter-widgets/controls",
      "model_module_version": "2.0.0",
      "model_name": "ProgressStyleModel",
      "state": {
       "description_width": ""
      }
     },
     "31b0c02d8d3d489c825abca906935f0a": {
      "model_module": "@jupyter-widgets/controls",
      "model_module_version": "2.0.0",
      "model_name": "FloatProgressModel",
      "state": {
       "bar_style": "success",
       "layout": "IPY_MODEL_a3868b2493b947b1b910b056e33d5799",
       "max": 2951,
       "style": "IPY_MODEL_5c5b6158ae6a479eb0aff57f066cf7c4",
       "value": 2951
      }
     },
     "35651876c2e14e39a65de4d4dc110d74": {
      "model_module": "@jupyter-widgets/controls",
      "model_module_version": "2.0.0",
      "model_name": "HTMLStyleModel",
      "state": {
       "description_width": "",
       "font_size": null,
       "text_color": null
      }
     },
     "3588505f09f447aab597cd582a0c67d9": {
      "model_module": "@jupyter-widgets/controls",
      "model_module_version": "2.0.0",
      "model_name": "FloatProgressModel",
      "state": {
       "bar_style": "success",
       "layout": "IPY_MODEL_ed15af606a44485e92e29e4a1fc589a0",
       "max": 737,
       "style": "IPY_MODEL_6d6dc83226494f249a1f120ed48880ba",
       "value": 737
      }
     },
     "3a1b05a53fdb45ecb52ca6914a66f7dd": {
      "model_module": "@jupyter-widgets/controls",
      "model_module_version": "2.0.0",
      "model_name": "HTMLStyleModel",
      "state": {
       "description_width": "",
       "font_size": null,
       "text_color": null
      }
     },
     "3b02183126944ac9823a7244553ed333": {
      "model_module": "@jupyter-widgets/controls",
      "model_module_version": "2.0.0",
      "model_name": "HBoxModel",
      "state": {
       "children": [
        "IPY_MODEL_6ac0511bff974447a8a793cdd9b2d915",
        "IPY_MODEL_58726caf5436474db59c7db09ab10863",
        "IPY_MODEL_67e3f69a8f894b06a12aac898bb74345"
       ],
       "layout": "IPY_MODEL_a0c78c2468b74a248c4132738d7facab"
      }
     },
     "3b5d98992b5a41b681a82d7dfb287c87": {
      "model_module": "@jupyter-widgets/base",
      "model_module_version": "2.0.0",
      "model_name": "LayoutModel",
      "state": {}
     },
     "3fcf56efa4004a95aa696a6594b7bbf2": {
      "model_module": "@jupyter-widgets/controls",
      "model_module_version": "2.0.0",
      "model_name": "ProgressStyleModel",
      "state": {
       "description_width": ""
      }
     },
     "412302a0e10948f19367bf01691bd3b9": {
      "model_module": "@jupyter-widgets/controls",
      "model_module_version": "2.0.0",
      "model_name": "HBoxModel",
      "state": {
       "children": [
        "IPY_MODEL_4fecddccf0d442e384506a68ee0904ae",
        "IPY_MODEL_0d91946ce6cf4dff9b38a147a7bf9c84",
        "IPY_MODEL_e7ee3d90daab40b4a5cef27f4b55384d"
       ],
       "layout": "IPY_MODEL_d361ed8885a94c318c8d988d3f34652a"
      }
     },
     "41a175fbcbf84fe5849be4b9d37aedbd": {
      "model_module": "@jupyter-widgets/base",
      "model_module_version": "2.0.0",
      "model_name": "LayoutModel",
      "state": {}
     },
     "43f497e330924e499351c263c8f323ce": {
      "model_module": "@jupyter-widgets/controls",
      "model_module_version": "2.0.0",
      "model_name": "HBoxModel",
      "state": {
       "children": [
        "IPY_MODEL_e2392848478d4516bf593af7df55cc8f",
        "IPY_MODEL_d5fdc4c8d00f40cf95d9bfb20517d4c2",
        "IPY_MODEL_74106510008c479b9be2eccd002cf7ff"
       ],
       "layout": "IPY_MODEL_625e099714e248fea27d0328fcbc9727"
      }
     },
     "4c82c25769bc4c4faa94a13a945a243c": {
      "model_module": "@jupyter-widgets/base",
      "model_module_version": "2.0.0",
      "model_name": "LayoutModel",
      "state": {}
     },
     "4f6f3cac23294e1db87322f5c4cfe327": {
      "model_module": "@jupyter-widgets/controls",
      "model_module_version": "2.0.0",
      "model_name": "HTMLStyleModel",
      "state": {
       "description_width": "",
       "font_size": null,
       "text_color": null
      }
     },
     "4fecddccf0d442e384506a68ee0904ae": {
      "model_module": "@jupyter-widgets/controls",
      "model_module_version": "2.0.0",
      "model_name": "HTMLModel",
      "state": {
       "layout": "IPY_MODEL_0d6b598eb52745dab0ded8df5fc6e607",
       "style": "IPY_MODEL_7c4b3a20df864816bd149accfc998b48",
       "value": "  0%"
      }
     },
     "565473612d4d4eb2ac503c2a1e274621": {
      "model_module": "@jupyter-widgets/base",
      "model_module_version": "2.0.0",
      "model_name": "LayoutModel",
      "state": {}
     },
     "58726caf5436474db59c7db09ab10863": {
      "model_module": "@jupyter-widgets/controls",
      "model_module_version": "2.0.0",
      "model_name": "FloatProgressModel",
      "state": {
       "bar_style": "success",
       "layout": "IPY_MODEL_b6d6ad205c4049c39ce5244392746d3e",
       "max": 2951,
       "style": "IPY_MODEL_d5c228eced794b3f82899337fb744667",
       "value": 2951
      }
     },
     "5bccf9dce41a49bda79df25476ca2207": {
      "model_module": "@jupyter-widgets/base",
      "model_module_version": "2.0.0",
      "model_name": "LayoutModel",
      "state": {}
     },
     "5c5b6158ae6a479eb0aff57f066cf7c4": {
      "model_module": "@jupyter-widgets/controls",
      "model_module_version": "2.0.0",
      "model_name": "ProgressStyleModel",
      "state": {
       "description_width": ""
      }
     },
     "5cd46a948a2643feaf8dc2e07fbb17a3": {
      "model_module": "@jupyter-widgets/controls",
      "model_module_version": "2.0.0",
      "model_name": "HTMLModel",
      "state": {
       "layout": "IPY_MODEL_6ff8b02168f44301b428aeb80e5f6552",
       "style": "IPY_MODEL_7b3adcef4f5140ddb89cff6179c5f05c",
       "value": "Map: 100%"
      }
     },
     "5e20090a25424f1195afbc74f9a2114a": {
      "model_module": "@jupyter-widgets/base",
      "model_module_version": "2.0.0",
      "model_name": "LayoutModel",
      "state": {}
     },
     "5ed6d7a6b101430db6863ca58b30d031": {
      "model_module": "@jupyter-widgets/controls",
      "model_module_version": "2.0.0",
      "model_name": "HTMLStyleModel",
      "state": {
       "description_width": "",
       "font_size": null,
       "text_color": null
      }
     },
     "6095f03230ab432c83a9bdd347c413a3": {
      "model_module": "@jupyter-widgets/controls",
      "model_module_version": "2.0.0",
      "model_name": "HTMLStyleModel",
      "state": {
       "description_width": "",
       "font_size": null,
       "text_color": null
      }
     },
     "625e099714e248fea27d0328fcbc9727": {
      "model_module": "@jupyter-widgets/base",
      "model_module_version": "2.0.0",
      "model_name": "LayoutModel",
      "state": {}
     },
     "649d2215138b42f0b4d679f9d9181d78": {
      "model_module": "@jupyter-widgets/base",
      "model_module_version": "2.0.0",
      "model_name": "LayoutModel",
      "state": {}
     },
     "6612688fa9d24335be9c6df67376e0f0": {
      "model_module": "@jupyter-widgets/base",
      "model_module_version": "2.0.0",
      "model_name": "LayoutModel",
      "state": {}
     },
     "66428ccc178a403499ca0ad3e1e80d1a": {
      "model_module": "@jupyter-widgets/controls",
      "model_module_version": "2.0.0",
      "model_name": "HBoxModel",
      "state": {
       "children": [
        "IPY_MODEL_d28983e9ccd242a68d81d4976a58344b",
        "IPY_MODEL_f7d035f8f946473694e8589af87d90a1",
        "IPY_MODEL_8cf90e82980045c284779e8c5fbcf335"
       ],
       "layout": "IPY_MODEL_7bd7ffc32faa430aae7a918575fb42d8"
      }
     },
     "67e3f69a8f894b06a12aac898bb74345": {
      "model_module": "@jupyter-widgets/controls",
      "model_module_version": "2.0.0",
      "model_name": "HTMLModel",
      "state": {
       "layout": "IPY_MODEL_cb54ccbe4acb4feeb672196a13041355",
       "style": "IPY_MODEL_1c889858c68a4b75ba7d989340f80b4c",
       "value": " 2951/2951 [00:05&lt;00:00, 608.57 examples/s]"
      }
     },
     "6ac0511bff974447a8a793cdd9b2d915": {
      "model_module": "@jupyter-widgets/controls",
      "model_module_version": "2.0.0",
      "model_name": "HTMLModel",
      "state": {
       "layout": "IPY_MODEL_edb42ba964ff48d5b6a51d7da06500af",
       "style": "IPY_MODEL_1983fb84697f422eaf89f1a8b956ed3c",
       "value": "Map: 100%"
      }
     },
     "6b89292b92e34f938740fbc3cdcf1720": {
      "model_module": "@jupyter-widgets/base",
      "model_module_version": "2.0.0",
      "model_name": "LayoutModel",
      "state": {}
     },
     "6bdced682cc34cb2b0011d80cdd98843": {
      "model_module": "@jupyter-widgets/controls",
      "model_module_version": "2.0.0",
      "model_name": "HTMLStyleModel",
      "state": {
       "description_width": "",
       "font_size": null,
       "text_color": null
      }
     },
     "6d22ab7a1d9c49ab8d6682afa9473dfb": {
      "model_module": "@jupyter-widgets/controls",
      "model_module_version": "2.0.0",
      "model_name": "HTMLModel",
      "state": {
       "layout": "IPY_MODEL_ae9483af3e454c06914b663c1da6cd94",
       "style": "IPY_MODEL_b0bcffb92a014849b26a7f928d3cd9a2",
       "value": " 737/737 [00:13&lt;00:00, 53.63 examples/s]"
      }
     },
     "6d6dc83226494f249a1f120ed48880ba": {
      "model_module": "@jupyter-widgets/controls",
      "model_module_version": "2.0.0",
      "model_name": "ProgressStyleModel",
      "state": {
       "description_width": ""
      }
     },
     "6e810d4673a940c4a456c35e99c83caf": {
      "model_module": "@jupyter-widgets/controls",
      "model_module_version": "2.0.0",
      "model_name": "FloatProgressModel",
      "state": {
       "bar_style": "success",
       "layout": "IPY_MODEL_b759647c9dc74780a8879a6f78ca1263",
       "max": 737,
       "style": "IPY_MODEL_3085de18fd5940848e9d4b3e0c4bbefb",
       "value": 737
      }
     },
     "6ff8b02168f44301b428aeb80e5f6552": {
      "model_module": "@jupyter-widgets/base",
      "model_module_version": "2.0.0",
      "model_name": "LayoutModel",
      "state": {}
     },
     "7397400faf474b9cadec2c9395888e12": {
      "model_module": "@jupyter-widgets/base",
      "model_module_version": "2.0.0",
      "model_name": "LayoutModel",
      "state": {}
     },
     "74106510008c479b9be2eccd002cf7ff": {
      "model_module": "@jupyter-widgets/controls",
      "model_module_version": "2.0.0",
      "model_name": "HTMLModel",
      "state": {
       "layout": "IPY_MODEL_deb6e56a76814d16b41a71d739b0b68d",
       "style": "IPY_MODEL_4f6f3cac23294e1db87322f5c4cfe327",
       "value": " 2951/2951 [00:01&lt;00:00, 2880.55 examples/s]"
      }
     },
     "746e449f18f64bd2a94f2aac00bff31f": {
      "model_module": "@jupyter-widgets/base",
      "model_module_version": "2.0.0",
      "model_name": "LayoutModel",
      "state": {}
     },
     "7b3adcef4f5140ddb89cff6179c5f05c": {
      "model_module": "@jupyter-widgets/controls",
      "model_module_version": "2.0.0",
      "model_name": "HTMLStyleModel",
      "state": {
       "description_width": "",
       "font_size": null,
       "text_color": null
      }
     },
     "7b617800daf84044b6aee0f3696e6761": {
      "model_module": "@jupyter-widgets/controls",
      "model_module_version": "2.0.0",
      "model_name": "HTMLModel",
      "state": {
       "layout": "IPY_MODEL_7397400faf474b9cadec2c9395888e12",
       "style": "IPY_MODEL_5ed6d7a6b101430db6863ca58b30d031",
       "value": " 0/930 [00:00&lt;?, ?it/s]"
      }
     },
     "7bd7ffc32faa430aae7a918575fb42d8": {
      "model_module": "@jupyter-widgets/base",
      "model_module_version": "2.0.0",
      "model_name": "LayoutModel",
      "state": {}
     },
     "7c4b3a20df864816bd149accfc998b48": {
      "model_module": "@jupyter-widgets/controls",
      "model_module_version": "2.0.0",
      "model_name": "HTMLStyleModel",
      "state": {
       "description_width": "",
       "font_size": null,
       "text_color": null
      }
     },
     "7ca0b9ee9a58480a9f10a35b7a4e5760": {
      "model_module": "@jupyter-widgets/controls",
      "model_module_version": "2.0.0",
      "model_name": "HTMLModel",
      "state": {
       "layout": "IPY_MODEL_8a4099dc4c60439e968d52e0ff442ec0",
       "style": "IPY_MODEL_6bdced682cc34cb2b0011d80cdd98843",
       "value": "Map: 100%"
      }
     },
     "7f4a6783b38945a58dc9625eebdfcee3": {
      "model_module": "@jupyter-widgets/controls",
      "model_module_version": "2.0.0",
      "model_name": "HTMLStyleModel",
      "state": {
       "description_width": "",
       "font_size": null,
       "text_color": null
      }
     },
     "8375529e3a604b6088b47ffdf2f34901": {
      "model_module": "@jupyter-widgets/controls",
      "model_module_version": "2.0.0",
      "model_name": "HTMLModel",
      "state": {
       "layout": "IPY_MODEL_f7a6ea35aa0540238ca192a3a3966fb5",
       "style": "IPY_MODEL_6095f03230ab432c83a9bdd347c413a3",
       "value": " 2951/2951 [00:52&lt;00:00, 51.39 examples/s]"
      }
     },
     "85fa4cb379a4418d94768b0fa3b191db": {
      "model_module": "@jupyter-widgets/base",
      "model_module_version": "2.0.0",
      "model_name": "LayoutModel",
      "state": {}
     },
     "8a4099dc4c60439e968d52e0ff442ec0": {
      "model_module": "@jupyter-widgets/base",
      "model_module_version": "2.0.0",
      "model_name": "LayoutModel",
      "state": {}
     },
     "8cf90e82980045c284779e8c5fbcf335": {
      "model_module": "@jupyter-widgets/controls",
      "model_module_version": "2.0.0",
      "model_name": "HTMLModel",
      "state": {
       "layout": "IPY_MODEL_a9fbc2a383c44a78ad3b3ac2353bf711",
       "style": "IPY_MODEL_c67a0e845b184645a12c3375295a4a60",
       "value": " 737/737 [00:00&lt;00:00, 3347.76 examples/s]"
      }
     },
     "8fe28cbf86e044eba7e3077890a77f3d": {
      "model_module": "@jupyter-widgets/base",
      "model_module_version": "2.0.0",
      "model_name": "LayoutModel",
      "state": {}
     },
     "a0c78c2468b74a248c4132738d7facab": {
      "model_module": "@jupyter-widgets/base",
      "model_module_version": "2.0.0",
      "model_name": "LayoutModel",
      "state": {}
     },
     "a321644f6d6740feb7053c8cc9fabca7": {
      "model_module": "@jupyter-widgets/controls",
      "model_module_version": "2.0.0",
      "model_name": "HBoxModel",
      "state": {
       "children": [
        "IPY_MODEL_a6f6e99d84ba405c8e468017c1c81aa6",
        "IPY_MODEL_3588505f09f447aab597cd582a0c67d9",
        "IPY_MODEL_1a6fec6fd0cd47a697c889544bb03f6f"
       ],
       "layout": "IPY_MODEL_6612688fa9d24335be9c6df67376e0f0"
      }
     },
     "a3868b2493b947b1b910b056e33d5799": {
      "model_module": "@jupyter-widgets/base",
      "model_module_version": "2.0.0",
      "model_name": "LayoutModel",
      "state": {}
     },
     "a5e2db2f3a344ec8ad21cb65d5330f88": {
      "model_module": "@jupyter-widgets/base",
      "model_module_version": "2.0.0",
      "model_name": "LayoutModel",
      "state": {}
     },
     "a6f6e99d84ba405c8e468017c1c81aa6": {
      "model_module": "@jupyter-widgets/controls",
      "model_module_version": "2.0.0",
      "model_name": "HTMLModel",
      "state": {
       "layout": "IPY_MODEL_3b5d98992b5a41b681a82d7dfb287c87",
       "style": "IPY_MODEL_acb8a028c9d049949bb0bf7cdf393349",
       "value": "Map: 100%"
      }
     },
     "a9fbc2a383c44a78ad3b3ac2353bf711": {
      "model_module": "@jupyter-widgets/base",
      "model_module_version": "2.0.0",
      "model_name": "LayoutModel",
      "state": {}
     },
     "aab58d3d792e40909a516d491e1d154d": {
      "model_module": "@jupyter-widgets/controls",
      "model_module_version": "2.0.0",
      "model_name": "HBoxModel",
      "state": {
       "children": [
        "IPY_MODEL_f79341203503463b8f1d98eb3c642771",
        "IPY_MODEL_d3fb7aa84b9f420cb2cb417de895f51b",
        "IPY_MODEL_7b617800daf84044b6aee0f3696e6761"
       ],
       "layout": "IPY_MODEL_df07ec8026b8410b93eb46a628ae3833"
      }
     },
     "acb8a028c9d049949bb0bf7cdf393349": {
      "model_module": "@jupyter-widgets/controls",
      "model_module_version": "2.0.0",
      "model_name": "HTMLStyleModel",
      "state": {
       "description_width": "",
       "font_size": null,
       "text_color": null
      }
     },
     "ae9483af3e454c06914b663c1da6cd94": {
      "model_module": "@jupyter-widgets/base",
      "model_module_version": "2.0.0",
      "model_name": "LayoutModel",
      "state": {}
     },
     "af0f26261a2b47729c85d4ff5ef984b7": {
      "model_module": "@jupyter-widgets/controls",
      "model_module_version": "2.0.0",
      "model_name": "ProgressStyleModel",
      "state": {
       "description_width": ""
      }
     },
     "b014bcf049f44882bfa387cf76549394": {
      "model_module": "@jupyter-widgets/base",
      "model_module_version": "2.0.0",
      "model_name": "LayoutModel",
      "state": {}
     },
     "b0bcffb92a014849b26a7f928d3cd9a2": {
      "model_module": "@jupyter-widgets/controls",
      "model_module_version": "2.0.0",
      "model_name": "HTMLStyleModel",
      "state": {
       "description_width": "",
       "font_size": null,
       "text_color": null
      }
     },
     "b2b031c0ece945f8a0d3fd7d9c40715c": {
      "model_module": "@jupyter-widgets/controls",
      "model_module_version": "2.0.0",
      "model_name": "FloatProgressModel",
      "state": {
       "bar_style": "success",
       "layout": "IPY_MODEL_5bccf9dce41a49bda79df25476ca2207",
       "max": 2951,
       "style": "IPY_MODEL_eb286b4e3bac4e02b0454eebb72e7429",
       "value": 2951
      }
     },
     "b4c515adeb184364bd798ee39c1ffbf1": {
      "model_module": "@jupyter-widgets/base",
      "model_module_version": "2.0.0",
      "model_name": "LayoutModel",
      "state": {}
     },
     "b6d6ad205c4049c39ce5244392746d3e": {
      "model_module": "@jupyter-widgets/base",
      "model_module_version": "2.0.0",
      "model_name": "LayoutModel",
      "state": {}
     },
     "b759647c9dc74780a8879a6f78ca1263": {
      "model_module": "@jupyter-widgets/base",
      "model_module_version": "2.0.0",
      "model_name": "LayoutModel",
      "state": {}
     },
     "b7eeb9074b764f72a9a9f56b845fb3aa": {
      "model_module": "@jupyter-widgets/controls",
      "model_module_version": "2.0.0",
      "model_name": "HBoxModel",
      "state": {
       "children": [
        "IPY_MODEL_7ca0b9ee9a58480a9f10a35b7a4e5760",
        "IPY_MODEL_31b0c02d8d3d489c825abca906935f0a",
        "IPY_MODEL_8375529e3a604b6088b47ffdf2f34901"
       ],
       "layout": "IPY_MODEL_649d2215138b42f0b4d679f9d9181d78"
      }
     },
     "b889b4aaa3814092939a023f9dbe2edc": {
      "model_module": "@jupyter-widgets/controls",
      "model_module_version": "2.0.0",
      "model_name": "HBoxModel",
      "state": {
       "children": [
        "IPY_MODEL_5cd46a948a2643feaf8dc2e07fbb17a3",
        "IPY_MODEL_b2b031c0ece945f8a0d3fd7d9c40715c",
        "IPY_MODEL_de6d96f71d684efdac9b5786a4caeba2"
       ],
       "layout": "IPY_MODEL_6b89292b92e34f938740fbc3cdcf1720"
      }
     },
     "c67a0e845b184645a12c3375295a4a60": {
      "model_module": "@jupyter-widgets/controls",
      "model_module_version": "2.0.0",
      "model_name": "HTMLStyleModel",
      "state": {
       "description_width": "",
       "font_size": null,
       "text_color": null
      }
     },
     "cad66c1db86d4b6788b6a390d90edd9b": {
      "model_module": "@jupyter-widgets/base",
      "model_module_version": "2.0.0",
      "model_name": "LayoutModel",
      "state": {}
     },
     "cb54ccbe4acb4feeb672196a13041355": {
      "model_module": "@jupyter-widgets/base",
      "model_module_version": "2.0.0",
      "model_name": "LayoutModel",
      "state": {}
     },
     "ce740f3a279b47b0beee47ccdb3e1992": {
      "model_module": "@jupyter-widgets/controls",
      "model_module_version": "2.0.0",
      "model_name": "HTMLStyleModel",
      "state": {
       "description_width": "",
       "font_size": null,
       "text_color": null
      }
     },
     "cf3afd3d0d9049979f80061a87bd0457": {
      "model_module": "@jupyter-widgets/controls",
      "model_module_version": "2.0.0",
      "model_name": "HTMLModel",
      "state": {
       "layout": "IPY_MODEL_0ca324c33f744deebe0e20d852744a38",
       "style": "IPY_MODEL_cfc6b7786b454eb590eff4406d9e8612",
       "value": "Map: 100%"
      }
     },
     "cfc6b7786b454eb590eff4406d9e8612": {
      "model_module": "@jupyter-widgets/controls",
      "model_module_version": "2.0.0",
      "model_name": "HTMLStyleModel",
      "state": {
       "description_width": "",
       "font_size": null,
       "text_color": null
      }
     },
     "d28983e9ccd242a68d81d4976a58344b": {
      "model_module": "@jupyter-widgets/controls",
      "model_module_version": "2.0.0",
      "model_name": "HTMLModel",
      "state": {
       "layout": "IPY_MODEL_565473612d4d4eb2ac503c2a1e274621",
       "style": "IPY_MODEL_ce740f3a279b47b0beee47ccdb3e1992",
       "value": "Map: 100%"
      }
     },
     "d361ed8885a94c318c8d988d3f34652a": {
      "model_module": "@jupyter-widgets/base",
      "model_module_version": "2.0.0",
      "model_name": "LayoutModel",
      "state": {}
     },
     "d3fb7aa84b9f420cb2cb417de895f51b": {
      "model_module": "@jupyter-widgets/controls",
      "model_module_version": "2.0.0",
      "model_name": "FloatProgressModel",
      "state": {
       "layout": "IPY_MODEL_cad66c1db86d4b6788b6a390d90edd9b",
       "max": 930,
       "style": "IPY_MODEL_0a9eed00d4614a9ea17af8b7abc8594c"
      }
     },
     "d52b888700b248e4aa9d5478f998acd6": {
      "model_module": "@jupyter-widgets/controls",
      "model_module_version": "2.0.0",
      "model_name": "HTMLStyleModel",
      "state": {
       "description_width": "",
       "font_size": null,
       "text_color": null
      }
     },
     "d5c228eced794b3f82899337fb744667": {
      "model_module": "@jupyter-widgets/controls",
      "model_module_version": "2.0.0",
      "model_name": "ProgressStyleModel",
      "state": {
       "description_width": ""
      }
     },
     "d5fdc4c8d00f40cf95d9bfb20517d4c2": {
      "model_module": "@jupyter-widgets/controls",
      "model_module_version": "2.0.0",
      "model_name": "FloatProgressModel",
      "state": {
       "bar_style": "success",
       "layout": "IPY_MODEL_a5e2db2f3a344ec8ad21cb65d5330f88",
       "max": 2951,
       "style": "IPY_MODEL_d7a64803967e4321be8f87f46ccf0f4e",
       "value": 2951
      }
     },
     "d7a64803967e4321be8f87f46ccf0f4e": {
      "model_module": "@jupyter-widgets/controls",
      "model_module_version": "2.0.0",
      "model_name": "ProgressStyleModel",
      "state": {
       "description_width": ""
      }
     },
     "de6d96f71d684efdac9b5786a4caeba2": {
      "model_module": "@jupyter-widgets/controls",
      "model_module_version": "2.0.0",
      "model_name": "HTMLModel",
      "state": {
       "layout": "IPY_MODEL_5e20090a25424f1195afbc74f9a2114a",
       "style": "IPY_MODEL_7f4a6783b38945a58dc9625eebdfcee3",
       "value": " 2951/2951 [00:04&lt;00:00, 733.75 examples/s]"
      }
     },
     "deb6e56a76814d16b41a71d739b0b68d": {
      "model_module": "@jupyter-widgets/base",
      "model_module_version": "2.0.0",
      "model_name": "LayoutModel",
      "state": {}
     },
     "df07ec8026b8410b93eb46a628ae3833": {
      "model_module": "@jupyter-widgets/base",
      "model_module_version": "2.0.0",
      "model_name": "LayoutModel",
      "state": {}
     },
     "e0761b6178fe49bfaa41f8c40f6f6077": {
      "model_module": "@jupyter-widgets/controls",
      "model_module_version": "2.0.0",
      "model_name": "HTMLModel",
      "state": {
       "layout": "IPY_MODEL_746e449f18f64bd2a94f2aac00bff31f",
       "style": "IPY_MODEL_2c9757978c0d4764ab7e830694a72936",
       "value": " 737/737 [00:01&lt;00:00, 763.84 examples/s]"
      }
     },
     "e2392848478d4516bf593af7df55cc8f": {
      "model_module": "@jupyter-widgets/controls",
      "model_module_version": "2.0.0",
      "model_name": "HTMLModel",
      "state": {
       "layout": "IPY_MODEL_4c82c25769bc4c4faa94a13a945a243c",
       "style": "IPY_MODEL_0ec6302a52d14a8294aafd515f262111",
       "value": "Map: 100%"
      }
     },
     "e7ee3d90daab40b4a5cef27f4b55384d": {
      "model_module": "@jupyter-widgets/controls",
      "model_module_version": "2.0.0",
      "model_name": "HTMLModel",
      "state": {
       "layout": "IPY_MODEL_41a175fbcbf84fe5849be4b9d37aedbd",
       "style": "IPY_MODEL_3a1b05a53fdb45ecb52ca6914a66f7dd",
       "value": " 0/240 [00:00&lt;?, ?it/s]"
      }
     },
     "eb286b4e3bac4e02b0454eebb72e7429": {
      "model_module": "@jupyter-widgets/controls",
      "model_module_version": "2.0.0",
      "model_name": "ProgressStyleModel",
      "state": {
       "description_width": ""
      }
     },
     "ebb0b99feb5f4cc1a6b283564accbe40": {
      "model_module": "@jupyter-widgets/controls",
      "model_module_version": "2.0.0",
      "model_name": "FloatProgressModel",
      "state": {
       "bar_style": "success",
       "layout": "IPY_MODEL_085d5bb57ab24cf3b2612835a6ce0b26",
       "max": 737,
       "style": "IPY_MODEL_3fcf56efa4004a95aa696a6594b7bbf2",
       "value": 737
      }
     },
     "ed15af606a44485e92e29e4a1fc589a0": {
      "model_module": "@jupyter-widgets/base",
      "model_module_version": "2.0.0",
      "model_name": "LayoutModel",
      "state": {}
     },
     "edb42ba964ff48d5b6a51d7da06500af": {
      "model_module": "@jupyter-widgets/base",
      "model_module_version": "2.0.0",
      "model_name": "LayoutModel",
      "state": {}
     },
     "f79341203503463b8f1d98eb3c642771": {
      "model_module": "@jupyter-widgets/controls",
      "model_module_version": "2.0.0",
      "model_name": "HTMLModel",
      "state": {
       "layout": "IPY_MODEL_0b4ebfcb324248aba2debda71cd48545",
       "style": "IPY_MODEL_2e4c3c5912854b67965fd78bdac12cce",
       "value": "  0%"
      }
     },
     "f7a6ea35aa0540238ca192a3a3966fb5": {
      "model_module": "@jupyter-widgets/base",
      "model_module_version": "2.0.0",
      "model_name": "LayoutModel",
      "state": {}
     },
     "f7d035f8f946473694e8589af87d90a1": {
      "model_module": "@jupyter-widgets/controls",
      "model_module_version": "2.0.0",
      "model_name": "FloatProgressModel",
      "state": {
       "bar_style": "success",
       "layout": "IPY_MODEL_054a46d7d6c447e68cec95c5466f4aed",
       "max": 737,
       "style": "IPY_MODEL_af0f26261a2b47729c85d4ff5ef984b7",
       "value": 737
      }
     },
     "faeb8a3e284e4a6e903655917547990d": {
      "model_module": "@jupyter-widgets/controls",
      "model_module_version": "2.0.0",
      "model_name": "HBoxModel",
      "state": {
       "children": [
        "IPY_MODEL_2018b072796444bc8091ebf2aa8a5bcb",
        "IPY_MODEL_6e810d4673a940c4a456c35e99c83caf",
        "IPY_MODEL_e0761b6178fe49bfaa41f8c40f6f6077"
       ],
       "layout": "IPY_MODEL_213584b419604fe1bee2d006fcdb0397"
      }
     }
    },
    "version_major": 2,
    "version_minor": 0
   }
  }
 },
 "nbformat": 4,
 "nbformat_minor": 5
}
