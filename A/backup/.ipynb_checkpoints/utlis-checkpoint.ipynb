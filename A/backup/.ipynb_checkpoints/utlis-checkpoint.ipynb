{
 "cells": [
  {
   "cell_type": "code",
   "execution_count": 9,
   "id": "3b750248-800e-4c7c-93d1-01a9ae6e479b",
   "metadata": {},
   "outputs": [],
   "source": [
    "import numpy as np\n",
    "import os"
   ]
  },
  {
   "cell_type": "code",
   "execution_count": 2,
   "id": "139a1dd9-64ef-40ff-9324-2eb5da0db78f",
   "metadata": {},
   "outputs": [],
   "source": [
    "def pred_to_label(outputs_classifier, outputs_regressor):\n",
    "\t\"\"\"Convert output model to label. Get aspects have reliability >= 0.5\n",
    "\n",
    "\tArgs:\n",
    "\t\toutputs_classifier (numpy.array): Output classifier layer\n",
    "\t\toutputs_regressor (numpy.array): Output regressor layer\n",
    "\n",
    "\tReturns:\n",
    "\t\tpredicted label\n",
    "\t\"\"\"\n",
    "\tresult = np.zeros((outputs_classifier.shape[0], 6))\n",
    "\tmask = (outputs_classifier >= 0.5)\n",
    "\tresult[mask] = outputs_regressor[mask]\n",
    "\treturn result\n"
   ]
  },
  {
   "cell_type": "code",
   "execution_count": 12,
   "id": "a3f6071c-7def-4697-a205-7dfe3052b702",
   "metadata": {},
   "outputs": [],
   "source": [
    "def save_split_dir(prep_train_df, prep_test_df):\n",
    "    save_dir = r\"D:\\FSoft\\Review_Ana\\Dream_Tim\\A\\datasets\\data_split\"\n",
    "    train_dir = os.path.join(save_dir, r\"trainset.csv\")\n",
    "    test_dir = os.path.join(save_dir, r\"testset.csv\")\n",
    "\n",
    "    prep_train_df.to_csv(train_dir)\n",
    "    prep_test_df.to_csv(test_dir)"
   ]
  },
  {
   "cell_type": "code",
   "execution_count": null,
   "id": "505ebbb4-ea16-4592-b6c2-6ca8fcb2e70c",
   "metadata": {},
   "outputs": [],
   "source": []
  }
 ],
 "metadata": {
  "kernelspec": {
   "display_name": "Python 3 (ipykernel)",
   "language": "python",
   "name": "python3"
  },
  "language_info": {
   "codemirror_mode": {
    "name": "ipython",
    "version": 3
   },
   "file_extension": ".py",
   "mimetype": "text/x-python",
   "name": "python",
   "nbconvert_exporter": "python",
   "pygments_lexer": "ipython3",
   "version": "3.10.7"
  },
  "widgets": {
   "application/vnd.jupyter.widget-state+json": {
    "state": {},
    "version_major": 2,
    "version_minor": 0
   }
  }
 },
 "nbformat": 4,
 "nbformat_minor": 5
}
