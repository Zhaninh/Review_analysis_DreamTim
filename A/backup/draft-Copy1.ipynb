{
 "cells": [
  {
   "cell_type": "code",
   "execution_count": 1,
   "id": "b47cd84f-dc08-42c4-86a0-f4676c34ccd4",
   "metadata": {},
   "outputs": [
    {
     "name": "stderr",
     "output_type": "stream",
     "text": [
      "C:\\Users\\lemai\\AppData\\Local\\Programs\\Python\\Python310\\lib\\site-packages\\numpy\\_distributor_init.py:30: UserWarning: loaded more than 1 DLL from .libs:\n",
      "C:\\Users\\lemai\\AppData\\Local\\Programs\\Python\\Python310\\lib\\site-packages\\numpy\\.libs\\libopenblas.FB5AE2TYXYH2IJRDKGDGQ3XBKLKTF43H.gfortran-win_amd64.dll\n",
      "C:\\Users\\lemai\\AppData\\Local\\Programs\\Python\\Python310\\lib\\site-packages\\numpy\\.libs\\libopenblas64__v0.3.21-gcc_10_3_0.dll\n",
      "  warnings.warn(\"loaded more than 1 DLL from .libs:\"\n"
     ]
    }
   ],
   "source": [
    "import pandas as pd"
   ]
  },
  {
   "cell_type": "code",
   "execution_count": 2,
   "id": "3352994d-4dde-4b2e-aae1-8ab4febd4de1",
   "metadata": {},
   "outputs": [
    {
     "name": "stdout",
     "output_type": "stream",
     "text": [
      "[['Bánh rất nhiều tôm to, tôm giòn nằm chễm chệ trên vỏ bánh mềm thơm ngon. Món ăn thuộc loại rolling in the deep, nghĩa là cuốn với rau, dưa chuột, giá, vỏ bánh mềm. Ngoài ra, đặc biệt không thể thiếu của món ăn là nước chấm chua cay rất Bình Định, vừa miệng đến khó tả. Đặc biệt, quán có sữa ngô tuyệt đỉnh, kết hợp Combo với bánh xèo cuốn này tạo thành một cặp trời sinh. Ai không thích tôm nhảy, có thể đổi sang bò hoặc mực cũng ngon không kém.']\n",
      " ['Đi Quy Nhơn cứ lo không có pizza ăn nhưng nhờ có foody nên đã tìm ra quán này nèeee 😆 Review tốt nên mình cũng rất háo hức và wow đúng là tốt thật á mọi người! 1st impression là quán cách ksan mình 200m )))), gần biển nữa. Đồ ăn ngon, hợp khẩu vị. Gnocchi sốt ngon, pizza thơm, phô mai ngậy, size 25cm mà chưa đến 150k @@ xỉu vì rẻ là có thiệt và sườn ăn vừa miệng. Cheesecake ăn chua chua còn brownie thì hơi cứng xíu, ncl ngon. Staff nice cực kì xong còn giới thiệu con chó giống gì này nọ cho mình nữa )))) Con bulldog tên Jimmy gì ó thì cute thực sự cứ ngồi chực ăn hôi buồn cười lắm 😅 Ăn 5 người thiệt hại 698k thôi (gồm cả nước). Chốt lại là kết quán này luôn sau này đến QN phải kéo thêm người đến mới được keke']\n",
      " ['các món ăn ở đây không có gì đặc sắc, có lẽ nấu theo kiểu nhà hàng cho khách tây, nên các món không có j đặc trưng, nhiều món nhưng tầm thường, nêm nếm rất lạt lẽo, không đúng khẩu vị Việt']\n",
      " ...\n",
      " ['Phòng đẹp, sạch sẽ đầy đủ tiện nghi, nằm trong khu biệt thự nên rất yên tĩnh, chủ thân thiện, sẽ quay lại nếu có dịp.']\n",
      " ['Nói chung là rất nhàm chán cới kiểu làm du lịch ở đây. Tôi không thấy được cái gì gọi là nơi Ba Anh Em tập hợp quân luyện võ để có những bước chân thần tốc. Quá nhiều công trình nhưng chẳng viết xây dựng để làm gì.\\r\\n']\n",
      " ['Lần đầu trải nghiệm sbay Phù Cát, các bạn nhân viên rất nhiệt tình luôn ♥️♥️♥️']] [[0 0 0 5 0 0]\n",
      " [0 0 0 5 0 0]\n",
      " [0 0 1 1 0 0]\n",
      " ...\n",
      " [0 5 0 0 0 0]\n",
      " [1 0 0 0 0 0]\n",
      " [0 0 0 0 4 0]]\n",
      "   giai_tri  luu_tru  nha_hang  an_uong  di_chuyen  mua_sam\n",
      "0      3131     2933      3389     2153       2920     3374\n",
      "1        81       58        36      108         73       33\n",
      "2        32       90        27      133         80       41\n",
      "3        40       77        32      166         83       50\n",
      "4       142      201        53      326        232       74\n",
      "5       262      329       151      802        300      116\n"
     ]
    }
   ],
   "source": [
    "def preprocess_data_format(data_path):\n",
    "        labels = ['giai_tri', 'luu_tru', 'nha_hang', 'an_uong', 'di_chuyen', 'mua_sam']\n",
    "        data = pd.read_csv(data_path)\n",
    "        X = data.drop(columns=labels)\n",
    "        y = data[labels]\n",
    "\n",
    "        X = X.to_numpy()\n",
    "        y = y.to_numpy()\n",
    "\n",
    "        return X, y\n",
    "\n",
    "def count_label_distribution(y):\n",
    "        label_counts = pd.DataFrame(data=y, columns=['giai_tri', 'luu_tru', 'nha_hang', 'an_uong', 'di_chuyen', 'mua_sam'])\n",
    "        label_distribution = label_counts.apply(lambda x: x.value_counts()).fillna(0).astype(int)\n",
    "        return label_distribution\n",
    "\n",
    "data_path = r\"D:\\FSoft\\Review_Ana\\Dream_Tim\\A\\datasets\\data_original\\Original-datasets.csv\"\n",
    "x, y = preprocess_data_format(data_path)\n",
    "print(x,y)\n",
    "label_distribution=count_label_distribution(y)\n",
    "print(label_distribution)"
   ]
  },
  {
   "cell_type": "code",
   "execution_count": null,
   "id": "eb2effe4-277f-4666-acfa-34555faad9b5",
   "metadata": {},
   "outputs": [],
   "source": []
  }
 ],
 "metadata": {
  "kernelspec": {
   "display_name": "Python 3 (ipykernel)",
   "language": "python",
   "name": "python3"
  },
  "language_info": {
   "codemirror_mode": {
    "name": "ipython",
    "version": 3
   },
   "file_extension": ".py",
   "mimetype": "text/x-python",
   "name": "python",
   "nbconvert_exporter": "python",
   "pygments_lexer": "ipython3",
   "version": "3.10.7"
  },
  "widgets": {
   "application/vnd.jupyter.widget-state+json": {
    "state": {},
    "version_major": 2,
    "version_minor": 0
   }
  }
 },
 "nbformat": 4,
 "nbformat_minor": 5
}
