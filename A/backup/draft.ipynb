{
 "cells": [
  {
   "cell_type": "code",
   "execution_count": 3,
   "id": "970f8999-1714-4ff7-a172-65427c3ea2c2",
   "metadata": {},
   "outputs": [],
   "source": [
    "from transformers import AdamW, get_scheduler\n",
    "from torch.utils.data import DataLoader\n",
    "from vncorenlp import VnCoreNLP\n",
    "from tqdm.auto import tqdm\n",
    "import numpy as np\n",
    "import torch\n",
    "import random\n",
    "from datasets import load_dataset\n",
    "\n",
    "\n",
    "import nbimporter\n",
    "from utlis import *\n",
    "from preprocessing import preprocess\n",
    "from models import CustomXLMModel\n",
    "from metrics import *\n",
    "from loss import *"
   ]
  },
  {
   "cell_type": "code",
   "execution_count": null,
   "id": "450ac258-8508-4c45-9396-6c38bc3ae253",
   "metadata": {},
   "outputs": [
    {
     "data": {
      "application/vnd.jupyter.widget-view+json": {
       "model_id": "5cb533ae41bf4bdab1ba8ba97646cc17",
       "version_major": 2,
       "version_minor": 0
      },
      "text/plain": [
       "Downloading data files:   0%|          | 0/2 [00:00<?, ?it/s]"
      ]
     },
     "metadata": {},
     "output_type": "display_data"
    },
    {
     "data": {
      "application/vnd.jupyter.widget-view+json": {
       "model_id": "1084805784694ec89ffdd643b7a45040",
       "version_major": 2,
       "version_minor": 0
      },
      "text/plain": [
       "Extracting data files:   0%|          | 0/2 [00:00<?, ?it/s]"
      ]
     },
     "metadata": {},
     "output_type": "display_data"
    },
    {
     "data": {
      "application/vnd.jupyter.widget-view+json": {
       "model_id": "8af7d93f05d949029faf31711ebb2571",
       "version_major": 2,
       "version_minor": 0
      },
      "text/plain": [
       "Generating train split: 0 examples [00:00, ? examples/s]"
      ]
     },
     "metadata": {},
     "output_type": "display_data"
    },
    {
     "data": {
      "application/vnd.jupyter.widget-view+json": {
       "model_id": "0ec08341ab374636b9087a2a08b3d468",
       "version_major": 2,
       "version_minor": 0
      },
      "text/plain": [
       "Generating dev split: 0 examples [00:00, ? examples/s]"
      ]
     },
     "metadata": {},
     "output_type": "display_data"
    },
    {
     "data": {
      "application/vnd.jupyter.widget-view+json": {
       "model_id": "d1aace54a5544ae99fb16c0a83ac5620",
       "version_major": 2,
       "version_minor": 0
      },
      "text/plain": [
       "Downloading (…)lve/main/config.json:   0%|          | 0.00/615 [00:00<?, ?B/s]"
      ]
     },
     "metadata": {},
     "output_type": "display_data"
    },
    {
     "name": "stderr",
     "output_type": "stream",
     "text": [
      "C:\\Users\\lemai\\AppData\\Local\\Programs\\Python\\Python310\\lib\\site-packages\\huggingface_hub\\file_download.py:137: UserWarning: `huggingface_hub` cache-system uses symlinks by default to efficiently store duplicated files but your machine does not support them in C:\\Users\\lemai\\.cache\\huggingface\\hub. Caching files will still work but in a degraded version that might require more space on your disk. This warning can be disabled by setting the `HF_HUB_DISABLE_SYMLINKS_WARNING` environment variable. For more details, see https://huggingface.co/docs/huggingface_hub/how-to-cache#limitations.\n",
      "To support symlinks on Windows, you either need to activate Developer Mode or to run Python as an administrator. In order to see activate developer mode, see this article: https://docs.microsoft.com/en-us/windows/apps/get-started/enable-your-device-for-development\n",
      "  warnings.warn(message)\n"
     ]
    },
    {
     "data": {
      "application/vnd.jupyter.widget-view+json": {
       "model_id": "c6ad53dad3454f0ca3365ad11235807b",
       "version_major": 2,
       "version_minor": 0
      },
      "text/plain": [
       "Downloading (…)tencepiece.bpe.model:   0%|          | 0.00/5.07M [00:00<?, ?B/s]"
      ]
     },
     "metadata": {},
     "output_type": "display_data"
    },
    {
     "data": {
      "application/vnd.jupyter.widget-view+json": {
       "model_id": "f4573b8e7551463b91a8d2f4557dd120",
       "version_major": 2,
       "version_minor": 0
      },
      "text/plain": [
       "Downloading (…)/main/tokenizer.json:   0%|          | 0.00/9.10M [00:00<?, ?B/s]"
      ]
     },
     "metadata": {},
     "output_type": "display_data"
    },
    {
     "data": {
      "application/vnd.jupyter.widget-view+json": {
       "model_id": "d1617f9e318a4752a2ef9622ed8dd797",
       "version_major": 2,
       "version_minor": 0
      },
      "text/plain": [
       "Map:   0%|          | 0/2951 [00:00<?, ? examples/s]"
      ]
     },
     "metadata": {},
     "output_type": "display_data"
    },
    {
     "data": {
      "application/vnd.jupyter.widget-view+json": {
       "model_id": "a840ba3f1e5945b29b13d130d5b6b12c",
       "version_major": 2,
       "version_minor": 0
      },
      "text/plain": [
       "Map:   0%|          | 0/737 [00:00<?, ? examples/s]"
      ]
     },
     "metadata": {},
     "output_type": "display_data"
    },
    {
     "data": {
      "application/vnd.jupyter.widget-view+json": {
       "model_id": "c5f0cdb5feee4f6f8ff2e22cb902f309",
       "version_major": 2,
       "version_minor": 0
      },
      "text/plain": [
       "Map:   0%|          | 0/2951 [00:00<?, ? examples/s]"
      ]
     },
     "metadata": {},
     "output_type": "display_data"
    },
    {
     "data": {
      "application/vnd.jupyter.widget-view+json": {
       "model_id": "46a45d1eeba7424bba5115d78499d77a",
       "version_major": 2,
       "version_minor": 0
      },
      "text/plain": [
       "Map:   0%|          | 0/737 [00:00<?, ? examples/s]"
      ]
     },
     "metadata": {},
     "output_type": "display_data"
    },
    {
     "data": {
      "application/vnd.jupyter.widget-view+json": {
       "model_id": "87fe65dfd681426e8f1f2ff788b6bd76",
       "version_major": 2,
       "version_minor": 0
      },
      "text/plain": [
       "Map:   0%|          | 0/2951 [00:00<?, ? examples/s]"
      ]
     },
     "metadata": {},
     "output_type": "display_data"
    },
    {
     "data": {
      "application/vnd.jupyter.widget-view+json": {
       "model_id": "0ab07afb2ea3486dbdb69fc10ce7698b",
       "version_major": 2,
       "version_minor": 0
      },
      "text/plain": [
       "Map:   0%|          | 0/737 [00:00<?, ? examples/s]"
      ]
     },
     "metadata": {},
     "output_type": "display_data"
    },
    {
     "data": {
      "application/vnd.jupyter.widget-view+json": {
       "model_id": "c8600cfaa5474926a09c07598dc3f5a4",
       "version_major": 2,
       "version_minor": 0
      },
      "text/plain": [
       "Map:   0%|          | 0/2951 [00:00<?, ? examples/s]"
      ]
     },
     "metadata": {},
     "output_type": "display_data"
    },
    {
     "data": {
      "application/vnd.jupyter.widget-view+json": {
       "model_id": "ec603256c3d047c5b868ce13204e2f7a",
       "version_major": 2,
       "version_minor": 0
      },
      "text/plain": [
       "Map:   0%|          | 0/737 [00:00<?, ? examples/s]"
      ]
     },
     "metadata": {},
     "output_type": "display_data"
    },
    {
     "data": {
      "application/vnd.jupyter.widget-view+json": {
       "model_id": "58d994807bba476a9f81279428154fc1",
       "version_major": 2,
       "version_minor": 0
      },
      "text/plain": [
       "Map:   0%|          | 0/2951 [00:00<?, ? examples/s]"
      ]
     },
     "metadata": {},
     "output_type": "display_data"
    },
    {
     "data": {
      "application/vnd.jupyter.widget-view+json": {
       "model_id": "da1b08d93323454594e799af2692a4c5",
       "version_major": 2,
       "version_minor": 0
      },
      "text/plain": [
       "Map:   0%|          | 0/737 [00:00<?, ? examples/s]"
      ]
     },
     "metadata": {},
     "output_type": "display_data"
    },
    {
     "data": {
      "application/vnd.jupyter.widget-view+json": {
       "model_id": "1921c063197e406cabd6295172074da2",
       "version_major": 2,
       "version_minor": 0
      },
      "text/plain": [
       "Downloading model.safetensors:   0%|          | 0.00/1.12G [00:00<?, ?B/s]"
      ]
     },
     "metadata": {},
     "output_type": "display_data"
    }
   ],
   "source": [
    "# Set Seed\n",
    "seed = 42\n",
    "torch.manual_seed(seed)\n",
    "torch.cuda.manual_seed(seed)\n",
    "torch.cuda.manual_seed_all(seed)\n",
    "np.random.seed(seed)\n",
    "random.seed(seed)\n",
    "torch.backends.cudnn.benchmark = False\n",
    "torch.backends.cudnn.deterministic = True\n",
    "\n",
    "\n",
    "# Load datasets\n",
    "trainset_path, devset_path = get_train_dev_path()\n",
    "data_files = {'train': trainset_path, \n",
    "              'dev': devset_path}\n",
    "\n",
    "dataset = load_dataset('csv', data_files=data_files)\n",
    "\n",
    "# Preprocess\n",
    "preprocess = preprocess()\n",
    "tokenized_datasets = preprocess.run(dataset)\n",
    "\n",
    "train_dataloader = DataLoader(tokenized_datasets[\"train\"], \n",
    "                              batch_size=32, \n",
    "                              shuffle=True)\n",
    "\n",
    "dev_dataloader = DataLoader(tokenized_datasets[\"dev\"], \n",
    "                             batch_size=32)\n",
    "\n",
    "# Model \n",
    "model = CustomXLMModel()\n",
    "\n",
    "device = 'cuda' if torch.cuda.is_available() else 'cpu'\n",
    "model.to(device)\n",
    "\n",
    "# Optimizer\n",
    "optimizer = AdamW(model.parameters(), lr=5e-5)\n",
    "num_epochs = 1\n",
    "num_training_steps = num_epochs*len(train_dataloader)\n",
    "lr_scheduler = get_scheduler(\n",
    "    'linear',\n",
    "    optimizer=optimizer,\n",
    "    num_warmup_steps=0,\n",
    "    num_training_steps=num_training_steps\n",
    ")\n",
    "\n",
    "# Training\n",
    "pb_train = tqdm(range(num_training_steps))\n",
    "pb_dev = tqdm(range(num_epochs*len(dev_dataloader)))\n",
    "best_score = -1\n",
    "\n",
    "for epoch in range(num_epochs):\n",
    "    train_loss = 0\n",
    "    val_loss = 0\n",
    "    \n",
    "    # Train\n",
    "    model.train()\n",
    "    for batch in train_dataloader:\n",
    "        inputs = {'input_ids': batch['input_ids'].to(device),\n",
    "                  'attention_mask': batch['attention_mask'].to(device)}\n",
    "        outputs_classifier, outputs_regressor = model(**inputs)\n",
    "        print(f\"C:{outputs_classifier}, R:{outputs_regressor}\")"
   ]
  },
  {
   "cell_type": "code",
   "execution_count": null,
   "id": "e3178b68-ab27-48e9-adfd-f31a02dd96ef",
   "metadata": {},
   "outputs": [],
   "source": []
  }
 ],
 "metadata": {
  "kernelspec": {
   "display_name": "Python 3 (ipykernel)",
   "language": "python",
   "name": "python3"
  },
  "language_info": {
   "codemirror_mode": {
    "name": "ipython",
    "version": 3
   },
   "file_extension": ".py",
   "mimetype": "text/x-python",
   "name": "python",
   "nbconvert_exporter": "python",
   "pygments_lexer": "ipython3",
   "version": "3.10.7"
  },
  "widgets": {
   "application/vnd.jupyter.widget-state+json": {
    "state": {
     "0111fcc14bf14d6da4cbbe6deb8d700a": {
      "model_module": "@jupyter-widgets/controls",
      "model_module_version": "2.0.0",
      "model_name": "FloatProgressModel",
      "state": {
       "bar_style": "success",
       "layout": "IPY_MODEL_9af9362f22d347638842c44f54aac6f5",
       "max": 2951,
       "style": "IPY_MODEL_7a442c2d80eb480caaefb910b5f978db",
       "value": 2951
      }
     },
     "0182ec55d1f54569be8942fdaba0c764": {
      "model_module": "@jupyter-widgets/base",
      "model_module_version": "2.0.0",
      "model_name": "LayoutModel",
      "state": {}
     },
     "018dc7a46b234d2da4c36a1a67b80b79": {
      "model_module": "@jupyter-widgets/base",
      "model_module_version": "2.0.0",
      "model_name": "LayoutModel",
      "state": {}
     },
     "036cf36134b54e84af32c094d37859f6": {
      "model_module": "@jupyter-widgets/controls",
      "model_module_version": "2.0.0",
      "model_name": "HTMLModel",
      "state": {
       "layout": "IPY_MODEL_ba0498310ee044f09aff6e2f76e5cb2c",
       "style": "IPY_MODEL_08912851f9194528868075d8e4737ab6",
       "value": "Downloading data files: 100%"
      }
     },
     "04b0915cf2bc4b259ed8cb15c1717e79": {
      "model_module": "@jupyter-widgets/base",
      "model_module_version": "2.0.0",
      "model_name": "LayoutModel",
      "state": {}
     },
     "07b3aac87e8646ff80faf397c7cb9ee3": {
      "model_module": "@jupyter-widgets/base",
      "model_module_version": "2.0.0",
      "model_name": "LayoutModel",
      "state": {}
     },
     "08912851f9194528868075d8e4737ab6": {
      "model_module": "@jupyter-widgets/controls",
      "model_module_version": "2.0.0",
      "model_name": "HTMLStyleModel",
      "state": {
       "description_width": "",
       "font_size": null,
       "text_color": null
      }
     },
     "08a95bff832040a7842b5a6aa3ab8ff1": {
      "model_module": "@jupyter-widgets/controls",
      "model_module_version": "2.0.0",
      "model_name": "ProgressStyleModel",
      "state": {
       "description_width": ""
      }
     },
     "0a2a15e6e85c43b9afbb34d425bfb313": {
      "model_module": "@jupyter-widgets/base",
      "model_module_version": "2.0.0",
      "model_name": "LayoutModel",
      "state": {}
     },
     "0a6a33d3c476438aad99bb31218112f0": {
      "model_module": "@jupyter-widgets/base",
      "model_module_version": "2.0.0",
      "model_name": "LayoutModel",
      "state": {}
     },
     "0ab07afb2ea3486dbdb69fc10ce7698b": {
      "model_module": "@jupyter-widgets/controls",
      "model_module_version": "2.0.0",
      "model_name": "HBoxModel",
      "state": {
       "children": [
        "IPY_MODEL_1965379978a34113a273e62f141b48c1",
        "IPY_MODEL_5e3430b7381843519878019db6ebcb32",
        "IPY_MODEL_73bdfc5cb9f24386b8ef9179406eb8b0"
       ],
       "layout": "IPY_MODEL_28aa3de5a4ce4788b57159fd1d1f4eca"
      }
     },
     "0bade065e5fa4bd19fc323a4ff85043d": {
      "model_module": "@jupyter-widgets/controls",
      "model_module_version": "2.0.0",
      "model_name": "HTMLModel",
      "state": {
       "layout": "IPY_MODEL_f40d51f097614e21a883fd6eea99774c",
       "style": "IPY_MODEL_4dca1e8be8e1402aad91fd45ead94844",
       "value": " 615/615 [00:00&lt;00:00, 54.5kB/s]"
      }
     },
     "0d2f9abcfd4549dd9a766bd042d891e5": {
      "model_module": "@jupyter-widgets/base",
      "model_module_version": "2.0.0",
      "model_name": "LayoutModel",
      "state": {}
     },
     "0e46ab5da3d64c7a8af344932ea69b6a": {
      "model_module": "@jupyter-widgets/base",
      "model_module_version": "2.0.0",
      "model_name": "LayoutModel",
      "state": {}
     },
     "0ec08341ab374636b9087a2a08b3d468": {
      "model_module": "@jupyter-widgets/controls",
      "model_module_version": "2.0.0",
      "model_name": "HBoxModel",
      "state": {
       "children": [
        "IPY_MODEL_7e631c5dae064e52b111e8b5fa5d1ad2",
        "IPY_MODEL_bd387496e18742d1b6fe35d59848a1d8",
        "IPY_MODEL_9b273ca31048464ea788ec759691dfba"
       ],
       "layout": "IPY_MODEL_9664c6ce132d42acbb3fc1f3dff64c24"
      }
     },
     "103ed8d5842b490596bece3a011ea609": {
      "model_module": "@jupyter-widgets/base",
      "model_module_version": "2.0.0",
      "model_name": "LayoutModel",
      "state": {}
     },
     "1084805784694ec89ffdd643b7a45040": {
      "model_module": "@jupyter-widgets/controls",
      "model_module_version": "2.0.0",
      "model_name": "HBoxModel",
      "state": {
       "children": [
        "IPY_MODEL_f88164e453044c3680a25cdddd2443a7",
        "IPY_MODEL_78619f2420594fd2a5de72fd8189eb76",
        "IPY_MODEL_699a9271fc5b4a8ebda86a4d8d97a78b"
       ],
       "layout": "IPY_MODEL_f58f0c2321c6470ca88b782e81b85643"
      }
     },
     "12546358f4ad42c198fee61f8e2f3472": {
      "model_module": "@jupyter-widgets/controls",
      "model_module_version": "2.0.0",
      "model_name": "HTMLModel",
      "state": {
       "layout": "IPY_MODEL_d1cba1c883db44cb8da654db3a951ba9",
       "style": "IPY_MODEL_f44a9daaf88142819fd0d20e3752a1f8",
       "value": "Map: 100%"
      }
     },
     "12b569e98faf4609a1154da1358a7f68": {
      "model_module": "@jupyter-widgets/base",
      "model_module_version": "2.0.0",
      "model_name": "LayoutModel",
      "state": {}
     },
     "16bab123b1774cd3810b8dbe98346fe0": {
      "model_module": "@jupyter-widgets/base",
      "model_module_version": "2.0.0",
      "model_name": "LayoutModel",
      "state": {}
     },
     "184a2eb1018f41988579b457e5d9c98f": {
      "model_module": "@jupyter-widgets/controls",
      "model_module_version": "2.0.0",
      "model_name": "HTMLModel",
      "state": {
       "layout": "IPY_MODEL_3136b65f18434ea3a1acf435ea923b23",
       "style": "IPY_MODEL_68d252ec5e9949c7a5f976a1433f8156",
       "value": " 2/2 [00:00&lt;00:00, 166.59it/s]"
      }
     },
     "18da459c66cf448fac8f19a2a86ef1fa": {
      "model_module": "@jupyter-widgets/controls",
      "model_module_version": "2.0.0",
      "model_name": "HTMLStyleModel",
      "state": {
       "description_width": "",
       "font_size": null,
       "text_color": null
      }
     },
     "18ec040f33994629844d5fa3f3fc0984": {
      "model_module": "@jupyter-widgets/controls",
      "model_module_version": "2.0.0",
      "model_name": "FloatProgressModel",
      "state": {
       "bar_style": "success",
       "layout": "IPY_MODEL_a3b5189ae0a7434bac0d7ad1d7bc5309",
       "max": 2,
       "style": "IPY_MODEL_571e76941d7145ceaf7a8631f494760b",
       "value": 2
      }
     },
     "1921c063197e406cabd6295172074da2": {
      "model_module": "@jupyter-widgets/controls",
      "model_module_version": "2.0.0",
      "model_name": "HBoxModel",
      "state": {
       "children": [
        "IPY_MODEL_caa6e7ade0514a999f2c3434d8e3b8f1",
        "IPY_MODEL_da980424c6994fb6974a9da616536b25",
        "IPY_MODEL_bb35754e8c254a8bbef548b941bc7e83"
       ],
       "layout": "IPY_MODEL_66f14e1717de4b2d969d87c4420aafc7"
      }
     },
     "1965379978a34113a273e62f141b48c1": {
      "model_module": "@jupyter-widgets/controls",
      "model_module_version": "2.0.0",
      "model_name": "HTMLModel",
      "state": {
       "layout": "IPY_MODEL_8616d83d50f2478faac205076e4d5e77",
       "style": "IPY_MODEL_7b9b83d079cc4ff886f12aa70697b358",
       "value": "Map: 100%"
      }
     },
     "1b24547bdfab4e74adced2901692506d": {
      "model_module": "@jupyter-widgets/controls",
      "model_module_version": "2.0.0",
      "model_name": "HTMLModel",
      "state": {
       "layout": "IPY_MODEL_75cd99b37549462c8ea38cb20fa14ffc",
       "style": "IPY_MODEL_74bcf5ac86484bf59939e10aaad2d734",
       "value": "Map: 100%"
      }
     },
     "1b25b53c834646f9b970de40b627583b": {
      "model_module": "@jupyter-widgets/controls",
      "model_module_version": "2.0.0",
      "model_name": "HTMLStyleModel",
      "state": {
       "description_width": "",
       "font_size": null,
       "text_color": null
      }
     },
     "1f0c0266ba534b279cacea26243f1f9a": {
      "model_module": "@jupyter-widgets/base",
      "model_module_version": "2.0.0",
      "model_name": "LayoutModel",
      "state": {}
     },
     "1fdc1c3f709a40c89ccf6ad169a20743": {
      "model_module": "@jupyter-widgets/controls",
      "model_module_version": "2.0.0",
      "model_name": "HTMLStyleModel",
      "state": {
       "description_width": "",
       "font_size": null,
       "text_color": null
      }
     },
     "220067de8de448caab88d94605f304f5": {
      "model_module": "@jupyter-widgets/controls",
      "model_module_version": "2.0.0",
      "model_name": "HTMLModel",
      "state": {
       "layout": "IPY_MODEL_b98a09b335a24844bc5b7377294becc3",
       "style": "IPY_MODEL_2a68ded5bfbc4182a96806b02cca4bcb",
       "value": "Map: 100%"
      }
     },
     "23d91ae207d9464aa69b9c43d3342376": {
      "model_module": "@jupyter-widgets/controls",
      "model_module_version": "2.0.0",
      "model_name": "HTMLStyleModel",
      "state": {
       "description_width": "",
       "font_size": null,
       "text_color": null
      }
     },
     "2418cad4a1ab47ee937703d9673ed306": {
      "model_module": "@jupyter-widgets/controls",
      "model_module_version": "2.0.0",
      "model_name": "HTMLStyleModel",
      "state": {
       "description_width": "",
       "font_size": null,
       "text_color": null
      }
     },
     "27465a5bccab4e399c40d43372400e10": {
      "model_module": "@jupyter-widgets/base",
      "model_module_version": "2.0.0",
      "model_name": "LayoutModel",
      "state": {}
     },
     "28aa3de5a4ce4788b57159fd1d1f4eca": {
      "model_module": "@jupyter-widgets/base",
      "model_module_version": "2.0.0",
      "model_name": "LayoutModel",
      "state": {}
     },
     "29aaab51b04143a58e7edf5b4a3d505a": {
      "model_module": "@jupyter-widgets/base",
      "model_module_version": "2.0.0",
      "model_name": "LayoutModel",
      "state": {}
     },
     "2a68ded5bfbc4182a96806b02cca4bcb": {
      "model_module": "@jupyter-widgets/controls",
      "model_module_version": "2.0.0",
      "model_name": "HTMLStyleModel",
      "state": {
       "description_width": "",
       "font_size": null,
       "text_color": null
      }
     },
     "2c68800795824832b0cc4a8c92408071": {
      "model_module": "@jupyter-widgets/base",
      "model_module_version": "2.0.0",
      "model_name": "LayoutModel",
      "state": {}
     },
     "2f286563de8b4e728b2a3ffc3f526712": {
      "model_module": "@jupyter-widgets/controls",
      "model_module_version": "2.0.0",
      "model_name": "HTMLStyleModel",
      "state": {
       "description_width": "",
       "font_size": null,
       "text_color": null
      }
     },
     "2f7ba2d2563946e6b8cf9765911310fc": {
      "model_module": "@jupyter-widgets/base",
      "model_module_version": "2.0.0",
      "model_name": "LayoutModel",
      "state": {}
     },
     "3136b65f18434ea3a1acf435ea923b23": {
      "model_module": "@jupyter-widgets/base",
      "model_module_version": "2.0.0",
      "model_name": "LayoutModel",
      "state": {}
     },
     "328d7dbb7f094394a722a29187a0e207": {
      "model_module": "@jupyter-widgets/controls",
      "model_module_version": "2.0.0",
      "model_name": "HTMLStyleModel",
      "state": {
       "description_width": "",
       "font_size": null,
       "text_color": null
      }
     },
     "34e75c5405d94e2499c1ee59499c2ba3": {
      "model_module": "@jupyter-widgets/controls",
      "model_module_version": "2.0.0",
      "model_name": "HTMLModel",
      "state": {
       "layout": "IPY_MODEL_4106f1ecdcc94252aa6365ec92f9fd95",
       "style": "IPY_MODEL_e97f1257ceb54de89a6d612bba15b49f",
       "value": " 2951/2951 [00:01&lt;00:00, 3364.33 examples/s]"
      }
     },
     "3a640aa62132471a82cde085943294c0": {
      "model_module": "@jupyter-widgets/controls",
      "model_module_version": "2.0.0",
      "model_name": "FloatProgressModel",
      "state": {
       "bar_style": "success",
       "layout": "IPY_MODEL_8ed3ae448c274c9bbf04c823bff91603",
       "max": 2951,
       "style": "IPY_MODEL_d66b97c77a834364af04a9342c8a257f",
       "value": 2951
      }
     },
     "3b8fac062de64a408176821d0460416f": {
      "model_module": "@jupyter-widgets/base",
      "model_module_version": "2.0.0",
      "model_name": "LayoutModel",
      "state": {
       "width": "20px"
      }
     },
     "3cb9ff4b9e2b4d9aacccc56d2cd0ca4c": {
      "model_module": "@jupyter-widgets/base",
      "model_module_version": "2.0.0",
      "model_name": "LayoutModel",
      "state": {}
     },
     "3dafe46117dc48fa91521794935861dc": {
      "model_module": "@jupyter-widgets/controls",
      "model_module_version": "2.0.0",
      "model_name": "HTMLStyleModel",
      "state": {
       "description_width": "",
       "font_size": null,
       "text_color": null
      }
     },
     "3f2621fc12f941ff8eafd5895ec9359e": {
      "model_module": "@jupyter-widgets/base",
      "model_module_version": "2.0.0",
      "model_name": "LayoutModel",
      "state": {}
     },
     "3f85e1f3375946a3ba5a3ef9417239f5": {
      "model_module": "@jupyter-widgets/base",
      "model_module_version": "2.0.0",
      "model_name": "LayoutModel",
      "state": {}
     },
     "409ba9eb40c2462fb64e146da5db0c37": {
      "model_module": "@jupyter-widgets/controls",
      "model_module_version": "2.0.0",
      "model_name": "HTMLModel",
      "state": {
       "layout": "IPY_MODEL_bd1b8d155dde47498e65c0e650aa9384",
       "style": "IPY_MODEL_ba3fa131c7fd40a39b3cf7fcb853cb95",
       "value": "Map: 100%"
      }
     },
     "4106f1ecdcc94252aa6365ec92f9fd95": {
      "model_module": "@jupyter-widgets/base",
      "model_module_version": "2.0.0",
      "model_name": "LayoutModel",
      "state": {}
     },
     "41e97daa54124361a61485a13adfda5c": {
      "model_module": "@jupyter-widgets/controls",
      "model_module_version": "2.0.0",
      "model_name": "ProgressStyleModel",
      "state": {
       "description_width": ""
      }
     },
     "43aa7367a9b14d588d3b1febb2656e62": {
      "model_module": "@jupyter-widgets/controls",
      "model_module_version": "2.0.0",
      "model_name": "HTMLStyleModel",
      "state": {
       "description_width": "",
       "font_size": null,
       "text_color": null
      }
     },
     "4465f5364efb42eda1f4b27571bdec88": {
      "model_module": "@jupyter-widgets/controls",
      "model_module_version": "2.0.0",
      "model_name": "ProgressStyleModel",
      "state": {
       "description_width": ""
      }
     },
     "467b9c754321470dbc0349fd98d228de": {
      "model_module": "@jupyter-widgets/controls",
      "model_module_version": "2.0.0",
      "model_name": "HTMLStyleModel",
      "state": {
       "description_width": "",
       "font_size": null,
       "text_color": null
      }
     },
     "46a45d1eeba7424bba5115d78499d77a": {
      "model_module": "@jupyter-widgets/controls",
      "model_module_version": "2.0.0",
      "model_name": "HBoxModel",
      "state": {
       "children": [
        "IPY_MODEL_4ed79590a228474a8dfbf5fe41f3bda3",
        "IPY_MODEL_683e167d9a8348489161b5acf7f3a91b",
        "IPY_MODEL_c6de4a9c7501485894309faed697a9ea"
       ],
       "layout": "IPY_MODEL_7c69292f9c474c24a695ea0f45a2fa88"
      }
     },
     "48864f272dc94e9bbb044b6697b1ccb3": {
      "model_module": "@jupyter-widgets/controls",
      "model_module_version": "2.0.0",
      "model_name": "ProgressStyleModel",
      "state": {
       "description_width": ""
      }
     },
     "4a91bc41a28c41f1a02db048328cff59": {
      "model_module": "@jupyter-widgets/controls",
      "model_module_version": "2.0.0",
      "model_name": "HTMLStyleModel",
      "state": {
       "description_width": "",
       "font_size": null,
       "text_color": null
      }
     },
     "4b7dec21f5d741958bb657a081c8ef2b": {
      "model_module": "@jupyter-widgets/base",
      "model_module_version": "2.0.0",
      "model_name": "LayoutModel",
      "state": {}
     },
     "4bc5957fc53f4ba993031740cf2d85a2": {
      "model_module": "@jupyter-widgets/controls",
      "model_module_version": "2.0.0",
      "model_name": "HTMLModel",
      "state": {
       "layout": "IPY_MODEL_aa82f681f337400887f3c22f7e1441e9",
       "style": "IPY_MODEL_d0c4c19fb95a4962b418c5d8dc307137",
       "value": "Map: 100%"
      }
     },
     "4c9f1dae7b88492c9cedd4d74782b49b": {
      "model_module": "@jupyter-widgets/base",
      "model_module_version": "2.0.0",
      "model_name": "LayoutModel",
      "state": {}
     },
     "4d037356d95149deb45a282e39364754": {
      "model_module": "@jupyter-widgets/controls",
      "model_module_version": "2.0.0",
      "model_name": "FloatProgressModel",
      "state": {
       "bar_style": "success",
       "layout": "IPY_MODEL_ee5518c4af6b4fcebf8c799138d7eaf9",
       "max": 2951,
       "style": "IPY_MODEL_e112536df3b04064ac727feadfb1ca3c",
       "value": 2951
      }
     },
     "4dca1e8be8e1402aad91fd45ead94844": {
      "model_module": "@jupyter-widgets/controls",
      "model_module_version": "2.0.0",
      "model_name": "HTMLStyleModel",
      "state": {
       "description_width": "",
       "font_size": null,
       "text_color": null
      }
     },
     "4dea1ac29a91443eb9789f5db2e55b64": {
      "model_module": "@jupyter-widgets/controls",
      "model_module_version": "2.0.0",
      "model_name": "HTMLStyleModel",
      "state": {
       "description_width": "",
       "font_size": null,
       "text_color": null
      }
     },
     "4eb9ecc8a5f54ecd9a90a960ee572201": {
      "model_module": "@jupyter-widgets/base",
      "model_module_version": "2.0.0",
      "model_name": "LayoutModel",
      "state": {}
     },
     "4ed79590a228474a8dfbf5fe41f3bda3": {
      "model_module": "@jupyter-widgets/controls",
      "model_module_version": "2.0.0",
      "model_name": "HTMLModel",
      "state": {
       "layout": "IPY_MODEL_dfa6525a8fa44744a942d7380a3de06e",
       "style": "IPY_MODEL_4dea1ac29a91443eb9789f5db2e55b64",
       "value": "Map: 100%"
      }
     },
     "513bffdecf2241b1a1d7541780f426e7": {
      "model_module": "@jupyter-widgets/controls",
      "model_module_version": "2.0.0",
      "model_name": "FloatProgressModel",
      "state": {
       "bar_style": "success",
       "layout": "IPY_MODEL_4b7dec21f5d741958bb657a081c8ef2b",
       "max": 2951,
       "style": "IPY_MODEL_8b268cc564e6443ea958c769d96b0a5d",
       "value": 2951
      }
     },
     "53542730a2974e519b436e1821a456e7": {
      "model_module": "@jupyter-widgets/base",
      "model_module_version": "2.0.0",
      "model_name": "LayoutModel",
      "state": {}
     },
     "545f40c614a24b29bf29e3989fc112ed": {
      "model_module": "@jupyter-widgets/controls",
      "model_module_version": "2.0.0",
      "model_name": "HTMLStyleModel",
      "state": {
       "description_width": "",
       "font_size": null,
       "text_color": null
      }
     },
     "5605422998934015bf73d03b4737f7d0": {
      "model_module": "@jupyter-widgets/base",
      "model_module_version": "2.0.0",
      "model_name": "LayoutModel",
      "state": {}
     },
     "56107e99b56f45adbe817b72c916abe4": {
      "model_module": "@jupyter-widgets/base",
      "model_module_version": "2.0.0",
      "model_name": "LayoutModel",
      "state": {}
     },
     "571e76941d7145ceaf7a8631f494760b": {
      "model_module": "@jupyter-widgets/controls",
      "model_module_version": "2.0.0",
      "model_name": "ProgressStyleModel",
      "state": {
       "description_width": ""
      }
     },
     "57ed8d9b47f348118b8053860467973a": {
      "model_module": "@jupyter-widgets/base",
      "model_module_version": "2.0.0",
      "model_name": "LayoutModel",
      "state": {}
     },
     "586fd775b437452e8a5c1fabbe458c17": {
      "model_module": "@jupyter-widgets/base",
      "model_module_version": "2.0.0",
      "model_name": "LayoutModel",
      "state": {}
     },
     "58d994807bba476a9f81279428154fc1": {
      "model_module": "@jupyter-widgets/controls",
      "model_module_version": "2.0.0",
      "model_name": "HBoxModel",
      "state": {
       "children": [
        "IPY_MODEL_12546358f4ad42c198fee61f8e2f3472",
        "IPY_MODEL_0111fcc14bf14d6da4cbbe6deb8d700a",
        "IPY_MODEL_e7a176a12f1849d29b9a2e57eb75a5a3"
       ],
       "layout": "IPY_MODEL_0e46ab5da3d64c7a8af344932ea69b6a"
      }
     },
     "5a51e121bf38432b9ba7ae5e240b9182": {
      "model_module": "@jupyter-widgets/base",
      "model_module_version": "2.0.0",
      "model_name": "LayoutModel",
      "state": {}
     },
     "5cb533ae41bf4bdab1ba8ba97646cc17": {
      "model_module": "@jupyter-widgets/controls",
      "model_module_version": "2.0.0",
      "model_name": "HBoxModel",
      "state": {
       "children": [
        "IPY_MODEL_036cf36134b54e84af32c094d37859f6",
        "IPY_MODEL_18ec040f33994629844d5fa3f3fc0984",
        "IPY_MODEL_9f448a5136bb403d886c6b22ff8d74d5"
       ],
       "layout": "IPY_MODEL_586fd775b437452e8a5c1fabbe458c17"
      }
     },
     "5d99961fc3b2470e939d57de3e6892e2": {
      "model_module": "@jupyter-widgets/controls",
      "model_module_version": "2.0.0",
      "model_name": "HTMLModel",
      "state": {
       "layout": "IPY_MODEL_69db6a8dc8a0424586c42fa913a07b7e",
       "style": "IPY_MODEL_467b9c754321470dbc0349fd98d228de",
       "value": " 2951/0 [00:00&lt;00:00, 31733.89 examples/s]"
      }
     },
     "5e3430b7381843519878019db6ebcb32": {
      "model_module": "@jupyter-widgets/controls",
      "model_module_version": "2.0.0",
      "model_name": "FloatProgressModel",
      "state": {
       "bar_style": "success",
       "layout": "IPY_MODEL_875433bb9665470f8cb2192e1f2093bf",
       "max": 737,
       "style": "IPY_MODEL_4465f5364efb42eda1f4b27571bdec88",
       "value": 737
      }
     },
     "62d7e2ffb5f34160b17476f7cc7eca43": {
      "model_module": "@jupyter-widgets/controls",
      "model_module_version": "2.0.0",
      "model_name": "FloatProgressModel",
      "state": {
       "bar_style": "success",
       "layout": "IPY_MODEL_6f12a0d4958a464da72a18a3bb380b40",
       "max": 2951,
       "style": "IPY_MODEL_ab58d55495904d12858cee3143988e23",
       "value": 2951
      }
     },
     "648f66cba78c4a7780459be5de89f4fe": {
      "model_module": "@jupyter-widgets/base",
      "model_module_version": "2.0.0",
      "model_name": "LayoutModel",
      "state": {}
     },
     "6573d9b800774798a29e7beae66ee401": {
      "model_module": "@jupyter-widgets/base",
      "model_module_version": "2.0.0",
      "model_name": "LayoutModel",
      "state": {}
     },
     "66cbddb0379c463b94c0fbec067796bd": {
      "model_module": "@jupyter-widgets/base",
      "model_module_version": "2.0.0",
      "model_name": "LayoutModel",
      "state": {}
     },
     "66f14e1717de4b2d969d87c4420aafc7": {
      "model_module": "@jupyter-widgets/base",
      "model_module_version": "2.0.0",
      "model_name": "LayoutModel",
      "state": {}
     },
     "683e167d9a8348489161b5acf7f3a91b": {
      "model_module": "@jupyter-widgets/controls",
      "model_module_version": "2.0.0",
      "model_name": "FloatProgressModel",
      "state": {
       "bar_style": "success",
       "layout": "IPY_MODEL_79d1c77bd09a492da91de5528fcbc0a2",
       "max": 737,
       "style": "IPY_MODEL_a1cb54ff8ca643c08f944ab328c6d354",
       "value": 737
      }
     },
     "68d252ec5e9949c7a5f976a1433f8156": {
      "model_module": "@jupyter-widgets/controls",
      "model_module_version": "2.0.0",
      "model_name": "HTMLStyleModel",
      "state": {
       "description_width": "",
       "font_size": null,
       "text_color": null
      }
     },
     "699a9271fc5b4a8ebda86a4d8d97a78b": {
      "model_module": "@jupyter-widgets/controls",
      "model_module_version": "2.0.0",
      "model_name": "HTMLModel",
      "state": {
       "layout": "IPY_MODEL_a45900a268084fe5a28461b357846b05",
       "style": "IPY_MODEL_23d91ae207d9464aa69b9c43d3342376",
       "value": " 2/2 [00:00&lt;00:00, 50.17it/s]"
      }
     },
     "69db6a8dc8a0424586c42fa913a07b7e": {
      "model_module": "@jupyter-widgets/base",
      "model_module_version": "2.0.0",
      "model_name": "LayoutModel",
      "state": {}
     },
     "6a67f36c42f04ee3b2ff3511fae2c5e8": {
      "model_module": "@jupyter-widgets/controls",
      "model_module_version": "2.0.0",
      "model_name": "HTMLStyleModel",
      "state": {
       "description_width": "",
       "font_size": null,
       "text_color": null
      }
     },
     "6eb273dc88a04678ac42b76c21686102": {
      "model_module": "@jupyter-widgets/base",
      "model_module_version": "2.0.0",
      "model_name": "LayoutModel",
      "state": {}
     },
     "6f12a0d4958a464da72a18a3bb380b40": {
      "model_module": "@jupyter-widgets/base",
      "model_module_version": "2.0.0",
      "model_name": "LayoutModel",
      "state": {}
     },
     "70ecc72690a94eef8e93ccd1d64286f0": {
      "model_module": "@jupyter-widgets/controls",
      "model_module_version": "2.0.0",
      "model_name": "HTMLStyleModel",
      "state": {
       "description_width": "",
       "font_size": null,
       "text_color": null
      }
     },
     "727b070d0335450989eb7607677f7684": {
      "model_module": "@jupyter-widgets/base",
      "model_module_version": "2.0.0",
      "model_name": "LayoutModel",
      "state": {}
     },
     "73bdfc5cb9f24386b8ef9179406eb8b0": {
      "model_module": "@jupyter-widgets/controls",
      "model_module_version": "2.0.0",
      "model_name": "HTMLModel",
      "state": {
       "layout": "IPY_MODEL_a6b93bd1112843108f1dcf760132ce4c",
       "style": "IPY_MODEL_1fdc1c3f709a40c89ccf6ad169a20743",
       "value": " 737/737 [00:00&lt;00:00, 4436.18 examples/s]"
      }
     },
     "74bcf5ac86484bf59939e10aaad2d734": {
      "model_module": "@jupyter-widgets/controls",
      "model_module_version": "2.0.0",
      "model_name": "HTMLStyleModel",
      "state": {
       "description_width": "",
       "font_size": null,
       "text_color": null
      }
     },
     "75cd99b37549462c8ea38cb20fa14ffc": {
      "model_module": "@jupyter-widgets/base",
      "model_module_version": "2.0.0",
      "model_name": "LayoutModel",
      "state": {}
     },
     "77313c61d42d412d98356a2a35cbb757": {
      "model_module": "@jupyter-widgets/base",
      "model_module_version": "2.0.0",
      "model_name": "LayoutModel",
      "state": {}
     },
     "78619f2420594fd2a5de72fd8189eb76": {
      "model_module": "@jupyter-widgets/controls",
      "model_module_version": "2.0.0",
      "model_name": "FloatProgressModel",
      "state": {
       "bar_style": "success",
       "layout": "IPY_MODEL_ac33d7933a1445a0a073ab0ac48c320a",
       "max": 2,
       "style": "IPY_MODEL_aebbf5a61f4c424fa876f94d8b4a9c17",
       "value": 2
      }
     },
     "79d1c77bd09a492da91de5528fcbc0a2": {
      "model_module": "@jupyter-widgets/base",
      "model_module_version": "2.0.0",
      "model_name": "LayoutModel",
      "state": {}
     },
     "7a442c2d80eb480caaefb910b5f978db": {
      "model_module": "@jupyter-widgets/controls",
      "model_module_version": "2.0.0",
      "model_name": "ProgressStyleModel",
      "state": {
       "description_width": ""
      }
     },
     "7a8e07142aec402ab12d84e818208470": {
      "model_module": "@jupyter-widgets/controls",
      "model_module_version": "2.0.0",
      "model_name": "HTMLModel",
      "state": {
       "layout": "IPY_MODEL_0a2a15e6e85c43b9afbb34d425bfb313",
       "style": "IPY_MODEL_a842573f38224895805019d0791b90a8",
       "value": "Downloading (…)lve/main/config.json: 100%"
      }
     },
     "7b32dfde5c314932b95d87187c553cdf": {
      "model_module": "@jupyter-widgets/controls",
      "model_module_version": "2.0.0",
      "model_name": "FloatProgressModel",
      "state": {
       "bar_style": "success",
       "layout": "IPY_MODEL_018dc7a46b234d2da4c36a1a67b80b79",
       "max": 737,
       "style": "IPY_MODEL_ab907e8f17c9458cbb9771ce702f3a5d",
       "value": 737
      }
     },
     "7b9b83d079cc4ff886f12aa70697b358": {
      "model_module": "@jupyter-widgets/controls",
      "model_module_version": "2.0.0",
      "model_name": "HTMLStyleModel",
      "state": {
       "description_width": "",
       "font_size": null,
       "text_color": null
      }
     },
     "7c69292f9c474c24a695ea0f45a2fa88": {
      "model_module": "@jupyter-widgets/base",
      "model_module_version": "2.0.0",
      "model_name": "LayoutModel",
      "state": {}
     },
     "7c871f250eab47d3b21d639c9c576723": {
      "model_module": "@jupyter-widgets/controls",
      "model_module_version": "2.0.0",
      "model_name": "HTMLStyleModel",
      "state": {
       "description_width": "",
       "font_size": null,
       "text_color": null
      }
     },
     "7e631c5dae064e52b111e8b5fa5d1ad2": {
      "model_module": "@jupyter-widgets/controls",
      "model_module_version": "2.0.0",
      "model_name": "HTMLModel",
      "state": {
       "layout": "IPY_MODEL_5605422998934015bf73d03b4737f7d0",
       "style": "IPY_MODEL_f80baaf89ffb4667b4d3a5e60a8b872b",
       "value": "Generating dev split: "
      }
     },
     "7e9148c8e95e45058fc9d0b485169b43": {
      "model_module": "@jupyter-widgets/controls",
      "model_module_version": "2.0.0",
      "model_name": "ProgressStyleModel",
      "state": {
       "description_width": ""
      }
     },
     "7fc20c1d27e046498e8d5d7d284a4972": {
      "model_module": "@jupyter-widgets/base",
      "model_module_version": "2.0.0",
      "model_name": "LayoutModel",
      "state": {}
     },
     "807df16343b747a6923806fc10fe1976": {
      "model_module": "@jupyter-widgets/controls",
      "model_module_version": "2.0.0",
      "model_name": "HTMLStyleModel",
      "state": {
       "description_width": "",
       "font_size": null,
       "text_color": null
      }
     },
     "82bb12d0f9c24cfc9f0723ccbad86ba2": {
      "model_module": "@jupyter-widgets/base",
      "model_module_version": "2.0.0",
      "model_name": "LayoutModel",
      "state": {}
     },
     "82eaab73db4e4835b8109a7c45b4891d": {
      "model_module": "@jupyter-widgets/controls",
      "model_module_version": "2.0.0",
      "model_name": "HTMLModel",
      "state": {
       "layout": "IPY_MODEL_e8d6581c12bd40fabadae17e1e838a74",
       "style": "IPY_MODEL_7c871f250eab47d3b21d639c9c576723",
       "value": " 5.07M/5.07M [00:04&lt;00:00, 1.08MB/s]"
      }
     },
     "83b1abd6c3a44868abc957199b6c56c0": {
      "model_module": "@jupyter-widgets/controls",
      "model_module_version": "2.0.0",
      "model_name": "FloatProgressModel",
      "state": {
       "bar_style": "success",
       "layout": "IPY_MODEL_6573d9b800774798a29e7beae66ee401",
       "max": 737,
       "style": "IPY_MODEL_ac57ef7e07254666be2163781f2052cc",
       "value": 737
      }
     },
     "8616d83d50f2478faac205076e4d5e77": {
      "model_module": "@jupyter-widgets/base",
      "model_module_version": "2.0.0",
      "model_name": "LayoutModel",
      "state": {}
     },
     "875433bb9665470f8cb2192e1f2093bf": {
      "model_module": "@jupyter-widgets/base",
      "model_module_version": "2.0.0",
      "model_name": "LayoutModel",
      "state": {}
     },
     "87fe65dfd681426e8f1f2ff788b6bd76": {
      "model_module": "@jupyter-widgets/controls",
      "model_module_version": "2.0.0",
      "model_name": "HBoxModel",
      "state": {
       "children": [
        "IPY_MODEL_a60935d7b55b492f9daf808b3bbf4ce7",
        "IPY_MODEL_3a640aa62132471a82cde085943294c0",
        "IPY_MODEL_a39dd28796d1401dbc076ecd1a98d479"
       ],
       "layout": "IPY_MODEL_16bab123b1774cd3810b8dbe98346fe0"
      }
     },
     "8af7d93f05d949029faf31711ebb2571": {
      "model_module": "@jupyter-widgets/controls",
      "model_module_version": "2.0.0",
      "model_name": "HBoxModel",
      "state": {
       "children": [
        "IPY_MODEL_a08e43953265401eacbb9a4ad29c72d6",
        "IPY_MODEL_b71deb9a58614646b89d802cb43d420b",
        "IPY_MODEL_5d99961fc3b2470e939d57de3e6892e2"
       ],
       "layout": "IPY_MODEL_12b569e98faf4609a1154da1358a7f68"
      }
     },
     "8b268cc564e6443ea958c769d96b0a5d": {
      "model_module": "@jupyter-widgets/controls",
      "model_module_version": "2.0.0",
      "model_name": "ProgressStyleModel",
      "state": {
       "description_width": ""
      }
     },
     "8ed3ae448c274c9bbf04c823bff91603": {
      "model_module": "@jupyter-widgets/base",
      "model_module_version": "2.0.0",
      "model_name": "LayoutModel",
      "state": {}
     },
     "9664c6ce132d42acbb3fc1f3dff64c24": {
      "model_module": "@jupyter-widgets/base",
      "model_module_version": "2.0.0",
      "model_name": "LayoutModel",
      "state": {}
     },
     "9aa0910e1b7946c5a965080cb4702076": {
      "model_module": "@jupyter-widgets/controls",
      "model_module_version": "2.0.0",
      "model_name": "HTMLStyleModel",
      "state": {
       "description_width": "",
       "font_size": null,
       "text_color": null
      }
     },
     "9af9362f22d347638842c44f54aac6f5": {
      "model_module": "@jupyter-widgets/base",
      "model_module_version": "2.0.0",
      "model_name": "LayoutModel",
      "state": {}
     },
     "9b273ca31048464ea788ec759691dfba": {
      "model_module": "@jupyter-widgets/controls",
      "model_module_version": "2.0.0",
      "model_name": "HTMLModel",
      "state": {
       "layout": "IPY_MODEL_77313c61d42d412d98356a2a35cbb757",
       "style": "IPY_MODEL_807df16343b747a6923806fc10fe1976",
       "value": " 737/0 [00:00&lt;00:00, 19694.58 examples/s]"
      }
     },
     "9ecc8a56b7dc4544b02ce24b37a81ed4": {
      "model_module": "@jupyter-widgets/controls",
      "model_module_version": "2.0.0",
      "model_name": "HTMLStyleModel",
      "state": {
       "description_width": "",
       "font_size": null,
       "text_color": null
      }
     },
     "9ef8743b070c4ecfb3067c7291c15542": {
      "model_module": "@jupyter-widgets/base",
      "model_module_version": "2.0.0",
      "model_name": "LayoutModel",
      "state": {}
     },
     "9f448a5136bb403d886c6b22ff8d74d5": {
      "model_module": "@jupyter-widgets/controls",
      "model_module_version": "2.0.0",
      "model_name": "HTMLModel",
      "state": {
       "layout": "IPY_MODEL_c1a98a298149452bb84d7d77789b4296",
       "style": "IPY_MODEL_c3b034657bf24a1f9a7cb12d67031d36",
       "value": " 2/2 [00:00&lt;00:00, 151.51it/s]"
      }
     },
     "a08e43953265401eacbb9a4ad29c72d6": {
      "model_module": "@jupyter-widgets/controls",
      "model_module_version": "2.0.0",
      "model_name": "HTMLModel",
      "state": {
       "layout": "IPY_MODEL_b90f4a61433842bfabcb8d625bb1386c",
       "style": "IPY_MODEL_70ecc72690a94eef8e93ccd1d64286f0",
       "value": "Generating train split: "
      }
     },
     "a0f8be529dfc44d5ad2e73d9ffcfa779": {
      "model_module": "@jupyter-widgets/controls",
      "model_module_version": "2.0.0",
      "model_name": "FloatProgressModel",
      "state": {
       "bar_style": "success",
       "layout": "IPY_MODEL_0182ec55d1f54569be8942fdaba0c764",
       "max": 615,
       "style": "IPY_MODEL_f17993e710594b85998f71e6ab892918",
       "value": 615
      }
     },
     "a1cb54ff8ca643c08f944ab328c6d354": {
      "model_module": "@jupyter-widgets/controls",
      "model_module_version": "2.0.0",
      "model_name": "ProgressStyleModel",
      "state": {
       "description_width": ""
      }
     },
     "a39dd28796d1401dbc076ecd1a98d479": {
      "model_module": "@jupyter-widgets/controls",
      "model_module_version": "2.0.0",
      "model_name": "HTMLModel",
      "state": {
       "layout": "IPY_MODEL_727b070d0335450989eb7607677f7684",
       "style": "IPY_MODEL_18da459c66cf448fac8f19a2a86ef1fa",
       "value": " 2951/2951 [00:00&lt;00:00, 5275.50 examples/s]"
      }
     },
     "a3b5189ae0a7434bac0d7ad1d7bc5309": {
      "model_module": "@jupyter-widgets/base",
      "model_module_version": "2.0.0",
      "model_name": "LayoutModel",
      "state": {}
     },
     "a45900a268084fe5a28461b357846b05": {
      "model_module": "@jupyter-widgets/base",
      "model_module_version": "2.0.0",
      "model_name": "LayoutModel",
      "state": {}
     },
     "a60935d7b55b492f9daf808b3bbf4ce7": {
      "model_module": "@jupyter-widgets/controls",
      "model_module_version": "2.0.0",
      "model_name": "HTMLModel",
      "state": {
       "layout": "IPY_MODEL_29aaab51b04143a58e7edf5b4a3d505a",
       "style": "IPY_MODEL_3dafe46117dc48fa91521794935861dc",
       "value": "Map: 100%"
      }
     },
     "a64b9433930647aba6fddfa080f64e59": {
      "model_module": "@jupyter-widgets/controls",
      "model_module_version": "2.0.0",
      "model_name": "HTMLStyleModel",
      "state": {
       "description_width": "",
       "font_size": null,
       "text_color": null
      }
     },
     "a6b93bd1112843108f1dcf760132ce4c": {
      "model_module": "@jupyter-widgets/base",
      "model_module_version": "2.0.0",
      "model_name": "LayoutModel",
      "state": {}
     },
     "a840ba3f1e5945b29b13d130d5b6b12c": {
      "model_module": "@jupyter-widgets/controls",
      "model_module_version": "2.0.0",
      "model_name": "HBoxModel",
      "state": {
       "children": [
        "IPY_MODEL_409ba9eb40c2462fb64e146da5db0c37",
        "IPY_MODEL_e883a79bd9a249d0b7c209ad49b2d37c",
        "IPY_MODEL_cab662f55ec94fa0bd04e0171907c961"
       ],
       "layout": "IPY_MODEL_5a51e121bf38432b9ba7ae5e240b9182"
      }
     },
     "a842573f38224895805019d0791b90a8": {
      "model_module": "@jupyter-widgets/controls",
      "model_module_version": "2.0.0",
      "model_name": "HTMLStyleModel",
      "state": {
       "description_width": "",
       "font_size": null,
       "text_color": null
      }
     },
     "aa82f681f337400887f3c22f7e1441e9": {
      "model_module": "@jupyter-widgets/base",
      "model_module_version": "2.0.0",
      "model_name": "LayoutModel",
      "state": {}
     },
     "aaa21bb1f1dc42478d9e2e371bb97448": {
      "model_module": "@jupyter-widgets/controls",
      "model_module_version": "2.0.0",
      "model_name": "ProgressStyleModel",
      "state": {
       "description_width": ""
      }
     },
     "ab58d55495904d12858cee3143988e23": {
      "model_module": "@jupyter-widgets/controls",
      "model_module_version": "2.0.0",
      "model_name": "ProgressStyleModel",
      "state": {
       "description_width": ""
      }
     },
     "ab907e8f17c9458cbb9771ce702f3a5d": {
      "model_module": "@jupyter-widgets/controls",
      "model_module_version": "2.0.0",
      "model_name": "ProgressStyleModel",
      "state": {
       "description_width": ""
      }
     },
     "ac33d7933a1445a0a073ab0ac48c320a": {
      "model_module": "@jupyter-widgets/base",
      "model_module_version": "2.0.0",
      "model_name": "LayoutModel",
      "state": {}
     },
     "ac57ef7e07254666be2163781f2052cc": {
      "model_module": "@jupyter-widgets/controls",
      "model_module_version": "2.0.0",
      "model_name": "ProgressStyleModel",
      "state": {
       "description_width": ""
      }
     },
     "aebbf5a61f4c424fa876f94d8b4a9c17": {
      "model_module": "@jupyter-widgets/controls",
      "model_module_version": "2.0.0",
      "model_name": "ProgressStyleModel",
      "state": {
       "description_width": ""
      }
     },
     "b590d7142d044c328d7e4d3dea314941": {
      "model_module": "@jupyter-widgets/controls",
      "model_module_version": "2.0.0",
      "model_name": "ProgressStyleModel",
      "state": {
       "description_width": ""
      }
     },
     "b71deb9a58614646b89d802cb43d420b": {
      "model_module": "@jupyter-widgets/controls",
      "model_module_version": "2.0.0",
      "model_name": "FloatProgressModel",
      "state": {
       "bar_style": "success",
       "layout": "IPY_MODEL_3b8fac062de64a408176821d0460416f",
       "max": 1,
       "style": "IPY_MODEL_08a95bff832040a7842b5a6aa3ab8ff1",
       "value": 1
      }
     },
     "b8d39b7a7c9c4d32989e90cdc35338b7": {
      "model_module": "@jupyter-widgets/controls",
      "model_module_version": "2.0.0",
      "model_name": "HTMLModel",
      "state": {
       "layout": "IPY_MODEL_3cb9ff4b9e2b4d9aacccc56d2cd0ca4c",
       "style": "IPY_MODEL_9aa0910e1b7946c5a965080cb4702076",
       "value": "Downloading (…)tencepiece.bpe.model: 100%"
      }
     },
     "b90f4a61433842bfabcb8d625bb1386c": {
      "model_module": "@jupyter-widgets/base",
      "model_module_version": "2.0.0",
      "model_name": "LayoutModel",
      "state": {}
     },
     "b98a09b335a24844bc5b7377294becc3": {
      "model_module": "@jupyter-widgets/base",
      "model_module_version": "2.0.0",
      "model_name": "LayoutModel",
      "state": {}
     },
     "b9f612b312794047a9d1e681e500f4da": {
      "model_module": "@jupyter-widgets/controls",
      "model_module_version": "2.0.0",
      "model_name": "HTMLModel",
      "state": {
       "layout": "IPY_MODEL_d8d753b89fe946dab2c0cf4352903903",
       "style": "IPY_MODEL_545f40c614a24b29bf29e3989fc112ed",
       "value": "Downloading (…)/main/tokenizer.json: 100%"
      }
     },
     "ba0498310ee044f09aff6e2f76e5cb2c": {
      "model_module": "@jupyter-widgets/base",
      "model_module_version": "2.0.0",
      "model_name": "LayoutModel",
      "state": {}
     },
     "ba3fa131c7fd40a39b3cf7fcb853cb95": {
      "model_module": "@jupyter-widgets/controls",
      "model_module_version": "2.0.0",
      "model_name": "HTMLStyleModel",
      "state": {
       "description_width": "",
       "font_size": null,
       "text_color": null
      }
     },
     "ba96f62c83544007b6a636b34790dbe9": {
      "model_module": "@jupyter-widgets/controls",
      "model_module_version": "2.0.0",
      "model_name": "HTMLModel",
      "state": {
       "layout": "IPY_MODEL_57ed8d9b47f348118b8053860467973a",
       "style": "IPY_MODEL_c1bb3b7c613f443db14b391ad5cdf6d9",
       "value": " 2951/2951 [00:00&lt;00:00, 4550.49 examples/s]"
      }
     },
     "bb35754e8c254a8bbef548b941bc7e83": {
      "model_module": "@jupyter-widgets/controls",
      "model_module_version": "2.0.0",
      "model_name": "HTMLModel",
      "state": {
       "layout": "IPY_MODEL_648f66cba78c4a7780459be5de89f4fe",
       "style": "IPY_MODEL_4a91bc41a28c41f1a02db048328cff59",
       "value": " 41.9M/1.12G [00:34&lt;14:55, 1.20MB/s]"
      }
     },
     "bb90572f15474f95b5f5724bc5ed29b8": {
      "model_module": "@jupyter-widgets/base",
      "model_module_version": "2.0.0",
      "model_name": "LayoutModel",
      "state": {}
     },
     "bd1b8d155dde47498e65c0e650aa9384": {
      "model_module": "@jupyter-widgets/base",
      "model_module_version": "2.0.0",
      "model_name": "LayoutModel",
      "state": {}
     },
     "bd387496e18742d1b6fe35d59848a1d8": {
      "model_module": "@jupyter-widgets/controls",
      "model_module_version": "2.0.0",
      "model_name": "FloatProgressModel",
      "state": {
       "bar_style": "success",
       "layout": "IPY_MODEL_c2516d0ea2a64a21b03ad11967cddfea",
       "max": 1,
       "style": "IPY_MODEL_7e9148c8e95e45058fc9d0b485169b43",
       "value": 1
      }
     },
     "bf945d3a0c864214b4b2c2a3f50def43": {
      "model_module": "@jupyter-widgets/controls",
      "model_module_version": "2.0.0",
      "model_name": "HTMLStyleModel",
      "state": {
       "description_width": "",
       "font_size": null,
       "text_color": null
      }
     },
     "c0d0ea41cec642f882a5d9d6fdfbbb5e": {
      "model_module": "@jupyter-widgets/controls",
      "model_module_version": "2.0.0",
      "model_name": "HTMLModel",
      "state": {
       "layout": "IPY_MODEL_4eb9ecc8a5f54ecd9a90a960ee572201",
       "style": "IPY_MODEL_2f286563de8b4e728b2a3ffc3f526712",
       "value": "Map: 100%"
      }
     },
     "c1a98a298149452bb84d7d77789b4296": {
      "model_module": "@jupyter-widgets/base",
      "model_module_version": "2.0.0",
      "model_name": "LayoutModel",
      "state": {}
     },
     "c1bb3b7c613f443db14b391ad5cdf6d9": {
      "model_module": "@jupyter-widgets/controls",
      "model_module_version": "2.0.0",
      "model_name": "HTMLStyleModel",
      "state": {
       "description_width": "",
       "font_size": null,
       "text_color": null
      }
     },
     "c2516d0ea2a64a21b03ad11967cddfea": {
      "model_module": "@jupyter-widgets/base",
      "model_module_version": "2.0.0",
      "model_name": "LayoutModel",
      "state": {
       "width": "20px"
      }
     },
     "c3b034657bf24a1f9a7cb12d67031d36": {
      "model_module": "@jupyter-widgets/controls",
      "model_module_version": "2.0.0",
      "model_name": "HTMLStyleModel",
      "state": {
       "description_width": "",
       "font_size": null,
       "text_color": null
      }
     },
     "c5f0cdb5feee4f6f8ff2e22cb902f309": {
      "model_module": "@jupyter-widgets/controls",
      "model_module_version": "2.0.0",
      "model_name": "HBoxModel",
      "state": {
       "children": [
        "IPY_MODEL_f3507f3244c34c25bd9010575d8ef362",
        "IPY_MODEL_4d037356d95149deb45a282e39364754",
        "IPY_MODEL_e666707b223f4e95bd39b8b5786cbb28"
       ],
       "layout": "IPY_MODEL_c8ccdd6fa69f4dd09ce3915046dc2dfa"
      }
     },
     "c6ad53dad3454f0ca3365ad11235807b": {
      "model_module": "@jupyter-widgets/controls",
      "model_module_version": "2.0.0",
      "model_name": "HBoxModel",
      "state": {
       "children": [
        "IPY_MODEL_b8d39b7a7c9c4d32989e90cdc35338b7",
        "IPY_MODEL_f00787805a834e95b078b73bf1cdc7f2",
        "IPY_MODEL_82eaab73db4e4835b8109a7c45b4891d"
       ],
       "layout": "IPY_MODEL_103ed8d5842b490596bece3a011ea609"
      }
     },
     "c6de4a9c7501485894309faed697a9ea": {
      "model_module": "@jupyter-widgets/controls",
      "model_module_version": "2.0.0",
      "model_name": "HTMLModel",
      "state": {
       "layout": "IPY_MODEL_07b3aac87e8646ff80faf397c7cb9ee3",
       "style": "IPY_MODEL_bf945d3a0c864214b4b2c2a3f50def43",
       "value": " 737/737 [00:08&lt;00:00, 94.54 examples/s]"
      }
     },
     "c8600cfaa5474926a09c07598dc3f5a4": {
      "model_module": "@jupyter-widgets/controls",
      "model_module_version": "2.0.0",
      "model_name": "HBoxModel",
      "state": {
       "children": [
        "IPY_MODEL_220067de8de448caab88d94605f304f5",
        "IPY_MODEL_513bffdecf2241b1a1d7541780f426e7",
        "IPY_MODEL_34e75c5405d94e2499c1ee59499c2ba3"
       ],
       "layout": "IPY_MODEL_04b0915cf2bc4b259ed8cb15c1717e79"
      }
     },
     "c8ccdd6fa69f4dd09ce3915046dc2dfa": {
      "model_module": "@jupyter-widgets/base",
      "model_module_version": "2.0.0",
      "model_name": "LayoutModel",
      "state": {}
     },
     "c8e79e0358c64a749f2748a1a06f9e2c": {
      "model_module": "@jupyter-widgets/controls",
      "model_module_version": "2.0.0",
      "model_name": "FloatProgressModel",
      "state": {
       "bar_style": "success",
       "layout": "IPY_MODEL_6eb273dc88a04678ac42b76c21686102",
       "max": 9096718,
       "style": "IPY_MODEL_48864f272dc94e9bbb044b6697b1ccb3",
       "value": 9096718
      }
     },
     "caa6e7ade0514a999f2c3434d8e3b8f1": {
      "model_module": "@jupyter-widgets/controls",
      "model_module_version": "2.0.0",
      "model_name": "HTMLModel",
      "state": {
       "layout": "IPY_MODEL_2f7ba2d2563946e6b8cf9765911310fc",
       "style": "IPY_MODEL_2418cad4a1ab47ee937703d9673ed306",
       "value": "Downloading model.safetensors:   4%"
      }
     },
     "cab662f55ec94fa0bd04e0171907c961": {
      "model_module": "@jupyter-widgets/controls",
      "model_module_version": "2.0.0",
      "model_name": "HTMLModel",
      "state": {
       "layout": "IPY_MODEL_d4891351d3c0458bb2e5e32d68d50e40",
       "style": "IPY_MODEL_cd59da22294f48caaa2b08c981365fc1",
       "value": " 737/737 [00:00&lt;00:00, 5593.04 examples/s]"
      }
     },
     "cd59da22294f48caaa2b08c981365fc1": {
      "model_module": "@jupyter-widgets/controls",
      "model_module_version": "2.0.0",
      "model_name": "HTMLStyleModel",
      "state": {
       "description_width": "",
       "font_size": null,
       "text_color": null
      }
     },
     "d0c4c19fb95a4962b418c5d8dc307137": {
      "model_module": "@jupyter-widgets/controls",
      "model_module_version": "2.0.0",
      "model_name": "HTMLStyleModel",
      "state": {
       "description_width": "",
       "font_size": null,
       "text_color": null
      }
     },
     "d1617f9e318a4752a2ef9622ed8dd797": {
      "model_module": "@jupyter-widgets/controls",
      "model_module_version": "2.0.0",
      "model_name": "HBoxModel",
      "state": {
       "children": [
        "IPY_MODEL_4bc5957fc53f4ba993031740cf2d85a2",
        "IPY_MODEL_62d7e2ffb5f34160b17476f7cc7eca43",
        "IPY_MODEL_ba96f62c83544007b6a636b34790dbe9"
       ],
       "layout": "IPY_MODEL_0a6a33d3c476438aad99bb31218112f0"
      }
     },
     "d1aace54a5544ae99fb16c0a83ac5620": {
      "model_module": "@jupyter-widgets/controls",
      "model_module_version": "2.0.0",
      "model_name": "HBoxModel",
      "state": {
       "children": [
        "IPY_MODEL_7a8e07142aec402ab12d84e818208470",
        "IPY_MODEL_a0f8be529dfc44d5ad2e73d9ffcfa779",
        "IPY_MODEL_0bade065e5fa4bd19fc323a4ff85043d"
       ],
       "layout": "IPY_MODEL_e117cd4960de45f2a4081b7cdcf0373e"
      }
     },
     "d1cba1c883db44cb8da654db3a951ba9": {
      "model_module": "@jupyter-widgets/base",
      "model_module_version": "2.0.0",
      "model_name": "LayoutModel",
      "state": {}
     },
     "d4891351d3c0458bb2e5e32d68d50e40": {
      "model_module": "@jupyter-widgets/base",
      "model_module_version": "2.0.0",
      "model_name": "LayoutModel",
      "state": {}
     },
     "d66b97c77a834364af04a9342c8a257f": {
      "model_module": "@jupyter-widgets/controls",
      "model_module_version": "2.0.0",
      "model_name": "ProgressStyleModel",
      "state": {
       "description_width": ""
      }
     },
     "d79fd2aed19b4820a78b1d7473506610": {
      "model_module": "@jupyter-widgets/controls",
      "model_module_version": "2.0.0",
      "model_name": "HTMLModel",
      "state": {
       "layout": "IPY_MODEL_53542730a2974e519b436e1821a456e7",
       "style": "IPY_MODEL_6a67f36c42f04ee3b2ff3511fae2c5e8",
       "value": " 737/737 [00:00&lt;00:00, 1127.13 examples/s]"
      }
     },
     "d8d753b89fe946dab2c0cf4352903903": {
      "model_module": "@jupyter-widgets/base",
      "model_module_version": "2.0.0",
      "model_name": "LayoutModel",
      "state": {}
     },
     "da1b08d93323454594e799af2692a4c5": {
      "model_module": "@jupyter-widgets/controls",
      "model_module_version": "2.0.0",
      "model_name": "HBoxModel",
      "state": {
       "children": [
        "IPY_MODEL_c0d0ea41cec642f882a5d9d6fdfbbb5e",
        "IPY_MODEL_83b1abd6c3a44868abc957199b6c56c0",
        "IPY_MODEL_d79fd2aed19b4820a78b1d7473506610"
       ],
       "layout": "IPY_MODEL_0d2f9abcfd4549dd9a766bd042d891e5"
      }
     },
     "da76534f48b74f099e47da7e199bdff6": {
      "model_module": "@jupyter-widgets/controls",
      "model_module_version": "2.0.0",
      "model_name": "HTMLStyleModel",
      "state": {
       "description_width": "",
       "font_size": null,
       "text_color": null
      }
     },
     "da980424c6994fb6974a9da616536b25": {
      "model_module": "@jupyter-widgets/controls",
      "model_module_version": "2.0.0",
      "model_name": "FloatProgressModel",
      "state": {
       "layout": "IPY_MODEL_3f85e1f3375946a3ba5a3ef9417239f5",
       "max": 1115567652,
       "style": "IPY_MODEL_41e97daa54124361a61485a13adfda5c",
       "value": 41943040
      }
     },
     "dca05a1ce2e24441ad28f5000bb1e087": {
      "model_module": "@jupyter-widgets/controls",
      "model_module_version": "2.0.0",
      "model_name": "HTMLStyleModel",
      "state": {
       "description_width": "",
       "font_size": null,
       "text_color": null
      }
     },
     "dcd342c4e327428e9f0cf37a97f4ac83": {
      "model_module": "@jupyter-widgets/controls",
      "model_module_version": "2.0.0",
      "model_name": "HTMLModel",
      "state": {
       "layout": "IPY_MODEL_1f0c0266ba534b279cacea26243f1f9a",
       "style": "IPY_MODEL_328d7dbb7f094394a722a29187a0e207",
       "value": " 9.10M/9.10M [00:09&lt;00:00, 970kB/s]"
      }
     },
     "dfa6525a8fa44744a942d7380a3de06e": {
      "model_module": "@jupyter-widgets/base",
      "model_module_version": "2.0.0",
      "model_name": "LayoutModel",
      "state": {}
     },
     "e112536df3b04064ac727feadfb1ca3c": {
      "model_module": "@jupyter-widgets/controls",
      "model_module_version": "2.0.0",
      "model_name": "ProgressStyleModel",
      "state": {
       "description_width": ""
      }
     },
     "e117cd4960de45f2a4081b7cdcf0373e": {
      "model_module": "@jupyter-widgets/base",
      "model_module_version": "2.0.0",
      "model_name": "LayoutModel",
      "state": {}
     },
     "e6329712a8d54576a22d9a3585850bce": {
      "model_module": "@jupyter-widgets/controls",
      "model_module_version": "2.0.0",
      "model_name": "HTMLModel",
      "state": {
       "layout": "IPY_MODEL_9ef8743b070c4ecfb3067c7291c15542",
       "style": "IPY_MODEL_43aa7367a9b14d588d3b1febb2656e62",
       "value": "Computing checksums: 100%"
      }
     },
     "e666707b223f4e95bd39b8b5786cbb28": {
      "model_module": "@jupyter-widgets/controls",
      "model_module_version": "2.0.0",
      "model_name": "HTMLModel",
      "state": {
       "layout": "IPY_MODEL_3f2621fc12f941ff8eafd5895ec9359e",
       "style": "IPY_MODEL_9ecc8a56b7dc4544b02ce24b37a81ed4",
       "value": " 2951/2951 [00:37&lt;00:00, 82.96 examples/s]"
      }
     },
     "e7a176a12f1849d29b9a2e57eb75a5a3": {
      "model_module": "@jupyter-widgets/controls",
      "model_module_version": "2.0.0",
      "model_name": "HTMLModel",
      "state": {
       "layout": "IPY_MODEL_56107e99b56f45adbe817b72c916abe4",
       "style": "IPY_MODEL_dca05a1ce2e24441ad28f5000bb1e087",
       "value": " 2951/2951 [00:02&lt;00:00, 1134.24 examples/s]"
      }
     },
     "e883a79bd9a249d0b7c209ad49b2d37c": {
      "model_module": "@jupyter-widgets/controls",
      "model_module_version": "2.0.0",
      "model_name": "FloatProgressModel",
      "state": {
       "bar_style": "success",
       "layout": "IPY_MODEL_27465a5bccab4e399c40d43372400e10",
       "max": 737,
       "style": "IPY_MODEL_b590d7142d044c328d7e4d3dea314941",
       "value": 737
      }
     },
     "e8d6581c12bd40fabadae17e1e838a74": {
      "model_module": "@jupyter-widgets/base",
      "model_module_version": "2.0.0",
      "model_name": "LayoutModel",
      "state": {}
     },
     "e925031d49834069b3bba033a2a4d250": {
      "model_module": "@jupyter-widgets/controls",
      "model_module_version": "2.0.0",
      "model_name": "HTMLModel",
      "state": {
       "layout": "IPY_MODEL_82bb12d0f9c24cfc9f0723ccbad86ba2",
       "style": "IPY_MODEL_a64b9433930647aba6fddfa080f64e59",
       "value": " 737/737 [00:00&lt;00:00, 4751.11 examples/s]"
      }
     },
     "e97f1257ceb54de89a6d612bba15b49f": {
      "model_module": "@jupyter-widgets/controls",
      "model_module_version": "2.0.0",
      "model_name": "HTMLStyleModel",
      "state": {
       "description_width": "",
       "font_size": null,
       "text_color": null
      }
     },
     "ec603256c3d047c5b868ce13204e2f7a": {
      "model_module": "@jupyter-widgets/controls",
      "model_module_version": "2.0.0",
      "model_name": "HBoxModel",
      "state": {
       "children": [
        "IPY_MODEL_1b24547bdfab4e74adced2901692506d",
        "IPY_MODEL_7b32dfde5c314932b95d87187c553cdf",
        "IPY_MODEL_e925031d49834069b3bba033a2a4d250"
       ],
       "layout": "IPY_MODEL_ff559c748e5e4f7c98a440291d226cd8"
      }
     },
     "ec6967c13f1e43b3aa8c563ce202272b": {
      "model_module": "@jupyter-widgets/controls",
      "model_module_version": "2.0.0",
      "model_name": "FloatProgressModel",
      "state": {
       "bar_style": "success",
       "layout": "IPY_MODEL_bb90572f15474f95b5f5724bc5ed29b8",
       "max": 2,
       "style": "IPY_MODEL_aaa21bb1f1dc42478d9e2e371bb97448",
       "value": 2
      }
     },
     "ec94d42df25847d9a4a95d9067bcef84": {
      "model_module": "@jupyter-widgets/controls",
      "model_module_version": "2.0.0",
      "model_name": "HBoxModel",
      "state": {
       "children": [
        "IPY_MODEL_e6329712a8d54576a22d9a3585850bce",
        "IPY_MODEL_ec6967c13f1e43b3aa8c563ce202272b",
        "IPY_MODEL_184a2eb1018f41988579b457e5d9c98f"
       ],
       "layout": "IPY_MODEL_66cbddb0379c463b94c0fbec067796bd"
      }
     },
     "ee5518c4af6b4fcebf8c799138d7eaf9": {
      "model_module": "@jupyter-widgets/base",
      "model_module_version": "2.0.0",
      "model_name": "LayoutModel",
      "state": {}
     },
     "f00787805a834e95b078b73bf1cdc7f2": {
      "model_module": "@jupyter-widgets/controls",
      "model_module_version": "2.0.0",
      "model_name": "FloatProgressModel",
      "state": {
       "bar_style": "success",
       "layout": "IPY_MODEL_2c68800795824832b0cc4a8c92408071",
       "max": 5069051,
       "style": "IPY_MODEL_f12e974202e84db88bf2780f020eb15d",
       "value": 5069051
      }
     },
     "f12e974202e84db88bf2780f020eb15d": {
      "model_module": "@jupyter-widgets/controls",
      "model_module_version": "2.0.0",
      "model_name": "ProgressStyleModel",
      "state": {
       "description_width": ""
      }
     },
     "f17993e710594b85998f71e6ab892918": {
      "model_module": "@jupyter-widgets/controls",
      "model_module_version": "2.0.0",
      "model_name": "ProgressStyleModel",
      "state": {
       "description_width": ""
      }
     },
     "f3507f3244c34c25bd9010575d8ef362": {
      "model_module": "@jupyter-widgets/controls",
      "model_module_version": "2.0.0",
      "model_name": "HTMLModel",
      "state": {
       "layout": "IPY_MODEL_7fc20c1d27e046498e8d5d7d284a4972",
       "style": "IPY_MODEL_1b25b53c834646f9b970de40b627583b",
       "value": "Map: 100%"
      }
     },
     "f40d51f097614e21a883fd6eea99774c": {
      "model_module": "@jupyter-widgets/base",
      "model_module_version": "2.0.0",
      "model_name": "LayoutModel",
      "state": {}
     },
     "f44a9daaf88142819fd0d20e3752a1f8": {
      "model_module": "@jupyter-widgets/controls",
      "model_module_version": "2.0.0",
      "model_name": "HTMLStyleModel",
      "state": {
       "description_width": "",
       "font_size": null,
       "text_color": null
      }
     },
     "f4573b8e7551463b91a8d2f4557dd120": {
      "model_module": "@jupyter-widgets/controls",
      "model_module_version": "2.0.0",
      "model_name": "HBoxModel",
      "state": {
       "children": [
        "IPY_MODEL_b9f612b312794047a9d1e681e500f4da",
        "IPY_MODEL_c8e79e0358c64a749f2748a1a06f9e2c",
        "IPY_MODEL_dcd342c4e327428e9f0cf37a97f4ac83"
       ],
       "layout": "IPY_MODEL_f9a02c562a54447181ef5c6db72b0a7e"
      }
     },
     "f58f0c2321c6470ca88b782e81b85643": {
      "model_module": "@jupyter-widgets/base",
      "model_module_version": "2.0.0",
      "model_name": "LayoutModel",
      "state": {}
     },
     "f80baaf89ffb4667b4d3a5e60a8b872b": {
      "model_module": "@jupyter-widgets/controls",
      "model_module_version": "2.0.0",
      "model_name": "HTMLStyleModel",
      "state": {
       "description_width": "",
       "font_size": null,
       "text_color": null
      }
     },
     "f88164e453044c3680a25cdddd2443a7": {
      "model_module": "@jupyter-widgets/controls",
      "model_module_version": "2.0.0",
      "model_name": "HTMLModel",
      "state": {
       "layout": "IPY_MODEL_4c9f1dae7b88492c9cedd4d74782b49b",
       "style": "IPY_MODEL_da76534f48b74f099e47da7e199bdff6",
       "value": "Extracting data files: 100%"
      }
     },
     "f9a02c562a54447181ef5c6db72b0a7e": {
      "model_module": "@jupyter-widgets/base",
      "model_module_version": "2.0.0",
      "model_name": "LayoutModel",
      "state": {}
     },
     "ff559c748e5e4f7c98a440291d226cd8": {
      "model_module": "@jupyter-widgets/base",
      "model_module_version": "2.0.0",
      "model_name": "LayoutModel",
      "state": {}
     }
    },
    "version_major": 2,
    "version_minor": 0
   }
  }
 },
 "nbformat": 4,
 "nbformat_minor": 5
}
