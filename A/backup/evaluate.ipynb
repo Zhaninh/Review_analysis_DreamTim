{
 "cells": [
  {
   "cell_type": "code",
   "execution_count": null,
   "id": "128ff8e4-9f7d-462a-a56a-e411805dcfe1",
   "metadata": {},
   "outputs": [],
   "source": [
    "from transformers import AdamW, get_scheduler\n",
    "from torch.utils.data import DataLoader\n",
    "from vncorenlp import VnCoreNLP\n",
    "from tqdm.auto import tqdm\n",
    "import numpy as np\n",
    "import torch\n",
    "import random\n",
    "from datasets import load_dataset"
   ]
  },
  {
   "cell_type": "code",
   "execution_count": 2,
   "id": "a2ce1b1e-669d-47d9-a168-abe970f4841d",
   "metadata": {},
   "outputs": [
    {
     "name": "stderr",
     "output_type": "stream",
     "text": [
      "C:\\Users\\lemai\\AppData\\Local\\Programs\\Python\\Python310\\lib\\site-packages\\numpy\\_distributor_init.py:30: UserWarning: loaded more than 1 DLL from .libs:\n",
      "C:\\Users\\lemai\\AppData\\Local\\Programs\\Python\\Python310\\lib\\site-packages\\numpy\\.libs\\libopenblas.FB5AE2TYXYH2IJRDKGDGQ3XBKLKTF43H.gfortran-win_amd64.dll\n",
      "C:\\Users\\lemai\\AppData\\Local\\Programs\\Python\\Python310\\lib\\site-packages\\numpy\\.libs\\libopenblas64__v0.3.21-gcc_10_3_0.dll\n",
      "  warnings.warn(\"loaded more than 1 DLL from .libs:\"\n"
     ]
    }
   ],
   "source": [
    "import nbimporter\n",
    "from utlis import *"
   ]
  },
  {
   "cell_type": "code",
   "execution_count": 1,
   "id": "95d2bd6c-0006-4f90-a119-75e3e5c100ca",
   "metadata": {},
   "outputs": [],
   "source": [
    "class evaluation():\n",
    "    def __init__(self):\n",
    "        self.data_path = get_test_path()\n",
    "        self.model_path = get_weight_path()\n",
    "        \n",
    "\n",
    "    def eval(self):\n",
    "        testset_path = get_test_path()\n",
    "\n",
    "        data_files = {'test': testset_path}\n",
    "\n",
    "        dataset = load_dataset('csv', data_files=data_files)\n",
    "        \n",
    "        # Preprocess\n",
    "        preprocess = preprocess()\n",
    "        tokenized_datasets = preprocess.run(dataset)\n",
    "        \n",
    "        test_dataloader = DataLoader(tokenized_datasets[\"test\"], \n",
    "                                      batch_size=32, \n",
    "                                      shuffle=True)\n",
    "\n",
    "        model = CustomXLMModel_v2()\n",
    "        device = 'cuda' if torch.cuda.is_available() else 'cpu'\n",
    "        model.load_state_dict(torch.load(self.model_path, map_location=torch.device(device)))\n",
    "\n",
    "        # Evaluate\n",
    "        pd_test = tqdm(len(test_dataloader))\n",
    "        val_loss = ScalarMetric()\n",
    "        val_loss_classifier = ScalarMetric()\n",
    "        val_loss_regressor = ScalarMetric()\n",
    "        val_acc = accuracy()\n",
    "        val_f1_score = f1_score()\n",
    "        val_r2_score = r2_score()\n",
    "        num = 0\n",
    "        correct = 0\n",
    "        result = None\n",
    "        model.eval()\n",
    "        for batch in test_dataloader:\n",
    "            inputs = {'input_ids': batch['input_ids'].to(device),\n",
    "                    'attention_mask': batch['attention_mask'].to(device)}\n",
    "            with torch.no_grad():\n",
    "                outputs_classifier, outputs_regressor = model(**inputs)\n",
    "                loss1 = loss_classifier(outputs_classifier, batch['labels_classifier'].to(device).float())\n",
    "                loss2 = loss_softmax(outputs_regressor, batch['labels_regressor'].to(device).float(), device)\n",
    "                loss = loss1 + loss2\n",
    "                outputs_classifier = outputs_classifier.cpu().numpy()\n",
    "                outputs_regressor = outputs_regressor.cpu().numpy()\n",
    "                outputs_regressor = outputs_regressor.argmax(axis=-1) + 1\n",
    "                y_true = batch['labels_regressor'].numpy()\n",
    "                outputs = pred_to_label(outputs_classifier, outputs_regressor)\n",
    "                result = np.concatenate([result, np.round(outputs)], axis=0) if result is not None else np.round(outputs)\n",
    "                val_loss_classifier.update(loss1.item())\n",
    "                val_loss_regressor.update(loss2.item())\n",
    "                val_loss.update(loss.item())\n",
    "                val_acc.update(np.round(outputs), y_true)\n",
    "                val_f1_score.update(np.round(outputs), y_true)\n",
    "                val_r2_score.update(np.round(outputs), y_true)\n",
    "                pb_test.update(1)\n",
    "                \n",
    "        F1_score = val_f1_score.compute()\n",
    "        R2_score = val_r2_score.compute()\n",
    "        Final_score = (F1_score * R2_score).sum()*1/6\n",
    "        \n",
    "        if Final_score > best_score:\n",
    "            best_score = Final_score\n",
    "            torch.save(model.state_dict(), os.path.join(get_proj_path(), 'weights', 'model.pt'))\n",
    "            \n",
    "        print(\"Test Loss:\", val_loss.compute(), \"Loss Classifier:\", val_loss_classifier.compute(), \"Loss Regressor:\", val_loss_regressor.compute())\n",
    "        print(\"Acc\", val_acc.compute())\n",
    "        print(\"F1_score\", F1_score)\n",
    "        print(\"R2_score\", R2_score)\n",
    "        print(\"Final_score\", Final_score)\n",
    "        print(\"Best_score\", best_score)"
   ]
  },
  {
   "cell_type": "code",
   "execution_count": null,
   "id": "528b643f-14f3-41a1-8bc0-1bed52b48de2",
   "metadata": {},
   "outputs": [],
   "source": []
  }
 ],
 "metadata": {
  "kernelspec": {
   "display_name": "Python 3 (ipykernel)",
   "language": "python",
   "name": "python3"
  },
  "language_info": {
   "codemirror_mode": {
    "name": "ipython",
    "version": 3
   },
   "file_extension": ".py",
   "mimetype": "text/x-python",
   "name": "python",
   "nbconvert_exporter": "python",
   "pygments_lexer": "ipython3",
   "version": "3.10.7"
  },
  "widgets": {
   "application/vnd.jupyter.widget-state+json": {
    "state": {},
    "version_major": 2,
    "version_minor": 0
   }
  }
 },
 "nbformat": 4,
 "nbformat_minor": 5
}
