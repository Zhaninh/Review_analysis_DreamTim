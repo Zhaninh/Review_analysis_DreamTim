{
 "cells": [
  {
   "cell_type": "code",
   "execution_count": 1,
   "id": "128ff8e4-9f7d-462a-a56a-e411805dcfe1",
   "metadata": {},
   "outputs": [
    {
     "name": "stderr",
     "output_type": "stream",
     "text": [
      "C:\\Users\\lemai\\AppData\\Local\\Programs\\Python\\Python310\\lib\\site-packages\\numpy\\_distributor_init.py:30: UserWarning: loaded more than 1 DLL from .libs:\n",
      "C:\\Users\\lemai\\AppData\\Local\\Programs\\Python\\Python310\\lib\\site-packages\\numpy\\.libs\\libopenblas.FB5AE2TYXYH2IJRDKGDGQ3XBKLKTF43H.gfortran-win_amd64.dll\n",
      "C:\\Users\\lemai\\AppData\\Local\\Programs\\Python\\Python310\\lib\\site-packages\\numpy\\.libs\\libopenblas64__v0.3.21-gcc_10_3_0.dll\n",
      "  warnings.warn(\"loaded more than 1 DLL from .libs:\"\n"
     ]
    }
   ],
   "source": [
    "from transformers import AdamW, get_scheduler\n",
    "from torch.utils.data import DataLoader\n",
    "from tqdm.auto import tqdm\n",
    "import numpy as np\n",
    "import torch\n",
    "import random\n",
    "from datasets import load_dataset"
   ]
  },
  {
   "cell_type": "code",
   "execution_count": 2,
   "id": "a2ce1b1e-669d-47d9-a168-abe970f4841d",
   "metadata": {},
   "outputs": [],
   "source": [
    "import nbimporter\n",
    "from utlis import *\n",
    "from preprocessing import preprocess\n",
    "from models import *"
   ]
  },
  {
   "cell_type": "raw",
   "id": "9ee7a307-ec6e-4e95-8451-019cbde14051",
   "metadata": {},
   "source": [
    "class evaluation():\n",
    "    def __init__(self):\n",
    "        self.data_path = get_test_path()\n",
    "        self.model_path = get_weight_path()\n",
    "        \n",
    "\n",
    "    def eval(self):\n",
    "        testset_path = get_test_path()\n",
    "\n",
    "        data_files = {'test': testset_path}\n",
    "\n",
    "        dataset = load_dataset('csv', data_files=data_files)\n",
    "        \n",
    "        # Preprocess\n",
    "        preprocess = preprocess()\n",
    "        tokenized_datasets = preprocess.run(dataset)\n",
    "        \n",
    "        test_dataloader = DataLoader(tokenized_datasets[\"test\"], \n",
    "                                      batch_size=32, \n",
    "                                      shuffle=True)\n",
    "\n",
    "        model = CustomXLMModel()\n",
    "        device = 'cuda' if torch.cuda.is_available() else 'cpu'\n",
    "        model.load_state_dict(torch.load(self.model_path, map_location=torch.device(device)))\n",
    "\n",
    "        # Evaluate\n",
    "        pd_test = tqdm(len(test_dataloader))\n",
    "        val_loss = ScalarMetric()\n",
    "        val_loss_classifier = ScalarMetric()\n",
    "        val_loss_regressor = ScalarMetric()\n",
    "        val_acc = accuracy()\n",
    "        val_f1_score = f1_score()\n",
    "        val_r2_score = r2_score()\n",
    "        num = 0\n",
    "        correct = 0\n",
    "        result = None\n",
    "        model.eval()\n",
    "        for batch in test_dataloader:\n",
    "            inputs = {'input_ids': batch['input_ids'].to(device),\n",
    "                    'attention_mask': batch['attention_mask'].to(device)}\n",
    "            with torch.no_grad():\n",
    "                outputs_classifier, outputs_regressor = model(**inputs)\n",
    "                loss1 = loss_classifier(outputs_classifier, batch['labels_classifier'].to(device).float())\n",
    "                loss2 = loss_softmax(outputs_regressor, batch['labels_regressor'].to(device).float(), device)\n",
    "                loss = loss1 + loss2\n",
    "                outputs_classifier = outputs_classifier.cpu().numpy()\n",
    "                outputs_regressor = outputs_regressor.cpu().numpy()\n",
    "                outputs_regressor = outputs_regressor.argmax(axis=-1) + 1\n",
    "                y_true = batch['labels_regressor'].numpy()\n",
    "                outputs = pred_to_label(outputs_classifier, outputs_regressor)\n",
    "                result = np.concatenate([result, np.round(outputs)], axis=0) if result is not None else np.round(outputs)\n",
    "                val_loss_classifier.update(loss1.item())\n",
    "                val_loss_regressor.update(loss2.item())\n",
    "                val_loss.update(loss.item())\n",
    "                val_acc.update(np.round(outputs), y_true)\n",
    "                val_f1_score.update(np.round(outputs), y_true)\n",
    "                val_r2_score.update(np.round(outputs), y_true)\n",
    "                pb_test.update(1)\n",
    "                \n",
    "        F1_score = val_f1_score.compute()\n",
    "        R2_score = val_r2_score.compute()\n",
    "        Final_score = (F1_score * R2_score).sum()*1/6\n",
    "        \n",
    "        if Final_score > best_score:\n",
    "            best_score = Final_score\n",
    "            \n",
    "        print(\"Test Loss:\", val_loss.compute(), \"Loss Classifier:\", val_loss_classifier.compute(), \"Loss Regressor:\", val_loss_regressor.compute())\n",
    "        print(\"Acc\", val_acc.compute())\n",
    "        print(\"F1_score\", F1_score)\n",
    "        print(\"R2_score\", R2_score)\n",
    "        print(\"Final_score\", Final_score)\n",
    "        print(\"Best_score\", best_score)"
   ]
  },
  {
   "cell_type": "code",
   "execution_count": null,
   "id": "528b643f-14f3-41a1-8bc0-1bed52b48de2",
   "metadata": {},
   "outputs": [
    {
     "data": {
      "application/vnd.jupyter.widget-view+json": {
       "model_id": "c2bf7a2ff36e482c8496b1a711284c73",
       "version_major": 2,
       "version_minor": 0
      },
      "text/plain": [
       "Map:   0%|          | 0/969 [00:00<?, ? examples/s]"
      ]
     },
     "metadata": {},
     "output_type": "display_data"
    },
    {
     "data": {
      "application/vnd.jupyter.widget-view+json": {
       "model_id": "c243cd4008e74a6da333dd59189927bb",
       "version_major": 2,
       "version_minor": 0
      },
      "text/plain": [
       "Map:   0%|          | 0/969 [00:00<?, ? examples/s]"
      ]
     },
     "metadata": {},
     "output_type": "display_data"
    },
    {
     "data": {
      "application/vnd.jupyter.widget-view+json": {
       "model_id": "f23a9b0f17ed452dbc34bc8c5e82aba4",
       "version_major": 2,
       "version_minor": 0
      },
      "text/plain": [
       "Map:   0%|          | 0/969 [00:00<?, ? examples/s]"
      ]
     },
     "metadata": {},
     "output_type": "display_data"
    },
    {
     "data": {
      "application/vnd.jupyter.widget-view+json": {
       "model_id": "84f0755b00674565b65f5077b116a62a",
       "version_major": 2,
       "version_minor": 0
      },
      "text/plain": [
       "Map:   0%|          | 0/969 [00:00<?, ? examples/s]"
      ]
     },
     "metadata": {},
     "output_type": "display_data"
    },
    {
     "data": {
      "application/vnd.jupyter.widget-view+json": {
       "model_id": "23f6057e0d4a4398afddac8c0d6729f3",
       "version_major": 2,
       "version_minor": 0
      },
      "text/plain": [
       "Downloading model.safetensors:   0%|          | 0.00/1.12G [00:00<?, ?B/s]"
      ]
     },
     "metadata": {},
     "output_type": "display_data"
    }
   ],
   "source": [
    "class Evaluation:\n",
    "    def eval(self):\n",
    "        device = 'cuda' if torch.cuda.is_available() else 'cpu'\n",
    "\n",
    "        # Load test dataset\n",
    "        testset_path = get_test_path()\n",
    "        data_files = {'test': testset_path}\n",
    "        dataset = load_dataset('csv', data_files=data_files)\n",
    "\n",
    "        # Preprocess\n",
    "        prep = preprocess()\n",
    "        tokenized_datasets = prep.run(dataset)\n",
    "\n",
    "        test_dataloader = DataLoader(tokenized_datasets[\"test\"], \n",
    "                                      batch_size=32, \n",
    "                                      shuffle=True)\n",
    "\n",
    "        model = CustomXLMModel()\n",
    "        if get_weight_path() is not None:\n",
    "            model.load_state_dict(torch.load(get_weight_path(), map_location=torch.device(device)))\n",
    "            model.to(device)\n",
    "        else:\n",
    "            print(\"No weights.\")\n",
    "            return\n",
    "\n",
    "        # Initialize evaluation metrics\n",
    "        val_loss = ScalarMetric()\n",
    "        val_loss_classifier = ScalarMetric()\n",
    "        val_loss_regressor = ScalarMetric()\n",
    "        val_acc = accuracy()\n",
    "        val_f1_score = f1_score()\n",
    "        val_r2_score = r2_score()\n",
    "\n",
    "        result = None\n",
    "\n",
    "        model.eval()\n",
    "        for batch in tqdm(test_dataloader, desc=\"Evaluating\"):\n",
    "            inputs = {'input_ids': batch['input_ids'].to(device),\n",
    "                      'attention_mask': batch['attention_mask'].to(device)}\n",
    "            with torch.no_grad():\n",
    "                outputs_classifier, outputs_regressor = model(**inputs)\n",
    "                loss1 = loss_classifier(outputs_classifier, batch['labels_classifier'].to(device).float())\n",
    "                loss2 = loss_softmax(outputs_regressor, batch['labels_regressor'].to(device).float(), device)\n",
    "                loss = loss1 + loss2\n",
    "                outputs_classifier = outputs_classifier.cpu().numpy()\n",
    "                outputs_regressor = outputs_regressor.cpu().numpy()\n",
    "                outputs_regressor = outputs_regressor.argmax(axis=-1) + 1\n",
    "                y_true = batch['labels_regressor'].numpy()\n",
    "                outputs = pred_to_label(outputs_classifier, outputs_regressor)\n",
    "                result = np.concatenate([result, np.round(outputs)]) if result is not None else np.round(outputs)\n",
    "                val_loss_classifier.update(loss1.item())\n",
    "                val_loss_regressor.update(loss2.item())\n",
    "                val_loss.update(loss.item())\n",
    "                val_acc.update(np.round(outputs), y_true)\n",
    "                val_f1_score.update(np.round(outputs), y_true)\n",
    "                val_r2_score.update(np.round(outputs), y_true)\n",
    "\n",
    "        F1_score = val_f1_score.compute()\n",
    "        R2_score = val_r2_score.compute()\n",
    "        Final_score = (F1_score * R2_score).sum() / 6\n",
    "\n",
    "        print(\"Test Loss:\", val_loss.compute(), \"Loss Classifier:\", val_loss_classifier.compute(), \"Loss Regressor:\", val_loss_regressor.compute())\n",
    "        print(\"Acc\", val_acc.compute())\n",
    "        print(\"F1_score\", F1_score)\n",
    "        print(\"R2_score\", R2_score)\n",
    "        print(\"Final_score\", Final_score)\n",
    "\n",
    "# Sử dụng class Evaluation\n",
    "evaluator = Evaluation()\n",
    "evaluator.eval()"
   ]
  },
  {
   "cell_type": "code",
   "execution_count": null,
   "id": "96bfee19-88ec-4fb3-9deb-1298ac7c27a7",
   "metadata": {},
   "outputs": [],
   "source": []
  }
 ],
 "metadata": {
  "kernelspec": {
   "display_name": "Python 3 (ipykernel)",
   "language": "python",
   "name": "python3"
  },
  "language_info": {
   "codemirror_mode": {
    "name": "ipython",
    "version": 3
   },
   "file_extension": ".py",
   "mimetype": "text/x-python",
   "name": "python",
   "nbconvert_exporter": "python",
   "pygments_lexer": "ipython3",
   "version": "3.10.7"
  },
  "widgets": {
   "application/vnd.jupyter.widget-state+json": {
    "state": {
     "0468a811c8f84030affbbfb5bebc6632": {
      "model_module": "@jupyter-widgets/controls",
      "model_module_version": "2.0.0",
      "model_name": "HTMLModel",
      "state": {
       "layout": "IPY_MODEL_17d35ad8ca824fb49f1ceb02919eb5dc",
       "style": "IPY_MODEL_54737b18a2e143e4b588c8bbb732f746",
       "value": "Map: 100%"
      }
     },
     "05a9f6bae35c4355b0f76411678411b4": {
      "model_module": "@jupyter-widgets/base",
      "model_module_version": "2.0.0",
      "model_name": "LayoutModel",
      "state": {}
     },
     "0b6099ac2f5945c2a9075b777724c967": {
      "model_module": "@jupyter-widgets/base",
      "model_module_version": "2.0.0",
      "model_name": "LayoutModel",
      "state": {}
     },
     "0fd9fe495566422b9273a52a1f6d5e88": {
      "model_module": "@jupyter-widgets/controls",
      "model_module_version": "2.0.0",
      "model_name": "FloatProgressModel",
      "state": {
       "bar_style": "success",
       "layout": "IPY_MODEL_8833a3faf8024aea9a7b54f0310e69bc",
       "max": 969,
       "style": "IPY_MODEL_310eba69e5964623a41e5eafcae9d5af",
       "value": 969
      }
     },
     "1245177cf2b84efd9506cd973c729fbd": {
      "model_module": "@jupyter-widgets/base",
      "model_module_version": "2.0.0",
      "model_name": "LayoutModel",
      "state": {}
     },
     "13196f9ab6b64d9c9c20fdc9ddef62df": {
      "model_module": "@jupyter-widgets/controls",
      "model_module_version": "2.0.0",
      "model_name": "HTMLStyleModel",
      "state": {
       "description_width": "",
       "font_size": null,
       "text_color": null
      }
     },
     "16b22a0c25614c559cf332b6ece90f3c": {
      "model_module": "@jupyter-widgets/base",
      "model_module_version": "2.0.0",
      "model_name": "LayoutModel",
      "state": {}
     },
     "17d35ad8ca824fb49f1ceb02919eb5dc": {
      "model_module": "@jupyter-widgets/base",
      "model_module_version": "2.0.0",
      "model_name": "LayoutModel",
      "state": {}
     },
     "19a3da0226214152986bf3f2a36c7ebf": {
      "model_module": "@jupyter-widgets/controls",
      "model_module_version": "2.0.0",
      "model_name": "HTMLStyleModel",
      "state": {
       "description_width": "",
       "font_size": null,
       "text_color": null
      }
     },
     "1dd5bbc255254dc899189a7a22c576cc": {
      "model_module": "@jupyter-widgets/base",
      "model_module_version": "2.0.0",
      "model_name": "LayoutModel",
      "state": {}
     },
     "2188c962dd2d45b893c89592757ce397": {
      "model_module": "@jupyter-widgets/controls",
      "model_module_version": "2.0.0",
      "model_name": "HTMLModel",
      "state": {
       "layout": "IPY_MODEL_7678b8b73dd4459daf4fd68d5d87d661",
       "style": "IPY_MODEL_c72c1de6aa8d4a7fa8bf991355f8f2bc",
       "value": " 969/969 [00:00&lt;00:00, 3945.00 examples/s]"
      }
     },
     "23f6057e0d4a4398afddac8c0d6729f3": {
      "model_module": "@jupyter-widgets/controls",
      "model_module_version": "2.0.0",
      "model_name": "HBoxModel",
      "state": {
       "children": [
        "IPY_MODEL_e4bb5987fb01456faa646c7b4fbd40f9",
        "IPY_MODEL_433c20a3700747cfb308bdb9c5f0600e",
        "IPY_MODEL_ed8729bb18b047d49e003ce672acef72"
       ],
       "layout": "IPY_MODEL_250a9f12971648a7991416e89f4a500c"
      }
     },
     "250a9f12971648a7991416e89f4a500c": {
      "model_module": "@jupyter-widgets/base",
      "model_module_version": "2.0.0",
      "model_name": "LayoutModel",
      "state": {}
     },
     "310eba69e5964623a41e5eafcae9d5af": {
      "model_module": "@jupyter-widgets/controls",
      "model_module_version": "2.0.0",
      "model_name": "ProgressStyleModel",
      "state": {
       "description_width": ""
      }
     },
     "34e1af826ac54f65b824f2cbc7e6914c": {
      "model_module": "@jupyter-widgets/controls",
      "model_module_version": "2.0.0",
      "model_name": "HTMLModel",
      "state": {
       "layout": "IPY_MODEL_a882af7ec016407f986f699ca3788070",
       "style": "IPY_MODEL_7be4205362f94b8f87e6d450b8119f0f",
       "value": " 969/969 [00:17&lt;00:00, 59.72 examples/s]"
      }
     },
     "34f57af096ec419fa75f000779100edb": {
      "model_module": "@jupyter-widgets/base",
      "model_module_version": "2.0.0",
      "model_name": "LayoutModel",
      "state": {}
     },
     "38ca5c2c95134ee8ae3e7eee32d083a2": {
      "model_module": "@jupyter-widgets/controls",
      "model_module_version": "2.0.0",
      "model_name": "HTMLStyleModel",
      "state": {
       "description_width": "",
       "font_size": null,
       "text_color": null
      }
     },
     "3e156b2229144487b370d0247337144a": {
      "model_module": "@jupyter-widgets/base",
      "model_module_version": "2.0.0",
      "model_name": "LayoutModel",
      "state": {}
     },
     "3f48e062dafb4c399447daa9aa222477": {
      "model_module": "@jupyter-widgets/base",
      "model_module_version": "2.0.0",
      "model_name": "LayoutModel",
      "state": {}
     },
     "433c20a3700747cfb308bdb9c5f0600e": {
      "model_module": "@jupyter-widgets/controls",
      "model_module_version": "2.0.0",
      "model_name": "FloatProgressModel",
      "state": {
       "layout": "IPY_MODEL_dbc2dc8c656e4604b3b315a250f715bc",
       "max": 1115567652,
       "style": "IPY_MODEL_ad4dc342d2b74082aa752beaf5fec312",
       "value": 104857600
      }
     },
     "470ba23054fb430f9fb5374e5b2a1c83": {
      "model_module": "@jupyter-widgets/controls",
      "model_module_version": "2.0.0",
      "model_name": "HTMLStyleModel",
      "state": {
       "description_width": "",
       "font_size": null,
       "text_color": null
      }
     },
     "48b84ff851c44752bd97a00fb5e3476e": {
      "model_module": "@jupyter-widgets/base",
      "model_module_version": "2.0.0",
      "model_name": "LayoutModel",
      "state": {}
     },
     "4be7d7328c35465fa61b70e138cbd536": {
      "model_module": "@jupyter-widgets/controls",
      "model_module_version": "2.0.0",
      "model_name": "ProgressStyleModel",
      "state": {
       "description_width": ""
      }
     },
     "50aed97bc554488e81748f7fe060d54b": {
      "model_module": "@jupyter-widgets/controls",
      "model_module_version": "2.0.0",
      "model_name": "ProgressStyleModel",
      "state": {
       "description_width": ""
      }
     },
     "5333ae5fc3c84420af42bad0e98bc900": {
      "model_module": "@jupyter-widgets/controls",
      "model_module_version": "2.0.0",
      "model_name": "ProgressStyleModel",
      "state": {
       "description_width": ""
      }
     },
     "54737b18a2e143e4b588c8bbb732f746": {
      "model_module": "@jupyter-widgets/controls",
      "model_module_version": "2.0.0",
      "model_name": "HTMLStyleModel",
      "state": {
       "description_width": "",
       "font_size": null,
       "text_color": null
      }
     },
     "5b0b29703f5f4c3492ac569cad1f1251": {
      "model_module": "@jupyter-widgets/controls",
      "model_module_version": "2.0.0",
      "model_name": "HTMLModel",
      "state": {
       "layout": "IPY_MODEL_6f5509718eee4ed490bc3299289fb587",
       "style": "IPY_MODEL_a2d5dd2449fe4784915098b997ba4e28",
       "value": "Map: 100%"
      }
     },
     "630de26fab124116be7f5d83f6863e9e": {
      "model_module": "@jupyter-widgets/controls",
      "model_module_version": "2.0.0",
      "model_name": "HTMLModel",
      "state": {
       "layout": "IPY_MODEL_1245177cf2b84efd9506cd973c729fbd",
       "style": "IPY_MODEL_ade3db2af6d441709892db9c6f0bf13d",
       "value": " 969/969 [00:01&lt;00:00, 675.63 examples/s]"
      }
     },
     "698dff6d6f994d939ead85151312b3d6": {
      "model_module": "@jupyter-widgets/base",
      "model_module_version": "2.0.0",
      "model_name": "LayoutModel",
      "state": {}
     },
     "6f5509718eee4ed490bc3299289fb587": {
      "model_module": "@jupyter-widgets/base",
      "model_module_version": "2.0.0",
      "model_name": "LayoutModel",
      "state": {}
     },
     "70992a76352b48f7a504b4d1dde2af05": {
      "model_module": "@jupyter-widgets/controls",
      "model_module_version": "2.0.0",
      "model_name": "FloatProgressModel",
      "state": {
       "bar_style": "success",
       "layout": "IPY_MODEL_16b22a0c25614c559cf332b6ece90f3c",
       "max": 969,
       "style": "IPY_MODEL_5333ae5fc3c84420af42bad0e98bc900",
       "value": 969
      }
     },
     "7678b8b73dd4459daf4fd68d5d87d661": {
      "model_module": "@jupyter-widgets/base",
      "model_module_version": "2.0.0",
      "model_name": "LayoutModel",
      "state": {}
     },
     "7be4205362f94b8f87e6d450b8119f0f": {
      "model_module": "@jupyter-widgets/controls",
      "model_module_version": "2.0.0",
      "model_name": "HTMLStyleModel",
      "state": {
       "description_width": "",
       "font_size": null,
       "text_color": null
      }
     },
     "84f0755b00674565b65f5077b116a62a": {
      "model_module": "@jupyter-widgets/controls",
      "model_module_version": "2.0.0",
      "model_name": "HBoxModel",
      "state": {
       "children": [
        "IPY_MODEL_0468a811c8f84030affbbfb5bebc6632",
        "IPY_MODEL_0fd9fe495566422b9273a52a1f6d5e88",
        "IPY_MODEL_630de26fab124116be7f5d83f6863e9e"
       ],
       "layout": "IPY_MODEL_698dff6d6f994d939ead85151312b3d6"
      }
     },
     "88064abedd9e4923ae781440171cfe9b": {
      "model_module": "@jupyter-widgets/controls",
      "model_module_version": "2.0.0",
      "model_name": "HTMLModel",
      "state": {
       "layout": "IPY_MODEL_05a9f6bae35c4355b0f76411678411b4",
       "style": "IPY_MODEL_c1c5b5fab1894211bdac24a8cc1f6a07",
       "value": " 969/969 [00:00&lt;00:00, 2879.74 examples/s]"
      }
     },
     "8833a3faf8024aea9a7b54f0310e69bc": {
      "model_module": "@jupyter-widgets/base",
      "model_module_version": "2.0.0",
      "model_name": "LayoutModel",
      "state": {}
     },
     "88aae7da48384e75ad57566b1ff69b25": {
      "model_module": "@jupyter-widgets/controls",
      "model_module_version": "2.0.0",
      "model_name": "HTMLModel",
      "state": {
       "layout": "IPY_MODEL_3e156b2229144487b370d0247337144a",
       "style": "IPY_MODEL_13196f9ab6b64d9c9c20fdc9ddef62df",
       "value": "Map: 100%"
      }
     },
     "8a0199c194444fd68490192990595da8": {
      "model_module": "@jupyter-widgets/controls",
      "model_module_version": "2.0.0",
      "model_name": "HTMLModel",
      "state": {
       "layout": "IPY_MODEL_48b84ff851c44752bd97a00fb5e3476e",
       "style": "IPY_MODEL_38ca5c2c95134ee8ae3e7eee32d083a2",
       "value": "Map: 100%"
      }
     },
     "918eb356f13d4b07a34446d73b5d3eec": {
      "model_module": "@jupyter-widgets/controls",
      "model_module_version": "2.0.0",
      "model_name": "FloatProgressModel",
      "state": {
       "bar_style": "success",
       "layout": "IPY_MODEL_1dd5bbc255254dc899189a7a22c576cc",
       "max": 969,
       "style": "IPY_MODEL_4be7d7328c35465fa61b70e138cbd536",
       "value": 969
      }
     },
     "97b4c8f423f0406987cd5032df6a8f8f": {
      "model_module": "@jupyter-widgets/base",
      "model_module_version": "2.0.0",
      "model_name": "LayoutModel",
      "state": {}
     },
     "a2d5dd2449fe4784915098b997ba4e28": {
      "model_module": "@jupyter-widgets/controls",
      "model_module_version": "2.0.0",
      "model_name": "HTMLStyleModel",
      "state": {
       "description_width": "",
       "font_size": null,
       "text_color": null
      }
     },
     "a882af7ec016407f986f699ca3788070": {
      "model_module": "@jupyter-widgets/base",
      "model_module_version": "2.0.0",
      "model_name": "LayoutModel",
      "state": {}
     },
     "ad4dc342d2b74082aa752beaf5fec312": {
      "model_module": "@jupyter-widgets/controls",
      "model_module_version": "2.0.0",
      "model_name": "ProgressStyleModel",
      "state": {
       "description_width": ""
      }
     },
     "ade3db2af6d441709892db9c6f0bf13d": {
      "model_module": "@jupyter-widgets/controls",
      "model_module_version": "2.0.0",
      "model_name": "HTMLStyleModel",
      "state": {
       "description_width": "",
       "font_size": null,
       "text_color": null
      }
     },
     "b44be44868584324937e0775e9856f47": {
      "model_module": "@jupyter-widgets/controls",
      "model_module_version": "2.0.0",
      "model_name": "FloatProgressModel",
      "state": {
       "bar_style": "success",
       "layout": "IPY_MODEL_34f57af096ec419fa75f000779100edb",
       "max": 969,
       "style": "IPY_MODEL_50aed97bc554488e81748f7fe060d54b",
       "value": 969
      }
     },
     "b8271901eb97493e9b4fcae84a9c1f6b": {
      "model_module": "@jupyter-widgets/base",
      "model_module_version": "2.0.0",
      "model_name": "LayoutModel",
      "state": {}
     },
     "b94305ff351c4bfea7e686ecebefcfa3": {
      "model_module": "@jupyter-widgets/base",
      "model_module_version": "2.0.0",
      "model_name": "LayoutModel",
      "state": {}
     },
     "c1c5b5fab1894211bdac24a8cc1f6a07": {
      "model_module": "@jupyter-widgets/controls",
      "model_module_version": "2.0.0",
      "model_name": "HTMLStyleModel",
      "state": {
       "description_width": "",
       "font_size": null,
       "text_color": null
      }
     },
     "c243cd4008e74a6da333dd59189927bb": {
      "model_module": "@jupyter-widgets/controls",
      "model_module_version": "2.0.0",
      "model_name": "HBoxModel",
      "state": {
       "children": [
        "IPY_MODEL_8a0199c194444fd68490192990595da8",
        "IPY_MODEL_b44be44868584324937e0775e9856f47",
        "IPY_MODEL_2188c962dd2d45b893c89592757ce397"
       ],
       "layout": "IPY_MODEL_b8271901eb97493e9b4fcae84a9c1f6b"
      }
     },
     "c2bf7a2ff36e482c8496b1a711284c73": {
      "model_module": "@jupyter-widgets/controls",
      "model_module_version": "2.0.0",
      "model_name": "HBoxModel",
      "state": {
       "children": [
        "IPY_MODEL_5b0b29703f5f4c3492ac569cad1f1251",
        "IPY_MODEL_918eb356f13d4b07a34446d73b5d3eec",
        "IPY_MODEL_34e1af826ac54f65b824f2cbc7e6914c"
       ],
       "layout": "IPY_MODEL_3f48e062dafb4c399447daa9aa222477"
      }
     },
     "c72c1de6aa8d4a7fa8bf991355f8f2bc": {
      "model_module": "@jupyter-widgets/controls",
      "model_module_version": "2.0.0",
      "model_name": "HTMLStyleModel",
      "state": {
       "description_width": "",
       "font_size": null,
       "text_color": null
      }
     },
     "dbc2dc8c656e4604b3b315a250f715bc": {
      "model_module": "@jupyter-widgets/base",
      "model_module_version": "2.0.0",
      "model_name": "LayoutModel",
      "state": {}
     },
     "e4bb5987fb01456faa646c7b4fbd40f9": {
      "model_module": "@jupyter-widgets/controls",
      "model_module_version": "2.0.0",
      "model_name": "HTMLModel",
      "state": {
       "layout": "IPY_MODEL_97b4c8f423f0406987cd5032df6a8f8f",
       "style": "IPY_MODEL_19a3da0226214152986bf3f2a36c7ebf",
       "value": "Downloading model.safetensors:   9%"
      }
     },
     "ed8729bb18b047d49e003ce672acef72": {
      "model_module": "@jupyter-widgets/controls",
      "model_module_version": "2.0.0",
      "model_name": "HTMLModel",
      "state": {
       "layout": "IPY_MODEL_0b6099ac2f5945c2a9075b777724c967",
       "style": "IPY_MODEL_470ba23054fb430f9fb5374e5b2a1c83",
       "value": " 105M/1.12G [01:35&lt;16:00, 1.05MB/s]"
      }
     },
     "f23a9b0f17ed452dbc34bc8c5e82aba4": {
      "model_module": "@jupyter-widgets/controls",
      "model_module_version": "2.0.0",
      "model_name": "HBoxModel",
      "state": {
       "children": [
        "IPY_MODEL_88aae7da48384e75ad57566b1ff69b25",
        "IPY_MODEL_70992a76352b48f7a504b4d1dde2af05",
        "IPY_MODEL_88064abedd9e4923ae781440171cfe9b"
       ],
       "layout": "IPY_MODEL_b94305ff351c4bfea7e686ecebefcfa3"
      }
     }
    },
    "version_major": 2,
    "version_minor": 0
   }
  }
 },
 "nbformat": 4,
 "nbformat_minor": 5
}
