{
 "cells": [
  {
   "cell_type": "code",
   "execution_count": 1,
   "id": "15e77b4e-5412-4750-ab3d-50648facff22",
   "metadata": {},
   "outputs": [
    {
     "name": "stderr",
     "output_type": "stream",
     "text": [
      "C:\\Users\\lemai\\AppData\\Local\\Programs\\Python\\Python310\\lib\\site-packages\\numpy\\_distributor_init.py:30: UserWarning: loaded more than 1 DLL from .libs:\n",
      "C:\\Users\\lemai\\AppData\\Local\\Programs\\Python\\Python310\\lib\\site-packages\\numpy\\.libs\\libopenblas.FB5AE2TYXYH2IJRDKGDGQ3XBKLKTF43H.gfortran-win_amd64.dll\n",
      "C:\\Users\\lemai\\AppData\\Local\\Programs\\Python\\Python310\\lib\\site-packages\\numpy\\.libs\\libopenblas64__v0.3.21-gcc_10_3_0.dll\n",
      "  warnings.warn(\"loaded more than 1 DLL from .libs:\"\n"
     ]
    }
   ],
   "source": [
    "import torch.nn as nn\n",
    "import torch\n",
    "from transformers import AutoModel\n",
    "import nbimporter\n",
    "\n",
    "from preprocessing import preprocess\n",
    "from utlis import pred_to_label"
   ]
  },
  {
   "cell_type": "code",
   "execution_count": 2,
   "id": "e6df913f-853d-43c2-8497-399b0eccbf5a",
   "metadata": {},
   "outputs": [],
   "source": [
    "class ModelInference(nn.Module):\n",
    "    def __init__(self, tokenizer, rdrsegmenter, model_path, checkpoint=\"xlm-mlm-100-1280\", device=\"cpu\"):\n",
    "        super(ModelInference, self).__init__()\n",
    "        self.preprocess = Preprocess(tokenizer, rdrsegmenter)\n",
    "        self.model = CustomXLMModel()\n",
    "        self.device = device\n",
    "        self.model.load_state_dict(torch.load(model_path,map_location=torch.device(device)))\n",
    "        self.model.to(device)\n",
    "    \n",
    "    def predict(self, sample):\n",
    "        self.model.eval()\n",
    "        with torch.no_grad():\n",
    "            # Clean input, segment and tokenize\n",
    "            sample = self.preprocess.tokenize(sample)\n",
    "            inputs = {\"input_ids\": sample[\"input_ids\"].to(self.device),\n",
    "                        \"attention_mask\": sample[\"attention_mask\"].to(self.device)}\n",
    "\n",
    "            # Predict\n",
    "            outputs_classifier, outputs_regressor = self.model(**inputs)\n",
    "\n",
    "            # Convert to numpy array\n",
    "            outputs_classifier = outputs_classifier.cpu().numpy()\n",
    "            outputs_regressor = outputs_regressor.cpu().numpy()\n",
    "\n",
    "            # Get argmax each aspects\n",
    "            outputs_regressor = outputs_regressor.argmax(axis=-1) + 1\n",
    "\n",
    "            # Convert output to label\n",
    "            outputs = pred_to_label(outputs_classifier, outputs_regressor)\n",
    "        return outputs"
   ]
  },
  {
   "cell_type": "code",
   "execution_count": 3,
   "id": "6f8a6d47-f4bb-4dcd-a40d-692dc1bd4bf1",
   "metadata": {},
   "outputs": [],
   "source": [
    "class CustomXLMModel(nn.Module):\n",
    "    def __init__(self, num_classification_labels=6, num_regression_neurons=30):\n",
    "        super(CustomXLMModel, self).__init__()\n",
    "        # Load a pre-trained XLM model\n",
    "        self.model = AutoModel.from_pretrained(\"xlm-mlm-100-1280\")\n",
    "        \n",
    "        # Define layers\n",
    "        self.dropout = nn.Dropout(0.1)\n",
    "        self.classifier = nn.Linear(self.model.config.hidden_size * 4, num_classification_labels)\n",
    "        self.regressor = nn.Linear(self.model.config.hidden_size * 4, num_regression_neurons)\n",
    "\n",
    "    def forward(self, input_ids, attention_mask):\n",
    "        # Forward pass through XLM model\n",
    "        outputs = self.model(input_ids=input_ids, attention_mask=attention_mask)\n",
    "        outputs = torch.cat((outputs[2][-1][:, 0, ...], outputs[2][-2][:, 0, ...], outputs[2][-3][:, 0, ...], outputs[2][-4][:, 0, ...]), -1)\n",
    "        outputs = self.dropout(outputs)\n",
    "        outputs_classifier = self.classifier(outputs)\n",
    "        outputs_regressor = self.regressor(outputs)\n",
    "        outputs_classifier = torch.sigmoid(outputs_classifier)\n",
    "        outputs_regressor = outputs_regressor.view(-1, 6, 5)\n",
    "        return outputs_classifier, outputs_regressor"
   ]
  }
 ],
 "metadata": {
  "kernelspec": {
   "display_name": "Python 3 (ipykernel)",
   "language": "python",
   "name": "python3"
  },
  "language_info": {
   "codemirror_mode": {
    "name": "ipython",
    "version": 3
   },
   "file_extension": ".py",
   "mimetype": "text/x-python",
   "name": "python",
   "nbconvert_exporter": "python",
   "pygments_lexer": "ipython3",
   "version": "3.10.7"
  },
  "widgets": {
   "application/vnd.jupyter.widget-state+json": {
    "state": {},
    "version_major": 2,
    "version_minor": 0
   }
  }
 },
 "nbformat": 4,
 "nbformat_minor": 5
}
