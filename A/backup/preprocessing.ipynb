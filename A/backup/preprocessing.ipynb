{
 "cells": [
  {
   "cell_type": "code",
   "execution_count": 1,
   "id": "a2193909",
   "metadata": {},
   "outputs": [
    {
     "name": "stderr",
     "output_type": "stream",
     "text": [
      "C:\\Users\\lemai\\AppData\\Local\\Programs\\Python\\Python310\\lib\\site-packages\\numpy\\_distributor_init.py:30: UserWarning: loaded more than 1 DLL from .libs:\n",
      "C:\\Users\\lemai\\AppData\\Local\\Programs\\Python\\Python310\\lib\\site-packages\\numpy\\.libs\\libopenblas.FB5AE2TYXYH2IJRDKGDGQ3XBKLKTF43H.gfortran-win_amd64.dll\n",
      "C:\\Users\\lemai\\AppData\\Local\\Programs\\Python\\Python310\\lib\\site-packages\\numpy\\.libs\\libopenblas64__v0.3.21-gcc_10_3_0.dll\n",
      "  warnings.warn(\"loaded more than 1 DLL from .libs:\"\n",
      "[nltk_data] Downloading package stopwords to\n",
      "[nltk_data]     C:\\Users\\lemai\\AppData\\Roaming\\nltk_data...\n",
      "[nltk_data]   Package stopwords is already up-to-date!\n"
     ]
    }
   ],
   "source": [
    "import pandas as pd\n",
    "import numpy as np\n",
    "import matplotlib.pyplot as plt\n",
    "import re\n",
    "import nltk\n",
    "from nltk.corpus import stopwords\n",
    "nltk.download('stopwords')\n",
    "import os\n",
    "from transformers import AutoTokenizer\n",
    "from vncorenlp import VnCoreNLP\n",
    "from datasets import DatasetDict, Dataset"
   ]
  },
  {
   "cell_type": "code",
   "execution_count": 2,
   "id": "a4581693",
   "metadata": {},
   "outputs": [],
   "source": [
    "def rm_special_keys(review):\n",
    "    special_character = re.compile(\"�+\")\n",
    "    return special_character.sub(r'', review)\n",
    "\n",
    "def rm_punctuation(review):\n",
    "    punctuation = re.compile(r\"[!#$%&()*+;<=>?@[\\]^_`{|}~]+\")\n",
    "    return punctuation.sub(r\"\", review)\n",
    "\n",
    "def rm_emoji(review):\n",
    "    emoji_pattern = re.compile(\"[\"\n",
    "        u\"\\U0001F600-\\U0001F64F\"  # Emoticons\n",
    "        u\"\\U0001F300-\\U0001F5FF\"  # Symbols & Pictographs\n",
    "        u\"\\U0001F680-\\U0001F6FF\"  # Transport & Map Symbols\n",
    "        u\"\\U0001F700-\\U0001F77F\"  # Alchemical Symbols\n",
    "        u\"\\U0001F780-\\U0001F7FF\"  # Geometric Shapes Extended\n",
    "        u\"\\U0001F800-\\U0001F8FF\"  # Supplemental Arrows-C\n",
    "        u\"\\U0001F900-\\U0001F9FF\"  # Supplemental Symbols and Pictographs\n",
    "        u\"\\U0001FA00-\\U0001FA6F\"  # Chess Symbols\n",
    "        u\"\\U0001FA70-\\U0001FAFF\"  # Symbols and Pictographs Extended-A\n",
    "        u\"\\U0001F004-\\U0001F0CF\"  # Mahjong Tiles\n",
    "        u\"\\U0001F170-\\U0001F251\"  # Enclosed Characters\n",
    "        u\"\\U0001F300-\\U0001F9F9\"  # Additional symbols and emojis\n",
    "        u\"\\U00002702-\\U000027B0\"  # Dingbats\n",
    "        u\"\\U000024C2-\\U0001F251\"\n",
    "        \"]+\", flags=re.UNICODE)\n",
    "    text = emoji_pattern.sub(r'', review)\n",
    "    return text\n",
    "\n",
    "def rm_urls_paths(text):\n",
    "    # Define a regex pattern to match both URLs and file paths\n",
    "    url_pattern = r'https?[:]//\\S+|www\\.\\S+'\n",
    "    path_pattern = r'(?:(?:[a-z]:\\\\|\\\\\\\\|/)[^\\s|/]+(?:/[^\\s|/]+)*)'\n",
    "    combined_pattern = f'({url_pattern})|({path_pattern})'\n",
    "    cleaned_text = re.sub(combined_pattern, '', text)\n",
    "    return cleaned_text\n",
    "\n",
    "def normalize_annotatation(text):\n",
    "    khach_san = \"\\bkhach san ?|\\bksan ?|\\bks ?\"\n",
    "    return re.sub(\"\\bnv ?\", \"nhân viên\",re.sub(khach_san, \"khách sạn\", text))\n",
    "\n",
    "def rm_escape_characters(text):\n",
    "    cleaned_text = text.replace('\\r', '').replace('\\n', '').replace('\\t', '').replace('\\q', '').replace('\\w', '').replace('\\s', '')\n",
    "    return cleaned_text\n",
    "\n",
    "def clean_text(review):\n",
    "    cleaned_review = {\"Review\": rm_escape_characters(normalize_annotatation(rm_special_keys(rm_punctuation(rm_emoji(rm_urls_paths(review['Review'].lower()))))))}\n",
    "    return cleaned_review"
   ]
  },
  {
   "cell_type": "code",
   "execution_count": 3,
   "id": "83d6052c",
   "metadata": {},
   "outputs": [],
   "source": [
    "class preprocess():\n",
    "    def __init__(self):\n",
    "        self.tokenizer = AutoTokenizer.from_pretrained(\"xlm-mlm-100-1280\")\n",
    "        self.segmenter = VnCoreNLP(r\"D:\\FSoft\\Review_Ana\\Dream_Tim\\A\\vncorenlp\\VnCoreNLP-1.1.1.jar\", annotators=\"wseg\", max_heap_size='-Xmx500m')\n",
    "        self.feature = ['giai_tri', 'luu_tru', 'nha_hang', 'an_uong', 'di_chuyen', 'mua_sam']\n",
    "        \n",
    "    def segment(self, df):\n",
    "        return {\"Segment\": \" \".join([\" \".join(sen) for sen in self.segmenter.tokenize(df[\"Review\"])])}\n",
    "        \n",
    "    def tokenize(self, df):\n",
    "        return self.tokenizer(df[\"Segment\"], truncation=True, padding=True, max_length=165)\n",
    "    \n",
    "    def label(self, example):\n",
    "        return {'labels_regressor': np.array([example[i] for i in self.feature]),\n",
    "            'labels_classifier': np.array([int(example[i] != 0) for i in self.feature])}\n",
    "    \n",
    "    def rm_stopwords(self, text, remove_stopwords=True):\n",
    "        dir_path = r\"D:\\FSoft\\Review_Ana\\Dream_Tim\\A\"\n",
    "        stopword_path = os.path.join(dir_path, r\"vn_stopwords\\vietnamese-stopwords-dash.txt\")\n",
    "        with open(stopword_path, 'r', encoding='utf-8') as file:\n",
    "            stop_words = set(file.read().splitlines())    \n",
    "        words = text['Review'].split()\n",
    "        if remove_stopwords:\n",
    "            words = [word for word in words if word.lower() not in stop_words]\n",
    "        cleaned_text = ' '.join(words)\n",
    "        return {\"Review\": cleaned_text}\n",
    "        \n",
    "    def run(self, dataset):\n",
    "        dataset = dataset.map(clean_text)\n",
    "        dataset = dataset.map(self.segment)\n",
    "        dataset = dataset.map(self.tokenize, batched=True)\n",
    "        dataset = dataset.map(self.label)\n",
    "        dataset = dataset.map(self.rm_stopwords)\n",
    "        dataset.set_format(\"torch\")\n",
    "        \n",
    "        return dataset"
   ]
  },
  {
   "cell_type": "raw",
   "id": "214b81c2-a0d0-483f-ac3f-f5048a61aeaf",
   "metadata": {},
   "source": [
    "data_path = r\"D:\\FSoft\\Review_Ana\\Dream_Tim\\A\\datasets\\data_original\\Original-datasets.csv\"\n",
    "train_df = pd.read_csv(data_path)\n",
    "train_df"
   ]
  },
  {
   "cell_type": "raw",
   "id": "3d5e781b-8c63-4c33-b1d1-8f27f8155d53",
   "metadata": {},
   "source": [
    "new_value = 'Tôi bắt xe 7� chỗ đi từ sân bay về nhà.Thái độ của tài� xế không� vui vẻ khi đón chúng tôi.mặt thì nhăn nhó thái độ thì lơ lơ.gia đình đi \\r\\n7 người.tài xe mở cốp xe rồi để tôi tự xếp hành lý vào.sau đó dẹp lun 2 ghế sau để chất vali lên.5 người!!!@@ trong gia đình phải dồn vô ngồi ghế giữa. 2 người ngồi ghế trước.lên xe thì nóng.tôi yêu cầu tài xế%^& 😂 mở máy lạnh thì tài xế bảo cả sáng h()#% đậu ngoài nắng nên nóng.chạy\\r\\n 10p vẫn chưa thấy mở máy lạnh.mà#&^#&😂😂 trong xe nóng như cái lò 5 người ngồi chen nhau.hỏi tiếp thì không trả lời.sau đó mình yêu cầu nhiều quá mới kêu đang mở.về gần đến nhà mới thấy quạt nó thổi mát được xíu.ngồi trên xe 30p mà như cực hình.yêu cầu công ty xem xét lại thái độ làm việc của tài xế chạy xe 6898 lúc 10h sáng ngày 10 tháng 7.nghiêm túc phê bình.https://example.com or visit C:\\\\Documents\\\\file.txt. hoặc là www.example.com.vn'\n",
    "\n",
    "# Đặt giá trị mới cho hàng và cột cụ thể trong DataFrame\n",
    "train_df.at[7, 'Review']=new_value\n",
    "train_df.at[7, 'Review']"
   ]
  },
  {
   "cell_type": "raw",
   "id": "c31549ea-d5ef-4518-90f4-e6613e4af959",
   "metadata": {},
   "source": [
    "train_dataset = Dataset.from_pandas(train_df)\n",
    "\n",
    "# Tạo một DatasetDict mới\n",
    "dataset_dict = DatasetDict({\n",
    "    'train': train_dataset\n",
    "})\n",
    "dataset_dict['train']['Review'][7]"
   ]
  },
  {
   "cell_type": "raw",
   "id": "a4c64e37-2d55-4b57-b2b1-86bc07af9b0e",
   "metadata": {},
   "source": [
    "reviews_df = dataset_dict.copy()\n",
    "reviews_df"
   ]
  },
  {
   "cell_type": "raw",
   "id": "a0354549-222b-4835-ab1f-f52bed4ee6ec",
   "metadata": {},
   "source": [
    "prep = preprocess()\n",
    "tokenized_datasets = prep.run(dataset_dict)"
   ]
  },
  {
   "cell_type": "raw",
   "id": "67ae494d-831b-4503-8b69-b7963e06f48a",
   "metadata": {},
   "source": [
    "reviews_df['train']['Review'][7]"
   ]
  },
  {
   "cell_type": "raw",
   "id": "ec6d445b-b6e6-4d68-a402-2007f2491132",
   "metadata": {},
   "source": [
    "tokenized_datasets['train']['Review'][7]"
   ]
  },
  {
   "cell_type": "raw",
   "id": "d098c9e1-98d2-4ba5-9619-d9b0349e0a18",
   "metadata": {},
   "source": [
    "df = pd.DataFrame(tokenized_datasets['train'])"
   ]
  },
  {
   "cell_type": "raw",
   "id": "8c71beb1-ba67-47e1-b836-1d7396577b85",
   "metadata": {},
   "source": [
    "df"
   ]
  },
  {
   "cell_type": "raw",
   "id": "89d5ddf9-13d8-470d-a7f8-2678a522deed",
   "metadata": {},
   "source": [
    "df.iloc[0].input_ids"
   ]
  },
  {
   "cell_type": "raw",
   "id": "bce48ae8-2862-433e-9e1c-9235a6bd0195",
   "metadata": {},
   "source": [
    "review=1\n",
    "for i in range(len(df.iloc[review].input_ids)):\n",
    "    print(f'{df.iloc[review].input_ids[i]} ---> {prep.tokenizer.decode(df.iloc[0].input_ids[i])}')"
   ]
  },
  {
   "cell_type": "raw",
   "id": "8174f87b-a973-4a07-9ad4-adda15a8735f",
   "metadata": {},
   "source": [
    "df['labels_regressor'][3687]"
   ]
  },
  {
   "cell_type": "raw",
   "id": "90b81927-b3df-4813-a9b6-e1f9a1568281",
   "metadata": {},
   "source": [
    "df['labels_classifier'][3687]"
   ]
  }
 ],
 "metadata": {
  "kernelspec": {
   "display_name": "Python 3 (ipykernel)",
   "language": "python",
   "name": "python3"
  },
  "language_info": {
   "codemirror_mode": {
    "name": "ipython",
    "version": 3
   },
   "file_extension": ".py",
   "mimetype": "text/x-python",
   "name": "python",
   "nbconvert_exporter": "python",
   "pygments_lexer": "ipython3",
   "version": "3.10.7"
  },
  "widgets": {
   "application/vnd.jupyter.widget-state+json": {
    "state": {
     "054b79be0a8f472a92cefcaafc567ced": {
      "model_module": "@jupyter-widgets/controls",
      "model_module_version": "2.0.0",
      "model_name": "HTMLStyleModel",
      "state": {
       "description_width": "",
       "font_size": null,
       "text_color": null
      }
     },
     "07d2ed6a63c249b6a2f01d4346dbe82e": {
      "model_module": "@jupyter-widgets/base",
      "model_module_version": "2.0.0",
      "model_name": "LayoutModel",
      "state": {}
     },
     "08452c1ad6364b2f9d93fc947f7c6e6c": {
      "model_module": "@jupyter-widgets/controls",
      "model_module_version": "2.0.0",
      "model_name": "FloatProgressModel",
      "state": {
       "bar_style": "success",
       "layout": "IPY_MODEL_0ba557e37f094a698b5b2512ecff910a",
       "max": 3688,
       "style": "IPY_MODEL_35facafe36fd4bae8850a0bea4871193",
       "value": 3688
      }
     },
     "0b8e2be5784345f898ba493871061cf6": {
      "model_module": "@jupyter-widgets/controls",
      "model_module_version": "2.0.0",
      "model_name": "HBoxModel",
      "state": {
       "children": [
        "IPY_MODEL_a00af01f9510471cb7b353710de6148c",
        "IPY_MODEL_40168412a24e4ee3a150603cfbf3bb77",
        "IPY_MODEL_d4146c4d1c92485fbcc4c9e776b0254d"
       ],
       "layout": "IPY_MODEL_f516764523bc4127bbd4bcdd011ec31a"
      }
     },
     "0ba557e37f094a698b5b2512ecff910a": {
      "model_module": "@jupyter-widgets/base",
      "model_module_version": "2.0.0",
      "model_name": "LayoutModel",
      "state": {}
     },
     "0cec46b3dc034182a99faf3ef970de2b": {
      "model_module": "@jupyter-widgets/controls",
      "model_module_version": "2.0.0",
      "model_name": "ProgressStyleModel",
      "state": {
       "description_width": ""
      }
     },
     "1a11e9a2f1c144eba839fcf6b8fffe00": {
      "model_module": "@jupyter-widgets/base",
      "model_module_version": "2.0.0",
      "model_name": "LayoutModel",
      "state": {}
     },
     "1b417bd985a746d79bd63ac8d6dc2308": {
      "model_module": "@jupyter-widgets/controls",
      "model_module_version": "2.0.0",
      "model_name": "HTMLStyleModel",
      "state": {
       "description_width": "",
       "font_size": null,
       "text_color": null
      }
     },
     "272b088786b644609a86ca1dc0460ebf": {
      "model_module": "@jupyter-widgets/controls",
      "model_module_version": "2.0.0",
      "model_name": "HTMLModel",
      "state": {
       "layout": "IPY_MODEL_1a11e9a2f1c144eba839fcf6b8fffe00",
       "style": "IPY_MODEL_693b00d348c74e4bb0ef3def5b594aca",
       "value": "Map: 100%"
      }
     },
     "2d5f7491d3bc472aa43d15b3749b88f4": {
      "model_module": "@jupyter-widgets/controls",
      "model_module_version": "2.0.0",
      "model_name": "HTMLStyleModel",
      "state": {
       "description_width": "",
       "font_size": null,
       "text_color": null
      }
     },
     "31745ea0ef69464cb7d3e97b0e4c94e6": {
      "model_module": "@jupyter-widgets/base",
      "model_module_version": "2.0.0",
      "model_name": "LayoutModel",
      "state": {}
     },
     "35facafe36fd4bae8850a0bea4871193": {
      "model_module": "@jupyter-widgets/controls",
      "model_module_version": "2.0.0",
      "model_name": "ProgressStyleModel",
      "state": {
       "description_width": ""
      }
     },
     "386f13635e1f47cf88f21f4de9ccde2a": {
      "model_module": "@jupyter-widgets/controls",
      "model_module_version": "2.0.0",
      "model_name": "HTMLModel",
      "state": {
       "layout": "IPY_MODEL_3abbb0be245e4d738f195e6b7a9e8a7c",
       "style": "IPY_MODEL_2d5f7491d3bc472aa43d15b3749b88f4",
       "value": " 3688/3688 [00:38&lt;00:00, 99.81 examples/s]"
      }
     },
     "3abbb0be245e4d738f195e6b7a9e8a7c": {
      "model_module": "@jupyter-widgets/base",
      "model_module_version": "2.0.0",
      "model_name": "LayoutModel",
      "state": {}
     },
     "3b67c23b08734787be5fcabf934f92ac": {
      "model_module": "@jupyter-widgets/controls",
      "model_module_version": "2.0.0",
      "model_name": "HBoxModel",
      "state": {
       "children": [
        "IPY_MODEL_272b088786b644609a86ca1dc0460ebf",
        "IPY_MODEL_08452c1ad6364b2f9d93fc947f7c6e6c",
        "IPY_MODEL_56dbdf8351dc464c8b4fcc86e6f48b8a"
       ],
       "layout": "IPY_MODEL_a069d58f02004b0cb6a53f0ad0d8f072"
      }
     },
     "3cb121fe12e645d5b1cf583de3dbfdd5": {
      "model_module": "@jupyter-widgets/controls",
      "model_module_version": "2.0.0",
      "model_name": "HTMLStyleModel",
      "state": {
       "description_width": "",
       "font_size": null,
       "text_color": null
      }
     },
     "3d0aa0157c434b71828d566ee828112d": {
      "model_module": "@jupyter-widgets/base",
      "model_module_version": "2.0.0",
      "model_name": "LayoutModel",
      "state": {}
     },
     "3d9a5cb4bede46daae796e7d09fa9ee5": {
      "model_module": "@jupyter-widgets/controls",
      "model_module_version": "2.0.0",
      "model_name": "HTMLStyleModel",
      "state": {
       "description_width": "",
       "font_size": null,
       "text_color": null
      }
     },
     "3f2d8087bd034512aff39acf5581ed01": {
      "model_module": "@jupyter-widgets/base",
      "model_module_version": "2.0.0",
      "model_name": "LayoutModel",
      "state": {}
     },
     "40168412a24e4ee3a150603cfbf3bb77": {
      "model_module": "@jupyter-widgets/controls",
      "model_module_version": "2.0.0",
      "model_name": "FloatProgressModel",
      "state": {
       "bar_style": "success",
       "layout": "IPY_MODEL_c3d72da366ce44bbaf251a5ae0baeb09",
       "max": 3688,
       "style": "IPY_MODEL_8c8c9223ac8b4edea50ce0ba6fbb0106",
       "value": 3688
      }
     },
     "453a9ac5bd2444a3b537f1fdea5aa11d": {
      "model_module": "@jupyter-widgets/base",
      "model_module_version": "2.0.0",
      "model_name": "LayoutModel",
      "state": {}
     },
     "4775ad7703974bfba4ff7a4328bc10c7": {
      "model_module": "@jupyter-widgets/controls",
      "model_module_version": "2.0.0",
      "model_name": "HTMLModel",
      "state": {
       "layout": "IPY_MODEL_d85b7528ac344517b784fe3b7af759c5",
       "style": "IPY_MODEL_51a02d169e714e04b74c62ad9a92fc5c",
       "value": " 3688/3688 [00:00&lt;00:00, 4152.24 examples/s]"
      }
     },
     "51a02d169e714e04b74c62ad9a92fc5c": {
      "model_module": "@jupyter-widgets/controls",
      "model_module_version": "2.0.0",
      "model_name": "HTMLStyleModel",
      "state": {
       "description_width": "",
       "font_size": null,
       "text_color": null
      }
     },
     "56dbdf8351dc464c8b4fcc86e6f48b8a": {
      "model_module": "@jupyter-widgets/controls",
      "model_module_version": "2.0.0",
      "model_name": "HTMLModel",
      "state": {
       "layout": "IPY_MODEL_79d4c9fb7a97431cb2f37b2c92179cbb",
       "style": "IPY_MODEL_1b417bd985a746d79bd63ac8d6dc2308",
       "value": " 3688/3688 [00:05&lt;00:00, 728.90 examples/s]"
      }
     },
     "61f046fe410b476a85a368cc882200db": {
      "model_module": "@jupyter-widgets/controls",
      "model_module_version": "2.0.0",
      "model_name": "HTMLModel",
      "state": {
       "layout": "IPY_MODEL_3d0aa0157c434b71828d566ee828112d",
       "style": "IPY_MODEL_da87784d2f994b0cbf64b0a43ab545b3",
       "value": "Map: 100%"
      }
     },
     "693b00d348c74e4bb0ef3def5b594aca": {
      "model_module": "@jupyter-widgets/controls",
      "model_module_version": "2.0.0",
      "model_name": "HTMLStyleModel",
      "state": {
       "description_width": "",
       "font_size": null,
       "text_color": null
      }
     },
     "6b81073a2d334441818685e9bf083220": {
      "model_module": "@jupyter-widgets/controls",
      "model_module_version": "2.0.0",
      "model_name": "HBoxModel",
      "state": {
       "children": [
        "IPY_MODEL_d8e52336ab17405eafce186e0e7a1053",
        "IPY_MODEL_f1b3f1d97c674d5dbe75bf8cd38d4d1f",
        "IPY_MODEL_4775ad7703974bfba4ff7a4328bc10c7"
       ],
       "layout": "IPY_MODEL_3f2d8087bd034512aff39acf5581ed01"
      }
     },
     "6e3623dc053440339fcf7efe00a372cb": {
      "model_module": "@jupyter-widgets/controls",
      "model_module_version": "2.0.0",
      "model_name": "HBoxModel",
      "state": {
       "children": [
        "IPY_MODEL_61f046fe410b476a85a368cc882200db",
        "IPY_MODEL_e87a091bd96f4e1aaad3f9cb97275b40",
        "IPY_MODEL_8cff9cf557a7457bb12e535585c56797"
       ],
       "layout": "IPY_MODEL_dd575d2fca334293ac7066a8e48fb902"
      }
     },
     "79d4c9fb7a97431cb2f37b2c92179cbb": {
      "model_module": "@jupyter-widgets/base",
      "model_module_version": "2.0.0",
      "model_name": "LayoutModel",
      "state": {}
     },
     "7e9df784e9db4b10bf1e814a0791ac68": {
      "model_module": "@jupyter-widgets/controls",
      "model_module_version": "2.0.0",
      "model_name": "FloatProgressModel",
      "state": {
       "bar_style": "success",
       "layout": "IPY_MODEL_07d2ed6a63c249b6a2f01d4346dbe82e",
       "max": 3688,
       "style": "IPY_MODEL_0cec46b3dc034182a99faf3ef970de2b",
       "value": 3688
      }
     },
     "806188ebc41b49ab810d6fc53105d11b": {
      "model_module": "@jupyter-widgets/base",
      "model_module_version": "2.0.0",
      "model_name": "LayoutModel",
      "state": {}
     },
     "8c8c9223ac8b4edea50ce0ba6fbb0106": {
      "model_module": "@jupyter-widgets/controls",
      "model_module_version": "2.0.0",
      "model_name": "ProgressStyleModel",
      "state": {
       "description_width": ""
      }
     },
     "8cff9cf557a7457bb12e535585c56797": {
      "model_module": "@jupyter-widgets/controls",
      "model_module_version": "2.0.0",
      "model_name": "HTMLModel",
      "state": {
       "layout": "IPY_MODEL_ebd245859c3e47b7aafa30554c1d651b",
       "style": "IPY_MODEL_dbfb1cd2b2634b4987c3cb07cfc6c205",
       "value": " 3688/3688 [00:01&lt;00:00, 2769.37 examples/s]"
      }
     },
     "8d33d665e0764d80b3bb935c1f65c800": {
      "model_module": "@jupyter-widgets/controls",
      "model_module_version": "2.0.0",
      "model_name": "HTMLModel",
      "state": {
       "layout": "IPY_MODEL_453a9ac5bd2444a3b537f1fdea5aa11d",
       "style": "IPY_MODEL_b7398da222dc4034950729b959025e41",
       "value": "Map: 100%"
      }
     },
     "90737b857d704edeb50357bd71945f03": {
      "model_module": "@jupyter-widgets/base",
      "model_module_version": "2.0.0",
      "model_name": "LayoutModel",
      "state": {}
     },
     "952cdc3e8bff4797aa27860cabac062a": {
      "model_module": "@jupyter-widgets/controls",
      "model_module_version": "2.0.0",
      "model_name": "HBoxModel",
      "state": {
       "children": [
        "IPY_MODEL_8d33d665e0764d80b3bb935c1f65c800",
        "IPY_MODEL_7e9df784e9db4b10bf1e814a0791ac68",
        "IPY_MODEL_386f13635e1f47cf88f21f4de9ccde2a"
       ],
       "layout": "IPY_MODEL_31745ea0ef69464cb7d3e97b0e4c94e6"
      }
     },
     "a00af01f9510471cb7b353710de6148c": {
      "model_module": "@jupyter-widgets/controls",
      "model_module_version": "2.0.0",
      "model_name": "HTMLModel",
      "state": {
       "layout": "IPY_MODEL_d12acd1a6035479085180e7ec2af2357",
       "style": "IPY_MODEL_3d9a5cb4bede46daae796e7d09fa9ee5",
       "value": "Map: 100%"
      }
     },
     "a0577d77a488448a9f17c8ef55b59f9a": {
      "model_module": "@jupyter-widgets/base",
      "model_module_version": "2.0.0",
      "model_name": "LayoutModel",
      "state": {}
     },
     "a069d58f02004b0cb6a53f0ad0d8f072": {
      "model_module": "@jupyter-widgets/base",
      "model_module_version": "2.0.0",
      "model_name": "LayoutModel",
      "state": {}
     },
     "a4d5af7966494bdfb032c0e5d40ba96d": {
      "model_module": "@jupyter-widgets/controls",
      "model_module_version": "2.0.0",
      "model_name": "ProgressStyleModel",
      "state": {
       "description_width": ""
      }
     },
     "b7398da222dc4034950729b959025e41": {
      "model_module": "@jupyter-widgets/controls",
      "model_module_version": "2.0.0",
      "model_name": "HTMLStyleModel",
      "state": {
       "description_width": "",
       "font_size": null,
       "text_color": null
      }
     },
     "c3d72da366ce44bbaf251a5ae0baeb09": {
      "model_module": "@jupyter-widgets/base",
      "model_module_version": "2.0.0",
      "model_name": "LayoutModel",
      "state": {}
     },
     "c7ac9dde49564bd3a44865693416c06e": {
      "model_module": "@jupyter-widgets/controls",
      "model_module_version": "2.0.0",
      "model_name": "ProgressStyleModel",
      "state": {
       "description_width": ""
      }
     },
     "d12acd1a6035479085180e7ec2af2357": {
      "model_module": "@jupyter-widgets/base",
      "model_module_version": "2.0.0",
      "model_name": "LayoutModel",
      "state": {}
     },
     "d4146c4d1c92485fbcc4c9e776b0254d": {
      "model_module": "@jupyter-widgets/controls",
      "model_module_version": "2.0.0",
      "model_name": "HTMLModel",
      "state": {
       "layout": "IPY_MODEL_90737b857d704edeb50357bd71945f03",
       "style": "IPY_MODEL_3cb121fe12e645d5b1cf583de3dbfdd5",
       "value": " 3688/3688 [00:04&lt;00:00, 896.71 examples/s]"
      }
     },
     "d85b7528ac344517b784fe3b7af759c5": {
      "model_module": "@jupyter-widgets/base",
      "model_module_version": "2.0.0",
      "model_name": "LayoutModel",
      "state": {}
     },
     "d8e52336ab17405eafce186e0e7a1053": {
      "model_module": "@jupyter-widgets/controls",
      "model_module_version": "2.0.0",
      "model_name": "HTMLModel",
      "state": {
       "layout": "IPY_MODEL_f902af9650124ca58d7c3b4a9783e595",
       "style": "IPY_MODEL_054b79be0a8f472a92cefcaafc567ced",
       "value": "Map: 100%"
      }
     },
     "da87784d2f994b0cbf64b0a43ab545b3": {
      "model_module": "@jupyter-widgets/controls",
      "model_module_version": "2.0.0",
      "model_name": "HTMLStyleModel",
      "state": {
       "description_width": "",
       "font_size": null,
       "text_color": null
      }
     },
     "dbfb1cd2b2634b4987c3cb07cfc6c205": {
      "model_module": "@jupyter-widgets/controls",
      "model_module_version": "2.0.0",
      "model_name": "HTMLStyleModel",
      "state": {
       "description_width": "",
       "font_size": null,
       "text_color": null
      }
     },
     "dd575d2fca334293ac7066a8e48fb902": {
      "model_module": "@jupyter-widgets/base",
      "model_module_version": "2.0.0",
      "model_name": "LayoutModel",
      "state": {}
     },
     "e87a091bd96f4e1aaad3f9cb97275b40": {
      "model_module": "@jupyter-widgets/controls",
      "model_module_version": "2.0.0",
      "model_name": "FloatProgressModel",
      "state": {
       "bar_style": "success",
       "layout": "IPY_MODEL_806188ebc41b49ab810d6fc53105d11b",
       "max": 3688,
       "style": "IPY_MODEL_c7ac9dde49564bd3a44865693416c06e",
       "value": 3688
      }
     },
     "ebd245859c3e47b7aafa30554c1d651b": {
      "model_module": "@jupyter-widgets/base",
      "model_module_version": "2.0.0",
      "model_name": "LayoutModel",
      "state": {}
     },
     "f1b3f1d97c674d5dbe75bf8cd38d4d1f": {
      "model_module": "@jupyter-widgets/controls",
      "model_module_version": "2.0.0",
      "model_name": "FloatProgressModel",
      "state": {
       "bar_style": "success",
       "layout": "IPY_MODEL_a0577d77a488448a9f17c8ef55b59f9a",
       "max": 3688,
       "style": "IPY_MODEL_a4d5af7966494bdfb032c0e5d40ba96d",
       "value": 3688
      }
     },
     "f516764523bc4127bbd4bcdd011ec31a": {
      "model_module": "@jupyter-widgets/base",
      "model_module_version": "2.0.0",
      "model_name": "LayoutModel",
      "state": {}
     },
     "f902af9650124ca58d7c3b4a9783e595": {
      "model_module": "@jupyter-widgets/base",
      "model_module_version": "2.0.0",
      "model_name": "LayoutModel",
      "state": {}
     }
    },
    "version_major": 2,
    "version_minor": 0
   }
  }
 },
 "nbformat": 4,
 "nbformat_minor": 5
}
