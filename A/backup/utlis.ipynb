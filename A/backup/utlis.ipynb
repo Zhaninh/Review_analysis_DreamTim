{
 "cells": [
  {
   "cell_type": "code",
   "execution_count": 2,
   "id": "3b750248-800e-4c7c-93d1-01a9ae6e479b",
   "metadata": {},
   "outputs": [
    {
     "name": "stderr",
     "output_type": "stream",
     "text": [
      "C:\\Users\\lemai\\AppData\\Local\\Programs\\Python\\Python310\\lib\\site-packages\\numpy\\_distributor_init.py:30: UserWarning: loaded more than 1 DLL from .libs:\n",
      "C:\\Users\\lemai\\AppData\\Local\\Programs\\Python\\Python310\\lib\\site-packages\\numpy\\.libs\\libopenblas.FB5AE2TYXYH2IJRDKGDGQ3XBKLKTF43H.gfortran-win_amd64.dll\n",
      "C:\\Users\\lemai\\AppData\\Local\\Programs\\Python\\Python310\\lib\\site-packages\\numpy\\.libs\\libopenblas64__v0.3.21-gcc_10_3_0.dll\n",
      "  warnings.warn(\"loaded more than 1 DLL from .libs:\"\n"
     ]
    }
   ],
   "source": [
    "import numpy as np\n",
    "import os"
   ]
  },
  {
   "cell_type": "code",
   "execution_count": 2,
   "id": "139a1dd9-64ef-40ff-9324-2eb5da0db78f",
   "metadata": {},
   "outputs": [],
   "source": [
    "def pred_to_label(outputs_classifier, outputs_regressor):\n",
    "\t\"\"\"Convert output model to label. Get aspects have reliability >= 0.5\n",
    "\n",
    "\tArgs:\n",
    "\t\toutputs_classifier (numpy.array): Output classifier layer\n",
    "\t\toutputs_regressor (numpy.array): Output regressor layer\n",
    "\n",
    "\tReturns:\n",
    "\t\tpredicted label\n",
    "\t\"\"\"\n",
    "\tresult = np.zeros((outputs_classifier.shape[0], 6))\n",
    "\tmask = (outputs_classifier >= 0.5)\n",
    "\tresult[mask] = outputs_regressor[mask]\n",
    "\treturn result\n"
   ]
  },
  {
   "cell_type": "code",
   "execution_count": 11,
   "id": "34fd65b5-57bb-4f12-b031-0093b98b304d",
   "metadata": {},
   "outputs": [],
   "source": [
    "def get_proj_path():\n",
    "    A_dir = os.path.dirname(os.getcwd())\n",
    "    return A_dir"
   ]
  },
  {
   "cell_type": "code",
   "execution_count": 12,
   "id": "a3f6071c-7def-4697-a205-7dfe3052b702",
   "metadata": {},
   "outputs": [],
   "source": [
    "def save_split_dir(prep_train_df, prep_test_df):\n",
    "    A_dir = get_proj_path()\n",
    "    save_dir = os.path.join(A_dir, 'datasets', 'data_split')\n",
    "    train_dir = os.path.join(save_dir, r\"trainset.csv\")\n",
    "    test_dir = os.path.join(save_dir, r\"testset.csv\")\n",
    "\n",
    "    prep_train_df.to_csv(train_dir)\n",
    "    prep_test_df.to_csv(test_dir)"
   ]
  },
  {
   "cell_type": "code",
   "execution_count": 16,
   "id": "505ebbb4-ea16-4592-b6c2-6ca8fcb2e70c",
   "metadata": {},
   "outputs": [],
   "source": [
    "def get_train_dev_path():\n",
    "    A_dir = get_proj_path()\n",
    "    trainset_dir = os.path.join(A_dir, \"datasets\", \"data_split\", \"trainset.csv\")\n",
    "    devset_dir = os.path.join(A_dir, \"datasets\", \"data_split\", \"testset.csv\") \n",
    "    return trainset_dir, devset_dir"
   ]
  },
  {
   "cell_type": "code",
   "execution_count": 2,
   "id": "eee1abe2-10ee-4a5c-a139-d9cb79efa8fc",
   "metadata": {},
   "outputs": [],
   "source": [
    "def get_test_path():\n",
    "    A_dir = get_proj_path()\n",
    "    testset_path = os.path.join(A_dir, \"datasets\", \"private_test\", \"chall_02_private_test.csv\")\n",
    "    return testset_path"
   ]
  },
  {
   "cell_type": "code",
   "execution_count": null,
   "id": "8d412565-0c23-4537-bed7-c069e35becfd",
   "metadata": {},
   "outputs": [],
   "source": [
    "def get_weight_path():\n",
    "    A_dir = get_proj_path()\n",
    "    weights_dir = os.path.join(A_dir, \"weights\")\n",
    "    \n",
    "    # Get a list of all files in the \"weights\" directory with the appropriate filename format (e.g. *.h5 if you use Keras)\n",
    "    weight_files = glob.glob(os.path.join(weights_dir, '*.pt'))\n",
    "\n",
    "    if not weight_files:\n",
    "        return None\n",
    "\n",
    "    # Sort the list of files by date modified from new to old\n",
    "    weight_files.sort(key=os.path.getmtime, reverse=True)\n",
    "\n",
    "    # Get the latest weight file\n",
    "    latest_weight_path = weight_files[0]\n",
    "\n",
    "    return latest_weight_path"
   ]
  }
 ],
 "metadata": {
  "kernelspec": {
   "display_name": "Python 3 (ipykernel)",
   "language": "python",
   "name": "python3"
  },
  "language_info": {
   "codemirror_mode": {
    "name": "ipython",
    "version": 3
   },
   "file_extension": ".py",
   "mimetype": "text/x-python",
   "name": "python",
   "nbconvert_exporter": "python",
   "pygments_lexer": "ipython3",
   "version": "3.10.7"
  },
  "widgets": {
   "application/vnd.jupyter.widget-state+json": {
    "state": {},
    "version_major": 2,
    "version_minor": 0
   }
  }
 },
 "nbformat": 4,
 "nbformat_minor": 5
}
